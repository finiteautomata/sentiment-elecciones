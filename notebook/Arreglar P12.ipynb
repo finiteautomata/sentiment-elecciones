{
 "cells": [
  {
   "cell_type": "markdown",
   "metadata": {},
   "source": [
    "## Completar Página 12\n",
    "\n",
    "En esta notebook arreglamos los datos de Página12 que están mal bajados"
   ]
  },
  {
   "cell_type": "code",
   "execution_count": 1,
   "metadata": {},
   "outputs": [
    {
     "name": "stdout",
     "output_type": "stream",
     "text": [
      "Tenemos 810 noticias\n"
     ]
    }
   ],
   "source": [
    "import pandas as pd\n",
    "\n",
    "df = pd.read_excel(\"../data/pagina_12.xlsx\", header=0)\n",
    "\n",
    "print(f\"Tenemos {df.shape[0]} noticias\")"
   ]
  },
  {
   "cell_type": "code",
   "execution_count": 35,
   "metadata": {},
   "outputs": [],
   "source": [
    "df[\"titulo_arreglado\"] = df[\"titulo\"]"
   ]
  },
  {
   "cell_type": "code",
   "execution_count": 2,
   "metadata": {},
   "outputs": [
    {
     "data": {
      "text/plain": [
       "medio                                             pagina 12\n",
       "url       https://elplanetaurbano.com/2019/09/top-5-dest...\n",
       "fecha                                   2019-09-21 10:00:29\n",
       "titulo                            TOP 5 DESTINOS CANNÁBICOS\n",
       "Name: 0, dtype: object"
      ]
     },
     "execution_count": 2,
     "metadata": {},
     "output_type": "execute_result"
    }
   ],
   "source": [
    "df.iloc[0]"
   ]
  },
  {
   "cell_type": "markdown",
   "metadata": {},
   "source": [
    "Busquemos los índices incompletos"
   ]
  },
  {
   "cell_type": "code",
   "execution_count": 39,
   "metadata": {},
   "outputs": [
    {
     "data": {
      "application/vnd.jupyter.widget-view+json": {
       "model_id": "2252a8baea1d43b780ee81d7cce6ffaa",
       "version_major": 2,
       "version_minor": 0
      },
      "text/plain": [
       "HBox(children=(FloatProgress(value=0.0, max=810.0), HTML(value='')))"
      ]
     },
     "metadata": {},
     "output_type": "display_data"
    },
    {
     "name": "stdout",
     "output_type": "stream",
     "text": [
      "\n"
     ]
    }
   ],
   "source": [
    "from tqdm.auto import tqdm\n",
    "\n",
    "incomplete_idx = []\n",
    "\n",
    "for idx, row in tqdm(df.iterrows(), total=len(df)):\n",
    "    title = row[\"titulo\"]\n",
    "    if \"...\" in title:\n",
    "        incomplete_idx.append(idx)"
   ]
  },
  {
   "cell_type": "code",
   "execution_count": 40,
   "metadata": {},
   "outputs": [
    {
     "data": {
      "text/plain": [
       "368"
      ]
     },
     "execution_count": 40,
     "metadata": {},
     "output_type": "execute_result"
    }
   ],
   "source": [
    "len(incomplete_idx)"
   ]
  },
  {
   "cell_type": "markdown",
   "metadata": {},
   "source": [
    "Bajemos las noticias\n"
   ]
  },
  {
   "cell_type": "code",
   "execution_count": 5,
   "metadata": {},
   "outputs": [
    {
     "data": {
      "application/vnd.jupyter.widget-view+json": {
       "model_id": "61d4e7c66cf64e9786741aee5ba2bccc",
       "version_major": 2,
       "version_minor": 0
      },
      "text/plain": [
       "HBox(children=(FloatProgress(value=0.0, max=368.0), HTML(value='')))"
      ]
     },
     "metadata": {},
     "output_type": "display_data"
    },
    {
     "name": "stdout",
     "output_type": "stream",
     "text": [
      "\n"
     ]
    }
   ],
   "source": [
    "from newspaper import Article\n",
    "\n",
    "articles = {}\n",
    "\n",
    "for idx in tqdm(incomplete_idx):\n",
    "    row = df.loc[idx]\n",
    "    article = Article(row.url)\n",
    "    article.download()\n",
    "    article.parse()\n",
    "    \n",
    "    articles[idx] = article"
   ]
  },
  {
   "cell_type": "code",
   "execution_count": 6,
   "metadata": {},
   "outputs": [],
   "source": [
    "art = articles[3]"
   ]
  },
  {
   "cell_type": "code",
   "execution_count": 13,
   "metadata": {},
   "outputs": [
    {
     "data": {
      "text/plain": [
       "lxml.html.HtmlElement"
      ]
     },
     "execution_count": 13,
     "metadata": {},
     "output_type": "execute_result"
    }
   ],
   "source": [
    "type(art.clean_doc)"
   ]
  },
  {
   "cell_type": "code",
   "execution_count": 15,
   "metadata": {},
   "outputs": [
    {
     "data": {
      "text/plain": [
       "<Element html at 0x7efc6589a4f0>"
      ]
     },
     "execution_count": 15,
     "metadata": {},
     "output_type": "execute_result"
    }
   ],
   "source": [
    "doc = art.doc\n",
    "\n",
    "doc"
   ]
  },
  {
   "cell_type": "markdown",
   "metadata": {},
   "source": [
    "Lo meto en otra columna"
   ]
  },
  {
   "cell_type": "code",
   "execution_count": 36,
   "metadata": {},
   "outputs": [],
   "source": [
    "for idx in articles:\n",
    "    art = articles[idx]\n",
    "    title_meta = art.doc.cssselect('meta[property=\"og:title\"]')[0]\n",
    "    fixed_title = title_meta.get('content')\n",
    "    \n",
    "    df.loc[idx, \"titulo_arreglado\"] = fixed_title"
   ]
  },
  {
   "cell_type": "markdown",
   "metadata": {},
   "source": [
    "Lo salvamos!"
   ]
  },
  {
   "cell_type": "code",
   "execution_count": 42,
   "metadata": {},
   "outputs": [],
   "source": [
    "df.to_csv(\"../data/pagina_12_titulos_arreglados.csv\")"
   ]
  },
  {
   "cell_type": "markdown",
   "metadata": {},
   "source": [
    "## Corregir Excel original"
   ]
  },
  {
   "cell_type": "code",
   "execution_count": 45,
   "metadata": {},
   "outputs": [
    {
     "data": {
      "text/plain": [
       "InfoBAE                5956\n",
       "La Nación              4863\n",
       "Clarin                 4112\n",
       "Ambito Financiero      1739\n",
       "Cronista               1513\n",
       "La Izquierda Diario    1327\n",
       "Perfil                 1036\n",
       "Página 12               824\n",
       "Tiempo Argentino        712\n",
       "El Popular              346\n",
       "Prensa Obrera           192\n",
       "Name: medio, dtype: int64"
      ]
     },
     "execution_count": 45,
     "metadata": {},
     "output_type": "execute_result"
    }
   ],
   "source": [
    "\n",
    "todas_las_noticias = pd.read_excel(\"../data/TITULOS_SENTIMENT ANALYSIS.xlsx\", header=0, names=[\"medio\", \"fecha\", \"titulo\"])\n",
    "\n",
    "todas_las_noticias.medio.value_counts()"
   ]
  },
  {
   "cell_type": "markdown",
   "metadata": {},
   "source": [
    "Tenemos 824 noticias de P12 -- en el anterior teníamos 810"
   ]
  },
  {
   "cell_type": "code",
   "execution_count": 62,
   "metadata": {},
   "outputs": [
    {
     "name": "stdout",
     "output_type": "stream",
     "text": [
      "No pudimos encontrar Alberto Fernández en Salta: \"Voy a gobernar una Arg...\n",
      "No pudimos encontrar Macri en Belgrano con guión estricto: distribuyó le...\n",
      "No pudimos encontrar Alberto Fernández con Beatriz Sarlo: \"Cristina tuvo...\n",
      "No pudimos encontrar Nuevo DNU de Macri: \"Lo van a declarar inconstituci...\n",
      "No pudimos encontrar Macri en Santa Fe: \"Todos tuvimos que poner el homb...\n",
      "No pudimos encontrar Cornejo: \"¿Qué puta tienen que venir Macri o Albert...\n",
      "No pudimos encontrar Macri contra el aborto: \"Claramente a favor de las ...\n",
      "No pudimos encontrar Alberto Fernández le respondió a Macri por su tuit ...\n",
      "No pudimos encontrar Alberto Fernández: \"No podemos vivir en paz con est...\n",
      "No pudimos encontrar Macri, de besar un pie a decir que hay \"una pata so...\n",
      "No pudimos encontrar La \"Ley mentira\" que el macrismo impulsa en plena c...\n",
      "No pudimos encontrar Marocco: “Alberto Fernández en Salta acompaña al Fr...\n",
      "No pudimos encontrar Alberto Fernández: \"Macri deja un escenario similar...\n",
      "No pudimos encontrar Bolsonaro da por sentado que Macri perderá la elecc...\n",
      "No pudimos encontrar Ataque a militantes del Frente de Todos en San Isid...\n",
      "No pudimos encontrar Alberto Fernández y Pepe Mujica en el Nacional Buen...\n",
      "No pudimos encontrar Alberto Fernández sobre el papel de Macri en el deb...\n",
      "No pudimos encontrar Cristina Kirchner en El Calafate: \"Macri no será Ch...\n",
      "No pudimos encontrar El hashtag #Machirulo convirtió a Macri en tendenci...\n",
      "No pudimos encontrar La frase machista de Macri: una mirada desde el psi...\n",
      "No pudimos encontrar Pinedo confirmó el lobby macrista contra el aborto ...\n",
      "No pudimos encontrar Roberto Lavagna: \"La lluvia de inversiones se fue p...\n",
      "No pudimos encontrar Causa peajes: Macri, Dietrich, Iguacel y Dujovne, e...\n",
      "No pudimos encontrar Myriam Bregman: \"Macri debe rendir cuentas por la d...\n",
      "No pudimos encontrar Alejandro Fantino, la eliminación de Boca, Macri y ...\n",
      "No pudimos encontrar Alberto Fernández llamó a \"poner en marcha\" la unid...\n",
      "No pudimos encontrar Alberto Fernández: \"Vamos a cuidar los ahorros de l...\n",
      "No pudimos encontrar Los intendentes macristas, militantes del corte de ...\n",
      "No pudimos encontrar Alberto Fernández: \"Nacimos para ser la voz de los ...\n",
      "No pudimos encontrar Alberto Fernández y Cristina Kirchner en Mar del Pl...\n",
      "No pudimos encontrar El discurso de Alberto Fernández tras su triunfo en...\n"
     ]
    }
   ],
   "source": [
    "p12 = todas_las_noticias[todas_las_noticias[\"medio\"] == \"Página 12\"]\n",
    "\n",
    "\n",
    "for idx, row in p12.iterrows():\n",
    "    if \"...\" in row[\"titulo\"]:\n",
    "        try:\n",
    "            titulo_arreglado = df[df[\"titulo\"] == row[\"titulo\"]].iloc[0][\"titulo_arreglado\"]\n",
    "            \n",
    "            todas_las_noticias.loc[idx, \"titulo\"] = titulo_arreglado\n",
    "            #print(titulo_arreglado)\n",
    "        except IndexError:\n",
    "            print(f\"No pudimos encontrar {row['titulo']}\")\n"
   ]
  },
  {
   "cell_type": "code",
   "execution_count": 64,
   "metadata": {},
   "outputs": [],
   "source": [
    "todas_las_noticias.to_csv(\"../data/titulos.csv\")"
   ]
  },
  {
   "cell_type": "code",
   "execution_count": 66,
   "metadata": {},
   "outputs": [
    {
     "data": {
      "text/plain": [
       "InfoBAE                5956\n",
       "La Nación              4863\n",
       "Clarin                 4112\n",
       "Ambito Financiero      1739\n",
       "Cronista               1513\n",
       "La Izquierda Diario    1327\n",
       "Perfil                 1036\n",
       "Página 12               824\n",
       "Tiempo Argentino        712\n",
       "El Popular              346\n",
       "Prensa Obrera           192\n",
       "Name: medio, dtype: int64"
      ]
     },
     "execution_count": 66,
     "metadata": {},
     "output_type": "execute_result"
    }
   ],
   "source": [
    "todas_las_noticias[\"medio\"].value_counts()"
   ]
  },
  {
   "cell_type": "code",
   "execution_count": 67,
   "metadata": {},
   "outputs": [],
   "source": [
    "\n",
    "\n",
    "incomplete_idx = []\n",
    "new_p12 = todas_las_noticias[todas_las_noticias[\"medio\"] == \"Página 12\"]\n",
    "for idx, row in new_p12.iterrows():\n",
    "    if "
   ]
  },
  {
   "cell_type": "code",
   "execution_count": null,
   "metadata": {},
   "outputs": [],
   "source": []
  }
 ],
 "metadata": {
  "kernelspec": {
   "display_name": "Python 3",
   "language": "python",
   "name": "python3"
  },
  "language_info": {
   "codemirror_mode": {
    "name": "ipython",
    "version": 3
   },
   "file_extension": ".py",
   "mimetype": "text/x-python",
   "name": "python",
   "nbconvert_exporter": "python",
   "pygments_lexer": "ipython3",
   "version": "3.8.5"
  }
 },
 "nbformat": 4,
 "nbformat_minor": 4
}
