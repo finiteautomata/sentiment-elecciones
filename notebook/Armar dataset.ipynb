{
 "cells": [
  {
   "cell_type": "code",
   "execution_count": 1,
   "metadata": {
    "colab": {
     "base_uri": "https://localhost:8080/",
     "height": 241
    },
    "colab_type": "code",
    "id": "7q7v-6WLLYcK",
    "outputId": "4bd15a3c-a9c7-4817-9c69-29275ceb375c"
   },
   "outputs": [],
   "source": [
    "#pip install gdown\n",
    "#gdown -O base.xlsx https://drive.google.com/uc?id=1bK9s-Rcv6Ds-ZVkERuhk6ZvRvFPrDC52"
   ]
  },
  {
   "cell_type": "code",
   "execution_count": 2,
   "metadata": {
    "colab": {
     "base_uri": "https://localhost:8080/",
     "height": 425
    },
    "colab_type": "code",
    "id": "gsEwQOpHM-33",
    "outputId": "61b83096-39bf-469a-faf8-7a7b8983b643"
   },
   "outputs": [
    {
     "name": "stdout",
     "output_type": "stream",
     "text": [
      "Tenemos 22620 noticias\n"
     ]
    }
   ],
   "source": [
    "import pandas as pd\n",
    "\n",
    "diarios = [\n",
    "    \"CLARIN\",\n",
    "    \"PAGINA 12\",\n",
    "    \"LA NACION\",\n",
    "    \"INFOBAE\",\n",
    "    \"PERFIL\",\n",
    "    \"CRONISTA\",\n",
    "    \"TIEMPO ARGENTINO\",\n",
    "    \"AMBITO FINANCIERO\",\n",
    "    \"EL POPULAR\",\n",
    "    \"LID\",\n",
    "    \"PO ultima\",\n",
    "]\n",
    "\n",
    "\n",
    "df = pd.read_excel(\"../data/TITULOS_SENTIMENT ANALYSIS.xlsx\", header=0, names=[\"medio\", \"fecha\", \"titulo\"])\n",
    "\n",
    "print(f\"Tenemos {df.shape[0]} noticias\")"
   ]
  },
  {
   "cell_type": "code",
   "execution_count": 3,
   "metadata": {
    "colab": {
     "base_uri": "https://localhost:8080/",
     "height": 52
    },
    "colab_type": "code",
    "id": "UlGWnfwn2XzO",
    "outputId": "9d3a102e-ad76-4afc-d290-74674a7e365f"
   },
   "outputs": [
    {
     "name": "stdout",
     "output_type": "stream",
     "text": [
      "Requirement already satisfied: unidecode in /home/jmperez/.pyenv/versions/3.8.5/lib/python3.8/site-packages (1.1.1)\n",
      "\u001b[33mWARNING: You are using pip version 20.1.1; however, version 20.2.3 is available.\n",
      "You should consider upgrading via the '/home/jmperez/.pyenv/versions/3.8.5/bin/python3.8 -m pip install --upgrade pip' command.\u001b[0m\n"
     ]
    },
    {
     "data": {
      "text/plain": [
       "'Centurion'"
      ]
     },
     "execution_count": 3,
     "metadata": {},
     "output_type": "execute_result"
    }
   ],
   "source": [
    "!pip install unidecode\n",
    "import unidecode\n",
    "\n",
    "unidecode.unidecode(\"Centurión\")"
   ]
  },
  {
   "cell_type": "code",
   "execution_count": 5,
   "metadata": {
    "colab": {
     "base_uri": "https://localhost:8080/",
     "height": 1000
    },
    "colab_type": "code",
    "id": "PdqjcbX-0RQK",
    "outputId": "7952a07d-cf5a-4af5-d297-d1f385d12007"
   },
   "outputs": [
    {
     "data": {
      "application/vnd.jupyter.widget-view+json": {
       "model_id": "89484ad01a264c8c98db0ce0941083f0",
       "version_major": 2,
       "version_minor": 0
      },
      "text/plain": [
       "HBox(children=(FloatProgress(value=0.0, max=22620.0), HTML(value='')))"
      ]
     },
     "metadata": {},
     "output_type": "display_data"
    },
    {
     "name": "stdout",
     "output_type": "stream",
     "text": [
      "\n"
     ]
    }
   ],
   "source": [
    "import spacy\n",
    "import unidecode\n",
    "from tqdm.auto import tqdm\n",
    "\n",
    "nlp = spacy.load('es_core_news_sm')\n",
    "# Van sin tilde\n",
    "\n",
    "palabras_clave = {\n",
    "    \"alberto\", \"macri\", \"mauricio\", \"cfk\", \"cristina\", \"caño\", \"espert\",\n",
    "    \"centurion\", \"pichetto\", \"pla\", \"pj\", \"peronismo\", \"fit\", \"izquierda\", \"cambiemos\",\n",
    "    \"cambio\", \"lavagna\", \"urtubey\", \"rosales\", \"hotton\"\n",
    "}\n",
    "\n",
    "\n",
    "important_indices = []\n",
    "\n",
    "for i, row in tqdm(df.iterrows(), total=len(df)):\n",
    "    #title = unidecode.unidecode(row[\"titulo\"].lower())\n",
    "    title = row[\"titulo\"]\n",
    "    if type(title) is not str:\n",
    "        continue\n",
    "    for tok in nlp(title):\n",
    "        if tok.text.lower() in palabras_clave:\n",
    "            #print(f\"{i} -- {tok.text} ---> {title}\")\n",
    "            important_indices.append(i)\n",
    "            break\n"
   ]
  },
  {
   "cell_type": "code",
   "execution_count": 6,
   "metadata": {
    "colab": {
     "base_uri": "https://localhost:8080/",
     "height": 34
    },
    "colab_type": "code",
    "id": "9c2FeajWKAcY",
    "outputId": "c662354b-b68f-4739-a3b7-adf107ce3ecb"
   },
   "outputs": [
    {
     "data": {
      "text/plain": [
       "2354"
      ]
     },
     "execution_count": 6,
     "metadata": {},
     "output_type": "execute_result"
    }
   ],
   "source": [
    "len(important_indices)"
   ]
  },
  {
   "cell_type": "code",
   "execution_count": 7,
   "metadata": {
    "colab": {
     "base_uri": "https://localhost:8080/",
     "height": 34
    },
    "colab_type": "code",
    "id": "ehuyMUL8oqqO",
    "outputId": "aba8a76a-e5d6-47e4-f25d-90ee463b6f0d"
   },
   "outputs": [
    {
     "data": {
      "text/plain": [
       "(2354, 3)"
      ]
     },
     "execution_count": 7,
     "metadata": {},
     "output_type": "execute_result"
    }
   ],
   "source": [
    "df_politico = df.loc[important_indices]\n",
    "df_politico.shape"
   ]
  },
  {
   "cell_type": "markdown",
   "metadata": {},
   "source": [
    "## Página 12\n",
    "\n",
    "Página 12 tiene los títulos rotos...veamos qué hacer"
   ]
  },
  {
   "cell_type": "code",
   "execution_count": 8,
   "metadata": {},
   "outputs": [],
   "source": [
    "pd.options.display.max_colwidth = 300"
   ]
  },
  {
   "cell_type": "code",
   "execution_count": 9,
   "metadata": {},
   "outputs": [
    {
     "data": {
      "text/plain": [
       "591      Caruso: “¿Que tiene para decir Macri en el debate que no haya dicho?”\n",
       "1326                              Macri en Belgrano por la ilusión del regreso\n",
       "1329                             Un problema capital para Juntos por el Cambio\n",
       "1331                    Alberto Fernández en Salta: \"Voy a gobernar una Arg...\n",
       "1335                    Macri en Belgrano con guión estricto: distribuyó le...\n",
       "                                         ...                                  \n",
       "20432                                        Macri confía en que Dios lo ayude\n",
       "20433                    Marcelo Tinelli se rió de los tuits de Mauricio Ma...\n",
       "21234                           El mensaje de Cristina Kirchner a los fiscales\n",
       "21924                                              Chile y el cambio climático\n",
       "21932                   El discurso de Alberto Fernández tras su triunfo en...\n",
       "Name: titulo, Length: 63, dtype: object"
      ]
     },
     "execution_count": 9,
     "metadata": {},
     "output_type": "execute_result"
    }
   ],
   "source": [
    "\n",
    "df_politico[df_politico.medio == \"Página 12\"].titulo\n",
    "\n"
   ]
  },
  {
   "cell_type": "code",
   "execution_count": 15,
   "metadata": {},
   "outputs": [
    {
     "data": {
      "text/plain": [
       "824"
      ]
     },
     "execution_count": 15,
     "metadata": {},
     "output_type": "execute_result"
    }
   ],
   "source": [
    "p12 = df[df.medio == \"Página 12\"]\n",
    "\n",
    "len(p12)"
   ]
  },
  {
   "cell_type": "code",
   "execution_count": null,
   "metadata": {},
   "outputs": [],
   "source": []
  },
  {
   "cell_type": "code",
   "execution_count": 16,
   "metadata": {},
   "outputs": [
    {
     "name": "stdout",
     "output_type": "stream",
     "text": [
      "57    -- Mi año de descanso y relajación: la novela crític...\n",
      "59    -- Llega \"Guasón\" de Todd Phillips con Joaquin Phoenix...\n",
      "61    -- La concepción conservador...\n",
      "879   -- MADAME NIELSEN EN EL FILBA: ALGO HUELE RARA EN DINA...\n",
      "880   -- Diego Marchionatti: \"En la escena musical no te pod...\n",
      "1321  -- En Mendoza el debate incluyó preguntas machistas y ...\n",
      "1322  -- Hugo Varela, para cambiar el humor en tiempos de cr...\n",
      "1325  -- El Estado argentino reconoció haber vulnerado los d...\n",
      "1331  -- Alberto Fernández en Salta: \"Voy a gobernar una Arg...\n",
      "1332  -- Masiva manifestación contra el calentamiento global...\n",
      "1333  -- Mundial de rugby: Los Pumas vencieron 28-12 a Tonga...\n",
      "1334  -- Jean-Noël Pancrazi: \"Se puede imaginar y decir la ...\n",
      "1335  -- Macri en Belgrano con guión estricto: distribuyó le...\n",
      "1337  -- Alberto Fernández con Beatriz Sarlo: \"Cristina tuvo...\n",
      "1338  -- Festival de San Sebastián: Brasil se llevó el premi...\n",
      "1339  -- River no perdonó y Maradona sumó su tercera derrota...\n",
      "1340  -- Elisa Carrió en Belgrano: \"Los pobres no tienen que...\n",
      "1341  -- Snowden: Estado y democracia en tiempos de big data...\n",
      "1342  -- Mario Ledesma: \"Entramos en una especie de espiral ...\n",
      "1849  -- “Las mil y una noches peronistas” convoca una nueva...\n",
      "1850  -- El peronismo en la nuca (postales de eso que va y v...\n",
      "1852  -- “Naturaleza moderna”, diario y testamento del cinea...\n",
      "1853  -- Llega el nuevo film de Richard Linklater protagoniz...\n",
      "1855  -- La literatura clásica para justificar la desigualda...\n",
      "1858  -- Lorrie Moore: \"Nunca tengo todo calculado en la esc...\n",
      "1861  -- El recital de Conduciendo a Conciencia, una cita de...\n",
      "1862  -- El recital de Conduciendo a Conciencia, una cita de...\n",
      "1874  -- Córdoba: está controlado el 60 por ciento de los in...\n",
      "1879  -- Francisco: \"el mundo es cada vez más cruel con los ...\n",
      "1881  -- Muerte en Vaca Muerta: \"Él no tendría que haber est...\n",
      "1882  -- M. John Harrison y Jonathan Lethem, diálogo en Buen...\n",
      "1886  -- El traspaso del puerto porteño en el despacho de Ro...\n",
      "2493  -- Daniel Melingo: \"Un creador necesita poder reinvent...\n",
      "2500  -- El seleccionado perdió de...\n",
      "2502  -- Mendoza: una victoria de la estrategia de esconder ...\n",
      "2503  -- “Ni Francia ni Alemania querían volver sobre su pas...\n",
      "2508  -- Nuevo DNU de Macri: \"Lo van a declarar inconstituci...\n",
      "2510  -- Femicidio en Hurlingham: \"El padre me dijo que siga...\n",
      "2511  -- Del Pase Cultural estudiantil a la cuarta de Vis a ...\n",
      "2513  -- El ministro reconoció qu...\n",
      "2515  -- Efraín Alegre: “Tenemos un neostronismo en Paraguay...\n",
      "2516  -- El contrainforme a la Correpi omitió los casos Mald...\n",
      "2519  -- Daniel de la Vega: \"El formato del misterio de cuar...\n",
      "2520  -- La Iglesia pagó 67 millones por el silencio de 338 ...\n",
      "3464  -- El Cuarteto de Nos: \"Somos muy observadores de la r...\n",
      "3470  -- María Laura Cali: \"Nos despidieron de un día para ...\n",
      "3471  -- Una APP de seguridad para el Encuentro Nacional de ...\n",
      "3472  -- Encuentro Nacional de Mujeres: tips para el autocui...\n",
      "3474  -- Vizcarra disolvió el Congreso de Perú y el fujimori...\n",
      "3475  -- Femicidio en Villa Tesei: mató a su hija, la enterr...\n",
      "3477  -- Germán Moldes presentó su renuncia como fiscal de C...\n",
      "3478  -- Concejala maltrató a un estudiante por ser peronis...\n",
      "3479  -- Carolina Chavarría lleva más de un mes desaparecida...\n",
      "3480  -- Casi 16 mil candidatos afrontan el tramo final de l...\n",
      "3481  -- PASO Salta: casi 16 mil candidatos afrontan el tram...\n",
      "3482  -- Los pilotos confirman el paro y Aerolíneas pide la ...\n",
      "3483  -- La Policía de la Ciudad permitió una misa evangélic...\n",
      "3491  -- Zuckerberg en pie guerra contra la precandidata pre...\n",
      "3493  -- Fuerte denuncia de Eleonora Cassano contra el Teatr...\n",
      "4379  -- Gianfranco Pasquino: \"Bolsonaro es un verdadero pel...\n",
      "4380  -- Superclásico: River le ganó 2-0 a Boca en la primer...\n",
      "4388  -- Otro freno de la Corte a la discrecionalidad de Mac...\n",
      "4389  -- La Correpi desnudó las mentiras del informe de Bull...\n",
      "4394  -- Las frases más desopilantes de la marcha de Juntos ...\n",
      "5141  -- Porno para principiantes, demasiado atada para se...\n",
      "5146  -- Messi y Barcelona se lo dieron vuelta al Inter de L...\n",
      "5151  -- Cómo y por qué se originó el ...\n",
      "5152  -- Domingo Mazzoni, el fiscal que colaboró con los tor...\n",
      "5153  -- Macri en Santa Fe: \"Todos tuvimos que poner el homb...\n",
      "5154  -- Cornejo: \"¿Qué puta tienen que venir Macri o Albert...\n",
      "5155  -- Sergio Varisco: Un narcoaporte para la campaña de C...\n",
      "5159  -- PASO Salta: Gustavo Sáenz le pegó a Leavy y se emoc...\n",
      "5161  -- Control de DNI en trenes: \"Hagan lo mismo en avione...\n",
      "5163  -- Soda Stereo: así será el homenaje de Charly Alberti...\n",
      "5164  -- Presentan amparo contra la baja de indemnizaciones ...\n",
      "5167  -- Echan mano a reservas \"intocables\" para pagar deuda...\n",
      "5170  -- Por una Buenos Aires para todxs, piden intelectua...\n",
      "5171  -- Lenin Moreno decreta \"estado de excepción\" para con...\n",
      "5172  -- Expo Cannabis: tres días de información, intercambi...\n",
      "5173  -- Mundial de Rugby: Argentina define todo ante Inglat...\n",
      "6078  -- ¿INVIABLE? Experiencias de una lesbiana en Formosa....\n",
      "6079  -- ¿INVIABLE? Experiencias de una lesbiana en Formosa....\n",
      "6081  -- Por qué seguimos a @DESMONDISAMAZING: un niño drag ...\n",
      "6083  -- La Manada: cuando el arte ensalza la violencia mach...\n",
      "6085  -- Costa Atlántica: comprobaron un fraude pesquero y l...\n",
      "6090  -- Un fiscal para procesar los escándalos financieros ...\n",
      "6092  -- Los jardines no están... pero van a enseñar inglés ...\n",
      "6094  -- Cannabis medicinal: una detención que lleva cien dí...\n",
      "6099  -- PASO Salta: Alfredo Olmedo, aprendiz de Bolsonaro ...\n",
      "6102  -- Condena al ginecólogo Rodríguez Lastra: un año y do...\n",
      "6106  -- La justicia porteña prohibió incinerar basura en Bu...\n",
      "6108  -- Rafael Correa: \"Nadie votó por el FMI ni por el aum...\n",
      "6112  -- Córdoba: obstáculos ilegales a la ligadura de tromp...\n",
      "6115  -- Horacio Zeballos, el doblista que sueña a lo grande...\n",
      "6116  -- Incineración de basura: elogios para el fallo que l...\n",
      "6890  -- Mariposas de Madera, invitación al vuelo sin atadur...\n",
      "6892  -- Baños, fiestas y exilios se reedita en Biblioteca...\n",
      "6894  -- Nicolás Burdisso: \"Tenemos que confiar en que podem...\n",
      "6895  -- Sarampión: seis nuevos casos en personas sin vacuna...\n",
      "6897  -- Superliga: Atlético Tucumán venció 2-1 a Talleres d...\n",
      "6898  -- Los Beatles vuelven al número 1 medio siglo después...\n",
      "6901  -- Argentinos se quedó con el duelo de cenicientas y e...\n",
      "6905  -- Macri contra el aborto: \"Claramente a favor de las ...\n",
      "7523  -- En \"Las lagunas\" Juanjo Conti combina novela negra ...\n",
      "7524  -- Llega \"Los Testamentos\", inevitable secuela de \"El ...\n",
      "7527  -- El librito neoliberal hizo explotar la inflación ...\n",
      "7528  -- Llega \"Springfield confidencial\" del guionista Mike...\n",
      "7529  -- Llega \"Springfield confidencial\" del guionista Mike...\n",
      "7533  -- María Onetto: \"El verbo que siempre me sale es arde...\n",
      "7536  -- Jacques Sémelin: \"el ejemplo de las Madres es siemp...\n",
      "7546  -- Otro simulacro de SmartMatic con críticas opositora...\n",
      "7548  -- Whitesnake y Europe celebraron sus 40 años de hard ...\n",
      "7552  -- King Crimson sin Adrian Belew, Adrian Belew sin Kin...\n",
      "7554  -- Martín Vizcarra sale fortalecido de la pelea con el...\n",
      "7558  -- Allyson Felix: otra mujer que cambia la historia de...\n",
      "7560  -- El socialista Costa ganó las elecciones en Portugal...\n",
      "7562  -- Santa Fe: ordenaron la detención del ex jefe de la ...\n",
      "8125  -- Superliga: Unión le ganó a Colón el clásico de Sant...\n",
      "8126  -- Alberto Fernández le respondió a Macri por su tuit ...\n",
      "8127  -- ¡No pasarán! ¡Rudylandia es de nosotros, las lilita...\n",
      "8131  -- Fabiola Yáñez: \"Este Gobierno no tiene empatía con ...\n",
      "8132  -- Rebelión contra el show de las subastas de bienes d...\n",
      "8133  -- El Papa contra el colonialismo por los incendios en...\n",
      "8134  -- Mundial de rugby: Ganó Francia y Los Pumas se queda...\n",
      "8135  -- Encuentro Nacional de Mujeres: \"Es una gran red que...\n",
      "8136  -- El Encuentro Nacional de Mujeres debate cambiar de...\n",
      "8137  -- Un Encuentro Nacional de Mujeres que promete ser bi...\n",
      "8139  -- El cannabis es una gran herramienta para tratar el...\n",
      "8140  -- PASO Salta: Leavy ganó en el norte salteño, pero no...\n",
      "8143  -- PASO Salta: los resultados en todos los municipios ...\n",
      "8145  -- Mario Wainfeld: \"La realidad es un rompecabezas muy...\n",
      "8146  -- Gustavo Fernández: \"De acá al final de mi carrera, ...\n",
      "8147  -- ¿Cómo pueden contribuir los lectores al periodismo ...\n",
      "8148  -- Analizan el rol del ex ministro de Economía, Nicolá...\n",
      "8149  -- Problema judicial para Nicolás Dujovne en la causa ...\n",
      "8150  -- Abuso sexual: la Justicia desestimó en 18 días una ...\n",
      "8941  -- Reeditan \"Ernie Pike\", historieta clave de Oesterhe...\n",
      "8942  -- Chubut: denuncian que un juez es perseguido por apl...\n",
      "8943  -- Vamos Que Venimos: les adolescentes suben a escena ...\n",
      "8944  -- Mundial de rugby: \"Con el respeto que me merecen, n...\n",
      "8946  -- Un perro acompaña a los chicos que deben testimonia...\n",
      "8948  -- Alberto Fernández: \"No podemos vivir en paz con est...\n",
      "8949  -- Premios Democracia, un reconocimiento al compromiso...\n",
      "8951  -- Robert Fripp: “Yo quería que este King Crimson regr...\n",
      "8955  -- Continúa \"Topografías literarias\" en el Goethe-Inst...\n",
      "8958  -- Daniel Saldaña París: \"Debemos pensar formas distin...\n",
      "8962  -- Ayudando a los amigos con \"la plata de los jubilado...\n",
      "8963  -- Macri, de besar un pie a decir que hay \"una pata so...\n",
      "8964  -- Donda criticó el control poblacional \"selectivo\" de...\n",
      "9915  -- Hugo Yasky: \"Necesitamos una CGT más fuerte y unida...\n",
      "9924  -- El médico policial negó haber filtrado las fotos de...\n",
      "9927  -- El Che Guevara, según Ricardo Piglia: escribir en l...\n",
      "9929  -- La Mesa del Agua quiere continuar con el trabajo ar...\n",
      "9930  -- Mundial de Rugby: los Pumas se despidieron con un t...\n",
      "9931  -- Lona “contribuyó al plan criminal del terrorismo de...\n",
      "9935  -- El concejal de Cambiemos que se quiere jubilar a lo...\n",
      "9936  -- Del Potro se entrena en Barcelona pensando en Estoc...\n",
      "9937  -- Lionel Messi: \"Tengo claro que quiero retirarme en ...\n",
      "9938  -- King Crimson abrió las puertas de su inframundo en ...\n",
      "9939  -- Luis Scola confirmó que jugará los Juegos Olímpicos...\n",
      "9940  -- Marcelo Boccanera, Esteban Morgado y Franco Luciani...\n",
      "9941  -- Carrió dispara en Twitter contra los \"traidores\" a ...\n",
      "9942  -- Los trece meses que estuve preso no me los va a de...\n",
      "10848 -- Mario Ledesma: \"La sensación que queda es un gusto ...\n",
      "10849 -- Se puede rescatar a 3,7 millones de indigentes sub...\n",
      "10850 -- La \"Ley mentira\" que el macrismo impulsa en plena c...\n",
      "10851 -- Rambo: Last Blood, un fiel exponente de la era Tr...\n",
      "10852 -- El pasado que nos une, con demasiados mazazos en ...\n",
      "10854 -- Bernd Schoch: \"Busco que el espectador se haga sus ...\n",
      "10856 -- Joker, el arte versus la sociología de las pasiones...\n",
      "10858 -- Próvolo: los peritos dicen que los relatos de los c...\n",
      "10860 -- Hoy es el debate de los candidatos a Jefe de Gobier...\n",
      "10862 -- Premio Nobel de Literatura para Olga Tokarczuk y Pe...\n",
      "10864 -- Marocco: “Alberto Fernández en Salta acompaña al Fr...\n",
      "10865 -- Alberto Fernández: \"Macri deja un escenario similar...\n",
      "10867 -- Loma Negra cierra la primera fábrica de cemento por...\n",
      "10868 -- Los pilotos que fumigan recomendaron no aplicar gli...\n",
      "10870 -- La \"broma\" de Guillermo Andino y la violencia obsté...\n",
      "10871 -- Bolsonaro da por sentado que Macri perderá la elecc...\n",
      "10872 -- Infantino: \"Gracias al VAR el fútbol es más bonito,...\n",
      "10874 -- Carlos Núñez: \"Se puede ser moderno sin desligarse ...\n",
      "10875 -- Más de 14 mil viviendas vacías en plena crisis habi...\n",
      "10876 -- Parir en cualquier lado, un caso emblemático de vio...\n",
      "10877 -- Correa pidió el adelantamiento de las elecciones en...\n",
      "10880 -- Conaie: el movimiento indígena que hace temblar a L...\n",
      "10881 -- El dueño de Guaymallén se quejó del precio del alfa...\n",
      "11814 -- Juan Stoppani & Jean Yves Lagavre: el arte de amar ...\n",
      "11816 -- El 34° Encuentro Plurinacional de Mujeres, Lesbiana...\n",
      "11817 -- Paula Ransenberg y Daniela Catz, entre Marie Curie ...\n",
      "11824 -- Debate a jefe de Gobierno porteño: cuatro candidato...\n",
      "11825 -- Debate porteño: cuatro candidatos con el libreto bi...\n",
      "11826 -- Mujeres indígenas de Tartagal denuncian violencia i...\n",
      "11827 -- Ataque a militantes del Frente de Todos en San Isid...\n",
      "11828 -- Polémica Messi-Piqué: \"El es el capitán y es con qu...\n",
      "11829 -- Sub 23: La Selección se mide con México en ciudad d...\n",
      "11831 -- Cómo recomponer los medios públicos tras el vaciami...\n",
      "11833 -- De la grilla de Lollapalooza 2020 al regreso de Tra...\n",
      "11834 -- Adolescentes sin WhatsApp por una broma que los dej...\n",
      "11835 -- Juan Grabois, Ernesto Tenembaum y el sesgo periodís...\n",
      "11836 -- El impresionante video de cómo la policía baleó al ...\n",
      "11837 -- Alberto Fernández y Pepe Mujica en el Nacional Buen...\n",
      "11838 -- Vecinos rechazan el festival a Güemes, pero permite...\n",
      "11839 -- Protestas contra el Nobel de Literatura a Peter Han...\n",
      "11840 -- Semillas: por qué las empresas quieren cambiar la l...\n",
      "11843 -- “Que Bolsonaro no firme el diploma es para mí un se...\n",
      "12507 -- Mariana Genesio: \"Pequeña Victoria aplica una inclu...\n",
      "12514 -- Condenaron al médico de la Federal que filtró las f...\n",
      "12516 -- Pedirán la reconstrucción de la muerte de Cristian ...\n",
      "12519 -- El Encuentro Nacional de Mujeres arrancó, a pesar d...\n",
      "12520 -- Un pasajero amenazado por grabar al programa \"ofens...\n",
      "12521 -- Piden la remoción del inverventor de la Defensoría ...\n",
      "12522 -- Piden la remoción del inverventor de la Defensoría ...\n",
      "12523 -- Mundial de rugby: Polémica por la suspensión de par...\n",
      "12524 -- Las urgencias del nuevo gobierno ...\n",
      "13167 -- Ian McEwan incursiona en la ciencia ficción con su ...\n",
      "13168 -- Estrellas (2007), de Federico León y Marcos Martíne...\n",
      "13169 -- Inundación, un ensayo híbrido de Eugenia Almeida ...\n",
      "13172 -- Liliana Heker publica un libro sobre el oficio de e...\n",
      "13173 -- Entrevista con Rodolfo García, mítico baterista de ...\n",
      "13177 -- Bajofondo: \"Esta vez nos propusimos volar sin atadu...\n",
      "13179 -- Políticas públicas en discapacidad, desde los DDHH ...\n",
      "13180 -- El partido de hoy de la Selección: Argentina vs. Ec...\n",
      "13181 -- Ecuador: Intransigencia, toque de queda y represión...\n",
      "13184 -- Graciela Villar: \"La trilogía Bachelet, Dilma y Cri...\n",
      "13193 -- River: Quintero y la Libertadores, una ilusión que ...\n",
      "13194 -- Con una convocatoria masiva empezó el 34 Encuentro ...\n",
      "13199 -- Noam Chomsky sobre la crisis del neoliberalismo en ...\n",
      "13201 -- Zicosur: advierten sobre los peligros de una integr...\n",
      "13203 -- Wichís y criollos quitaron alambrados que impiden s...\n",
      "13204 -- Elecciones en Chaco: cerraron las urnas y se espera...\n",
      "13205 -- Elecciones en Chaco: triunfo de Capitanich en prime...\n",
      "13206 -- El feminismo atraviesa mi militancia y quiero pode...\n",
      "13207 -- Evo Morales lidera los sondeos a una semana de las ...\n",
      "13887 -- Mirta Busnelli: \"No tengo otro remedio que buscar e...\n",
      "13891 -- Ricardo Forster: \"La humanidad nunca fue tan desigu...\n",
      "13892 -- “Cómo vivir contigo mismo”: el ataque de los clones...\n",
      "13893 -- Encuentro Nacional de Mujeres: Abya Yala, la asambl...\n",
      "13894 -- Debate presidencial: los cruces entre los candidato...\n",
      "13895 -- En el debate presidencial cada candidto eligió su a...\n",
      "13896 -- Derogan el recorte a los tratamientos para personas...\n",
      "13899 -- Una multitudinaria marcha coronó el 34 Encuentro Na...\n",
      "13900 -- Debate presidencial 2019: Primeras impresiones sobr...\n",
      "13903 -- Frecuencia Kirlian, animación argentina en Netflix ...\n",
      "13905 -- Alberto Fernández sobre el papel de Macri en el deb...\n",
      "13907 -- Cristina Kirchner en El Calafate: \"Macri no será Ch...\n",
      "13908 -- Festi Oktubre al Dente, una fiesta de la cultura ur...\n",
      "13909 -- El cierre de un Encuentro histórico, a estadio llen...\n",
      "14641 -- El Polo Educativo Mugica reclama mejores condicione...\n",
      "14643 -- Es necesario reparar el daño en las subjetividades...\n",
      "14646 -- Vamos a buscar una reactivación muy fuerte junto a...\n",
      "14647 -- Adiós a Harold Bloom, el crítico literario por anto...\n",
      "14648 -- Walsh siempre tuvo la virtud de sacar lo mejor de ...\n",
      "14649 -- Contrapuntos: el debate presidencial y el Encuentro...\n",
      "14656 -- El Encuentro Nacional de Mujeres y las fotos de las...\n",
      "14657 -- El hashtag #Machirulo convirtió a Macri en tendenci...\n",
      "15441 -- María Seoane y Gisela Marziotta: \"Perón entendió la...\n",
      "15442 -- María Luisa Carcedo: \"Hay que respetar la sentencia...\n",
      "15443 -- Pérez Esquivel: \"Defendemos la libertad de prensa, ...\n",
      "15446 -- Una semana de acampe indígena en el Ministerio del ...\n",
      "15448 -- El informe que la Comisión Provincial de la Memoria...\n",
      "15904 -- El 17 de octubre como cr...\n",
      "15905 -- El 17 de octubre como cr...\n",
      "15910 -- La frase machista de Macri: una mirada desde el psi...\n",
      "15911 -- Evo Morales: “Los nacionalizadores vamos a seguir g...\n",
      "15912 -- Nahuel Briones: \"Un género no define tu manera de c...\n",
      "15917 -- Pinedo confirmó el lobby macrista contra el aborto ...\n",
      "15918 -- Brexit: acuerdo entre el Reino Unido y la Unión Eur...\n",
      "15920 -- Más Asignación Universal por Hijo para combatir la ...\n",
      "15921 -- Messi: \"Seré el primero en decir hasta acá llegué\" ...\n",
      "15924 -- Pese a la pobreza y la inflación, Hernán Lombardi t...\n",
      "15925 -- La Corte desestimó el pedido del Gobierno en el fal...\n",
      "15926 -- El relato de la mujer que evitó la tragedia en el s...\n",
      "15933 -- En los asentamientos, los jóvenes se quedan a vivir...\n",
      "15934 -- Arrancó el juicio que puede definir el futuro de Lu...\n",
      "15936 -- Roberto Lavagna: \"La lluvia de inversiones se fue p...\n",
      "16525 -- ¿Recuerdan cuando Kate Winslet y Melanie Lynskey f...\n",
      "16526 -- ¿Qué es el encontrolazo? Una potencia que aglutina ...\n",
      "16527 -- Odiseas trans: el viaje y las tentaciones en format...\n",
      "16530 -- La despedida a Marcelo Zlotogwiazda de La Garganta ...\n",
      "16532 -- La palabra de Thelma Fardin y Actrices Argentinas: ...\n",
      "16534 -- Daniel Binelli estrena \"Encuentros\" junto a la Sinf...\n",
      "16535 -- La TV Pública alquiló su estacionamiento a un event...\n",
      "16536 -- Desde los territorios, entretejemos la red de la v...\n",
      "16541 -- Causa peajes: Macri, Dietrich, Iguacel y Dujovne, e...\n",
      "16545 -- En un mundo adultocentrista, el ser político es la ...\n",
      "16546 -- Procesaron a Luis María Blaquier por el manejo del ...\n",
      "16547 -- López Obrador habló sobre la liberación del hijo de...\n",
      "16549 -- Banqueros buscan marcarle la cancha al próximo gobi...\n",
      "17134 -- De Walsh a Bioy, las legendarias entrevistas de Mig...\n",
      "17135 -- Una biografía secreta, los cuentos de Carlos Dáma...\n",
      "17136 -- Se estrena \"Latinoamérica. Territorio en disputa\". ...\n",
      "17137 -- Se publica \"Serrat en la Argentina\" de Tamara Smerl...\n",
      "17702 -- El VAR antes del VAR: cuando Rogel sacó a Morete de...\n",
      "17705 -- Día del Derecho a la Identidad: Cuando la ciencia h...\n",
      "17706 -- Juan Álvarez Neme: \"Quería que el film fuera un jue...\n",
      "17713 -- ¿Qué pasa en Chile? Quiénes mienten, quiénes hablan...\n",
      "17714 -- La ANMAT prohibió marcas de cerveza, galletitas, ac...\n",
      "17715 -- Para Patricia Bullrich, en Chile hay una \"insurrecc...\n",
      "17716 -- Un Gobierno siempre listo para justificar la repres...\n",
      "17718 -- María Eugenia Vidal: \"No es relevante lo que piense...\n",
      "17719 -- Cigarrillo electrónico: confirman el primer caso gr...\n",
      "17721 -- Marco Enríquez-Ominami: \"No son 30 pesos de suba, s...\n",
      "17722 -- Julia Deck: “La normalidad es más peligrosa que la ...\n",
      "17723 -- No logran determinar el motivo de las heridas previ...\n",
      "17726 -- Elecciones en Bolivia: Evo Morales ofrece a la OEA ...\n",
      "18521 -- Emiliano Grieco: \"Aún falta conciencia sobre los ag...\n",
      "18523 -- Vacantes escolares: incertidumbre para miles de fam...\n",
      "18526 -- Piñera pidió perdón y anunció un paquete de medidas...\n",
      "18527 -- Boca fue sólo un susto y River es finalista de la L...\n",
      "18528 -- River sigue festejando ante Boca en la Copa Liberta...\n",
      "18532 -- De papelitos, nervios y selfies: lo que rodeó al Bo...\n",
      "18533 -- De papelitos, selfies e insultos: lo que rodeó al B...\n",
      "18535 -- Myriam Bregman: \"Macri debe rendir cuentas por la d...\n",
      "18537 -- Alejandro Fantino, la eliminación de Boca, Macri y ...\n",
      "18538 -- Alberto Fernández llamó a \"poner en marcha\" la unid...\n",
      "18540 -- Alberto Fernández: \"Vamos a cuidar los ahorros de l...\n",
      "18541 -- Denuncian recortes en el Instituto Biológico de La ...\n",
      "18542 -- Masiva movilización en Chile al grito de \"Piñera ya...\n",
      "18544 -- Chile: primera denuncia por torturas contra los Car...\n",
      "18546 -- Los estudiantes, los protagonistas de las protestas...\n",
      "18548 -- La insólita concepción de la democracia de María Eu...\n",
      "18550 -- Axel Kicillof: \"No se puede gobernar el país como u...\n",
      "18555 -- Lesa humanidad: revocaron el sobreseimiento de Raym...\n",
      "18556 -- Bárbara Figueroa, presidenta de la CUT: \"Fue una ma...\n",
      "18557 -- Baltazar Garzón: Carta abierta al presidente de Chi...\n",
      "19518 -- Stand Up villero: cronistas del conurbano profund...\n",
      "19521 -- El Estado reconoció que vulnera derechos de víctima...\n",
      "19523 -- Miles de kilómetros de rutas que nunca se hicieron ...\n",
      "19528 -- Final de la Libertadores: Flamengo será el rival de...\n",
      "19529 -- Los intendentes macristas, militantes del corte de ...\n",
      "19530 -- Asbesto: preocupación de estudiantes y docentes del...\n",
      "19531 -- Diez años de League of Legends, una pasión argentin...\n",
      "19532 -- Flamengo, el súper equipo al que debe vencer River ...\n",
      "19533 -- Julieta Venegas, Mariana Enríquez y el valor de la ...\n",
      "19534 -- Elecciones en Bolivia: Con casi el 100 por ciento s...\n",
      "19536 -- Alberto Fernández: \"Nacimos para ser la voz de los ...\n",
      "19537 -- Alberto Fernández y Cristina Kirchner en Mar del Pl...\n",
      "19540 -- Hablan los abogados de la llamada \"causa de los cua...\n",
      "19542 -- Con Banfield será difícil, afirmó Nery Domínguez ...\n",
      "20416 -- Los cuerpos-territorios en riesgo de las pibas del ...\n",
      "20424 -- FALTANTES DE HORMONAS PARA TRATAMIENTOS DE HORMONIZ...\n",
      "20425 -- El partido de hoy de la Copa Argentina: Independien...\n",
      "20428 -- El cierre de María Eugenia Vidal: Solo faltaron los...\n",
      "20433 -- Marcelo Tinelli se rió de los tuits de Mauricio Ma...\n",
      "20435 -- Confirman que una docente debe pagar por la muerte ...\n",
      "20437 -- Abusos sexuales en la infancia: falta abordaje inte...\n",
      "20438 -- Otra parte de la euforia: psicofármacos en la juven...\n",
      "20439 -- La foto del chico cubierto de petróleo en Brasil qu...\n",
      "20441 -- Gallardo: \"Las decisiones arbitrales fueron escanda...\n",
      "20442 -- The Offspring y Bad Religion, el sonido de la exper...\n",
      "20443 -- La situación es compleja, pero difícilmente pueda ...\n",
      "20444 -- Dieron por muerta a una mujer que \"resucitó\" en su ...\n",
      "20446 -- ¿Qué hacer con el dólar el día después de las elecc...\n",
      "20447 -- El Lenguas Vivas suspendió las clases por el asbest...\n",
      "21219 -- Nicolás Cabré: \"La actuación es una construcción co...\n",
      "21221 -- El Frente Amplio busca evitar un ballotage con la d...\n",
      "21225 -- Estudiantes piden que un colegio se llame Memoria, ...\n",
      "21231 -- Timochenko, último jefe de las FARC: “Volver a las ...\n",
      "21233 -- Elecciones 2019: cómo viven la previa los candidato...\n",
      "21912 -- Germán Gil y Rocío Otero investigaron en sendos lib...\n",
      "21914 -- No sólo dinero, sino también salud, educación y viv...\n",
      "21915 -- Medidas para la desdolarización de la economía arge...\n",
      "21917 -- En noviembre se estrena en Argentina la última de W...\n",
      "21919 -- Vicentico: \"No tengo que defender un carajo, ahí es...\n",
      "21920 -- Las nuevas tecnologías van a moldear nuestros pens...\n",
      "21921 -- Mundial de Rugby: Inglaterra dio el golpe y derrotó...\n",
      "21923 -- Es el mismo Piñera el que provoca el incendio soci...\n",
      "21925 -- Bielsa sobre Chile: \"Son un ejemplo para los países...\n",
      "21928 -- Elecciones 2019 en vivo: minuto a minuto la votació...\n",
      "21929 -- Elecciones 2019 en vivo: minuto a minuto la votació...\n",
      "21930 -- Elecciones 2019 en vivo: minuto a minuto la votació...\n",
      "21932 -- El discurso de Alberto Fernández tras su triunfo en...\n",
      "21933 -- Marcos Peña y las caras del PRO que anticipan los r...\n",
      "21935 -- Adiós al brujo de Boca: sus posibles reemplazantes ...\n"
     ]
    }
   ],
   "source": [
    "for idx, row in p12.iterrows():\n",
    "    if \"...\" in row.titulo:\n",
    "        print(f\"{idx:<5} -- {row.titulo}\")"
   ]
  },
  {
   "cell_type": "code",
   "execution_count": 31,
   "metadata": {},
   "outputs": [
    {
     "name": "stdout",
     "output_type": "stream",
     "text": [
      "Caruso: “¿Que tiene para decir Macri en el debate que no haya dicho?”\n",
      "Macri en Belgrano por la ilusión del regreso\n",
      "Un problema capital para Juntos por el Cambio\n",
      "Alberto Fernández en Salta: \"Voy a gobernar una Arg...\n",
      "Macri en Belgrano con guión estricto: distribuyó le...\n",
      "Alberto Fernández con Beatriz Sarlo: \"Cristina tuvo...\n",
      "El peronismo en la nuca (postales de eso que va y v...\n",
      "Alberto Fernández: \"Nos dejan tierra arrasada\"\n",
      "Felipe Pigna: “Macri ha renunciado al electorado más humilde”\n",
      "“Macri actuó a favor del capital concentrado y en contra de los trabajadores”\n",
      "Nuevo DNU de Macri: \"Lo van a declarar inconstituci...\n",
      "Macri con Vidal en Junín sin hablar de pobreza\n",
      "El cepo macrista no frena la fuga de reservas\n",
      "Macri inauguró una ruta sin terminar y al otro día echó a sus 40 trabajadores\n",
      "Taiana: “Macri nos tiene acostumbrados a no pegarla con la economía”\n",
      "Macri y una batería de medidas sin futuro\n",
      "Humor: La versión macrista de “Como Alí” con la que Lombardi hace pogo\n",
      "Macri en Santa Fe: \"Todos tuvimos que poner el homb...\n",
      "Cornejo: \"¿Qué puta tienen que venir Macri o Albert...\n",
      "Alberto Fernández defendió la educación pública\n",
      "Macri contra el aborto: \"Claramente a favor de las ...\n",
      "Macri mezcló a San Martín con el \"Sí se puede\"\n",
      "Alberto Fernández le respondió a Macri por su tuit ...\n",
      "Macri dice que él no dejó dispararse al dólar\n",
      "Alberto Fernández: \"No podemos vivir en paz con est...\n",
      "Manuela, la amiga bussista de Macri\n",
      "Macri, de besar un pie a decir que hay \"una pata so...\n",
      "El concejal de Cambiemos que se quiere jubilar a lo...\n",
      "La \"Ley mentira\" que el macrismo impulsa en plena c...\n",
      "Una denuncia para que Macri pague la deuda\n",
      "Marocco: “Alberto Fernández en Salta acompaña al Fr...\n",
      "Alberto Fernández: \"Macri deja un escenario similar...\n",
      "Bolsonaro da por sentado que Macri perderá la elecc...\n",
      "Macri en Salta: el mantra del “Sí se puede”\n",
      "Alberto Fernández y Pepe Mujica en el Nacional Buen...\n",
      "Kicillof exhortó a no hacerle caso a Macri\n",
      "El Plan de gobierno de 100 días del PJ\n",
      "Las encuestas son lapidarias con Macri\n",
      "Alberto Fernández sobre el papel de Macri en el deb...\n",
      "Cristina Kirchner en El Calafate: \"Macri no será Ch...\n",
      "Lavagna dijo que va a ser \"presidente o nada\"\n",
      "El dedo que se anticipó a Alberto Fernández\n",
      "El hashtag #Machirulo convirtió a Macri en tendenci...\n",
      "El Conicet desmintió a Macri\n",
      "Se presentó el Festival de Mar del Plata\n",
      "La frase machista de Macri: una mirada desde el psi...\n",
      "Pinedo confirmó el lobby macrista contra el aborto ...\n",
      "¿Quién es Ana Carmen Macri?\n",
      "Roberto Lavagna: \"La lluvia de inversiones se fue p...\n",
      "De la euforia con Macri no quedó ni el recuerdo\n",
      "Causa peajes: Macri, Dietrich, Iguacel y Dujovne, e...\n",
      "La clave para salir del pozo macrista\n",
      "El anuncio de Macri es la nada misma\n",
      "Perpetua para un femicida en Mar del Plata\n",
      "Macri debe rendir cuentas por la deuda externa\n",
      "Myriam Bregman: \"Macri debe rendir cuentas por la d...\n",
      "Alejandro Fantino, la eliminación de Boca, Macri y ...\n",
      "Alberto Fernández llamó a \"poner en marcha\" la unid...\n",
      "Alberto Fernández: \"Vamos a cuidar los ahorros de l...\n",
      "Gómez Centurión: \"Billetera mata pañuelo celeste\"\n",
      "Las marcas del macrismo en las políticas de memoria\n",
      "Los intendentes macristas, militantes del corte de ...\n",
      "Alberto Fernández: \"Nacimos para ser la voz de los ...\n",
      "Alberto Fernández y Cristina Kirchner en Mar del Pl...\n",
      "Macri y sus seis tips para el próximo domingo\n",
      "El cierre de Macri en Córdoba\n",
      "Macri confía en que Dios lo ayude\n",
      "Marcelo Tinelli se rió de los tuits de Mauricio Ma...\n",
      "El mensaje de Cristina Kirchner a los fiscales\n",
      "El discurso de Alberto Fernández tras su triunfo en...\n"
     ]
    }
   ],
   "source": [
    "for idx, row in p12.iterrows():\n",
    "    print(row.titulo)"
   ]
  },
  {
   "cell_type": "code",
   "execution_count": null,
   "metadata": {
    "colab": {
     "base_uri": "https://localhost:8080/",
     "height": 136
    },
    "colab_type": "code",
    "id": "gcpmDPo2GpYM",
    "outputId": "5761b983-ee61-47cb-bc08-154087b969dd"
   },
   "outputs": [
    {
     "data": {
      "text/plain": [
       "index                                                      1103\n",
       "url           https://www.clarin.com/politica/alberto-fernan...\n",
       "fecha                                       2019-10-03 00:00:00\n",
       "titulo        Alberto Fernández volvió a hablar del paro en ...\n",
       "texto         El candidato presidencial por el Frente de Tod...\n",
       "unnamed: 0                                                  NaN\n",
       "Name: 1101, dtype: object"
      ]
     },
     "execution_count": 67,
     "metadata": {
      "tags": []
     },
     "output_type": "execute_result"
    }
   ],
   "source": [
    "\n",
    "df_politico.iloc[100]"
   ]
  },
  {
   "cell_type": "code",
   "execution_count": null,
   "metadata": {
    "colab": {},
    "colab_type": "code",
    "id": "me5VfEaKgKxA"
   },
   "outputs": [],
   "source": [
    "pd.set_option(\"max_colwidth\", 300)\n",
    "pd.set_option(\"max_rows\", 300)\n",
    "\n",
    "df_politico.to_csv(\"dataset_noticias.csv\")"
   ]
  },
  {
   "cell_type": "code",
   "execution_count": null,
   "metadata": {
    "colab": {},
    "colab_type": "code",
    "id": "OJVg_vw7iKch"
   },
   "outputs": [],
   "source": []
  }
 ],
 "metadata": {
  "colab": {
   "collapsed_sections": [],
   "name": "Noticias Neuro",
   "provenance": [],
   "toc_visible": true
  },
  "kernelspec": {
   "display_name": "Python 3",
   "language": "python",
   "name": "python3"
  },
  "language_info": {
   "codemirror_mode": {
    "name": "ipython",
    "version": 3
   },
   "file_extension": ".py",
   "mimetype": "text/x-python",
   "name": "python",
   "nbconvert_exporter": "python",
   "pygments_lexer": "ipython3",
   "version": "3.8.5"
  }
 },
 "nbformat": 4,
 "nbformat_minor": 4
}
