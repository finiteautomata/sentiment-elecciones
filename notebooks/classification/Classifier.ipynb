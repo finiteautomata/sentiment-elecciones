{
 "cells": [
  {
   "cell_type": "markdown",
   "metadata": {},
   "source": [
    "## Targeted Classifier Experiment\n"
   ]
  },
  {
   "cell_type": "code",
   "execution_count": 1,
   "metadata": {},
   "outputs": [],
   "source": [
    "%load_ext autoreload\n",
    "%autoreload 2\n",
    "\n",
    "import sklearn\n",
    "import json\n",
    "\n",
    "\n",
    "with open(\"../../data/dataset.json\") as f:\n",
    "    data = json.load(f)\n"
   ]
  },
  {
   "cell_type": "markdown",
   "metadata": {},
   "source": [
    "## Exploratorio"
   ]
  },
  {
   "cell_type": "code",
   "execution_count": 2,
   "metadata": {},
   "outputs": [
    {
     "data": {
      "text/html": [
       "<div>\n",
       "<style scoped>\n",
       "    .dataframe tbody tr th:only-of-type {\n",
       "        vertical-align: middle;\n",
       "    }\n",
       "\n",
       "    .dataframe tbody tr th {\n",
       "        vertical-align: top;\n",
       "    }\n",
       "\n",
       "    .dataframe thead th {\n",
       "        text-align: right;\n",
       "    }\n",
       "</style>\n",
       "<table border=\"1\" class=\"dataframe\">\n",
       "  <thead>\n",
       "    <tr style=\"text-align: right;\">\n",
       "      <th></th>\n",
       "      <th>id</th>\n",
       "      <th>sentence</th>\n",
       "      <th>target</th>\n",
       "      <th>label</th>\n",
       "    </tr>\n",
       "  </thead>\n",
       "  <tbody>\n",
       "    <tr>\n",
       "      <th>0</th>\n",
       "      <td>23</td>\n",
       "      <td>Barrio Aeroclub: la Izquierda propone urbaniza...</td>\n",
       "      <td>la Izquierda</td>\n",
       "      <td>2</td>\n",
       "    </tr>\n",
       "    <tr>\n",
       "      <th>1</th>\n",
       "      <td>24</td>\n",
       "      <td>Elecciones municipales: el #FITUnidad busca fo...</td>\n",
       "      <td>la izquierda</td>\n",
       "      <td>2</td>\n",
       "    </tr>\n",
       "    <tr>\n",
       "      <th>2</th>\n",
       "      <td>31</td>\n",
       "      <td>[Videos] Mirá todos los spots del Frente de Iz...</td>\n",
       "      <td>Frente de Izquierda Unidad</td>\n",
       "      <td>1</td>\n",
       "    </tr>\n",
       "    <tr>\n",
       "      <th>3</th>\n",
       "      <td>39</td>\n",
       "      <td>Entre el milagro de Macri y la grieta del pero...</td>\n",
       "      <td>Macri</td>\n",
       "      <td>2</td>\n",
       "    </tr>\n",
       "    <tr>\n",
       "      <th>4</th>\n",
       "      <td>39</td>\n",
       "      <td>Entre el milagro de Macri y la grieta del pero...</td>\n",
       "      <td>peronismo</td>\n",
       "      <td>0</td>\n",
       "    </tr>\n",
       "    <tr>\n",
       "      <th>...</th>\n",
       "      <td>...</td>\n",
       "      <td>...</td>\n",
       "      <td>...</td>\n",
       "      <td>...</td>\n",
       "    </tr>\n",
       "    <tr>\n",
       "      <th>2369</th>\n",
       "      <td>22611</td>\n",
       "      <td>Resultados elecciones 2019: Alberto Fernández,...</td>\n",
       "      <td>Alberto Fernández</td>\n",
       "      <td>2</td>\n",
       "    </tr>\n",
       "    <tr>\n",
       "      <th>2370</th>\n",
       "      <td>22612</td>\n",
       "      <td>Elecciones 2019. La llamada de Macri a Alberto...</td>\n",
       "      <td>Macri</td>\n",
       "      <td>2</td>\n",
       "    </tr>\n",
       "    <tr>\n",
       "      <th>2371</th>\n",
       "      <td>22616</td>\n",
       "      <td>Video: el particular gesto de Cristina Kirchne...</td>\n",
       "      <td>Cristina Kirchner</td>\n",
       "      <td>1</td>\n",
       "    </tr>\n",
       "    <tr>\n",
       "      <th>2372</th>\n",
       "      <td>22617</td>\n",
       "      <td>Mauricio Macri hizo una gran campaña y Alberto...</td>\n",
       "      <td>Mauricio Macri</td>\n",
       "      <td>2</td>\n",
       "    </tr>\n",
       "    <tr>\n",
       "      <th>2373</th>\n",
       "      <td>22617</td>\n",
       "      <td>Mauricio Macri hizo una gran campaña y Alberto...</td>\n",
       "      <td>Alberto Fernández</td>\n",
       "      <td>0</td>\n",
       "    </tr>\n",
       "  </tbody>\n",
       "</table>\n",
       "<p>2374 rows × 4 columns</p>\n",
       "</div>"
      ],
      "text/plain": [
       "         id                                           sentence  \\\n",
       "0        23  Barrio Aeroclub: la Izquierda propone urbaniza...   \n",
       "1        24  Elecciones municipales: el #FITUnidad busca fo...   \n",
       "2        31  [Videos] Mirá todos los spots del Frente de Iz...   \n",
       "3        39  Entre el milagro de Macri y la grieta del pero...   \n",
       "4        39  Entre el milagro de Macri y la grieta del pero...   \n",
       "...     ...                                                ...   \n",
       "2369  22611  Resultados elecciones 2019: Alberto Fernández,...   \n",
       "2370  22612  Elecciones 2019. La llamada de Macri a Alberto...   \n",
       "2371  22616  Video: el particular gesto de Cristina Kirchne...   \n",
       "2372  22617  Mauricio Macri hizo una gran campaña y Alberto...   \n",
       "2373  22617  Mauricio Macri hizo una gran campaña y Alberto...   \n",
       "\n",
       "                          target  label  \n",
       "0                   la Izquierda      2  \n",
       "1                   la izquierda      2  \n",
       "2     Frente de Izquierda Unidad      1  \n",
       "3                          Macri      2  \n",
       "4                      peronismo      0  \n",
       "...                          ...    ...  \n",
       "2369           Alberto Fernández      2  \n",
       "2370                       Macri      2  \n",
       "2371           Cristina Kirchner      1  \n",
       "2372              Mauricio Macri      2  \n",
       "2373           Alberto Fernández      0  \n",
       "\n",
       "[2374 rows x 4 columns]"
      ]
     },
     "execution_count": 2,
     "metadata": {},
     "output_type": "execute_result"
    }
   ],
   "source": [
    "import pandas as pd\n",
    "\n",
    "label2id = {\n",
    "    \"NEG\": 0,\n",
    "    \"NEU\": 1,\n",
    "    \"POS\": 2\n",
    "}\n",
    "\n",
    "id2label = {v:k for k, v in label2id.items()}\n",
    "\n",
    "df = pd.DataFrame([{\n",
    "    \"id\": x[\"id\"],\n",
    "    \"sentence\": x[\"titulo\"],\n",
    "    \"target\": target,\n",
    "    \"label\": label2id[label],\n",
    "} for x in data for (target, label) in x[\"labels\"].items()])\n",
    "\n",
    "df"
   ]
  },
  {
   "cell_type": "code",
   "execution_count": 3,
   "metadata": {},
   "outputs": [
    {
     "data": {
      "text/plain": [
       "2    940\n",
       "1    742\n",
       "0    692\n",
       "Name: label, dtype: int64"
      ]
     },
     "execution_count": 3,
     "metadata": {},
     "output_type": "execute_result"
    }
   ],
   "source": [
    "df[\"label\"].value_counts()"
   ]
  },
  {
   "cell_type": "markdown",
   "metadata": {},
   "source": [
    "Bien, está dentro de todo equilibrado\n",
    "\n",
    "## Train test split\n",
    "\n",
    "Lo hago sobre el dataset. No sería mejor hacerlo por oraciones?"
   ]
  },
  {
   "cell_type": "code",
   "execution_count": 4,
   "metadata": {},
   "outputs": [
    {
     "data": {
      "text/plain": [
       "(1335, 445, 594)"
      ]
     },
     "execution_count": 4,
     "metadata": {},
     "output_type": "execute_result"
    }
   ],
   "source": [
    "from sklearn.model_selection import train_test_split\n",
    "\n",
    "train_data, test_data = train_test_split(df, random_state=2021, stratify=df[\"label\"])\n",
    "\n",
    "train_data, dev_data = train_test_split(train_data, random_state=2021, stratify=train_data[\"label\"])\n",
    "\n",
    "len(train_data), len(dev_data), len(test_data)"
   ]
  },
  {
   "cell_type": "markdown",
   "metadata": {},
   "source": [
    "## Armar dataset"
   ]
  },
  {
   "cell_type": "code",
   "execution_count": 5,
   "metadata": {},
   "outputs": [],
   "source": [
    "from datasets import Dataset, Value, ClassLabel, Features\n",
    "\n",
    "\n",
    "features = Features({\n",
    "    'sentence': Value('string'),\n",
    "    'target': Value('string'),\n",
    "    'label': ClassLabel(num_classes=3, names=[\"neg\", \"neu\", \"pos\"])\n",
    "})\n",
    "\n",
    "columns = [\"sentence\", \"target\", \"label\"]\n",
    "\n",
    "train_dataset = Dataset.from_pandas(train_data[columns], features=features)\n",
    "dev_dataset = Dataset.from_pandas(dev_data[columns], features=features)\n",
    "test_dataset = Dataset.from_pandas(test_data[columns], features=features)"
   ]
  },
  {
   "cell_type": "code",
   "execution_count": 6,
   "metadata": {},
   "outputs": [
    {
     "name": "stderr",
     "output_type": "stream",
     "text": [
      "Some weights of the model checkpoint at dccuchile/bert-base-spanish-wwm-uncased were not used when initializing BertForSequenceClassification: ['cls.predictions.bias', 'cls.predictions.transform.dense.weight', 'cls.predictions.transform.dense.bias', 'cls.predictions.transform.LayerNorm.weight', 'cls.predictions.transform.LayerNorm.bias', 'cls.predictions.decoder.weight', 'cls.predictions.decoder.bias']\n",
      "- This IS expected if you are initializing BertForSequenceClassification from the checkpoint of a model trained on another task or with another architecture (e.g. initializing a BertForSequenceClassification model from a BertForPreTraining model).\n",
      "- This IS NOT expected if you are initializing BertForSequenceClassification from the checkpoint of a model that you expect to be exactly identical (initializing a BertForSequenceClassification model from a BertForSequenceClassification model).\n",
      "Some weights of BertForSequenceClassification were not initialized from the model checkpoint at dccuchile/bert-base-spanish-wwm-uncased and are newly initialized: ['bert.pooler.dense.weight', 'bert.pooler.dense.bias', 'classifier.weight', 'classifier.bias']\n",
      "You should probably TRAIN this model on a down-stream task to be able to use it for predictions and inference.\n"
     ]
    }
   ],
   "source": [
    "from transformers import AutoModelForSequenceClassification, AutoTokenizer\n",
    "\n",
    "model_name = 'dccuchile/bert-base-spanish-wwm-uncased'\n",
    "\n",
    "model = AutoModelForSequenceClassification.from_pretrained(\n",
    "    model_name, return_dict=True, num_labels=len(id2label)\n",
    ")\n",
    "\n",
    "model.config.id2label = id2label\n",
    "model.config.label2id = label2id\n",
    "\n",
    "tokenizer = AutoTokenizer.from_pretrained(model_name)\n",
    "\n",
    "tokenizer.model_max_length = 128\n"
   ]
  },
  {
   "cell_type": "code",
   "execution_count": 7,
   "metadata": {},
   "outputs": [],
   "source": [
    "import torch\n",
    "\n",
    "device = \"cuda\" if torch.cuda.is_available() else \"cpu\"\n",
    "\n",
    "model = model.to(device)"
   ]
  },
  {
   "cell_type": "code",
   "execution_count": 8,
   "metadata": {},
   "outputs": [
    {
     "data": {
      "application/vnd.jupyter.widget-view+json": {
       "model_id": "c3e53a3577d64e7fb7bccc181e0e9501",
       "version_major": 2,
       "version_minor": 0
      },
      "text/plain": [
       "HBox(children=(HTML(value=''), FloatProgress(value=0.0, max=84.0), HTML(value='')))"
      ]
     },
     "metadata": {},
     "output_type": "display_data"
    },
    {
     "name": "stdout",
     "output_type": "stream",
     "text": [
      "\n"
     ]
    },
    {
     "data": {
      "application/vnd.jupyter.widget-view+json": {
       "model_id": "46754e4a5d094a4fb9efbaf132746fcc",
       "version_major": 2,
       "version_minor": 0
      },
      "text/plain": [
       "HBox(children=(HTML(value=''), FloatProgress(value=0.0, max=56.0), HTML(value='')))"
      ]
     },
     "metadata": {},
     "output_type": "display_data"
    },
    {
     "name": "stdout",
     "output_type": "stream",
     "text": [
      "\n"
     ]
    },
    {
     "data": {
      "application/vnd.jupyter.widget-view+json": {
       "model_id": "6914616b6c914a5eada5ca564fef238d",
       "version_major": 2,
       "version_minor": 0
      },
      "text/plain": [
       "HBox(children=(HTML(value=''), FloatProgress(value=0.0, max=75.0), HTML(value='')))"
      ]
     },
     "metadata": {},
     "output_type": "display_data"
    },
    {
     "name": "stdout",
     "output_type": "stream",
     "text": [
      "\n"
     ]
    }
   ],
   "source": [
    "def tokenize(batch):\n",
    "    return tokenizer(batch['sentence'], batch['target'], padding='max_length', truncation=True)\n",
    "\n",
    "batch_size = 16\n",
    "eval_batch_size = 8\n",
    "\n",
    "train_dataset = train_dataset.map(tokenize, batched=True, batch_size=batch_size)\n",
    "dev_dataset = dev_dataset.map(tokenize, batched=True, batch_size=eval_batch_size)\n",
    "test_dataset = test_dataset.map(tokenize, batched=True, batch_size=eval_batch_size)"
   ]
  },
  {
   "cell_type": "code",
   "execution_count": 9,
   "metadata": {},
   "outputs": [
    {
     "data": {
      "text/plain": [
       "(array([ 14., 142., 227., 381., 254., 191.,  86.,  26.,  11.,   3.]),\n",
       " array([10. , 13.6, 17.2, 20.8, 24.4, 28. , 31.6, 35.2, 38.8, 42.4, 46. ]),\n",
       " <BarContainer object of 10 artists>)"
      ]
     },
     "execution_count": 9,
     "metadata": {},
     "output_type": "execute_result"
    },
    {
     "data": {
      "image/png": "[encoded data removed]",
      "text/plain": [
       "<Figure size 432x288 with 1 Axes>"
      ]
     },
     "metadata": {
      "needs_background": "light"
     },
     "output_type": "display_data"
    }
   ],
   "source": [
    "import matplotlib.pyplot as plt\n",
    "\n",
    "lens = [sum(x[\"attention_mask\"]) for x in train_dataset]\n",
    "\n",
    "\n",
    "plt.hist(lens)"
   ]
  },
  {
   "cell_type": "code",
   "execution_count": 10,
   "metadata": {},
   "outputs": [
    {
     "data": {
      "text/plain": [
       "dict_keys(['attention_mask', 'input_ids', 'label', 'sentence', 'target', 'token_type_ids'])"
      ]
     },
     "execution_count": 10,
     "metadata": {},
     "output_type": "execute_result"
    }
   ],
   "source": [
    "train_dataset[0].keys()"
   ]
  },
  {
   "cell_type": "code",
   "execution_count": 11,
   "metadata": {},
   "outputs": [
    {
     "data": {
      "application/vnd.jupyter.widget-view+json": {
       "model_id": "b967f2b848274f568d0ecc9e1dff4a9f",
       "version_major": 2,
       "version_minor": 0
      },
      "text/plain": [
       "HBox(children=(HTML(value=''), FloatProgress(value=0.0, max=1335.0), HTML(value='')))"
      ]
     },
     "metadata": {},
     "output_type": "display_data"
    },
    {
     "name": "stdout",
     "output_type": "stream",
     "text": [
      "\n"
     ]
    },
    {
     "data": {
      "application/vnd.jupyter.widget-view+json": {
       "model_id": "8ff687683eb7404190f839cfc0c6e23f",
       "version_major": 2,
       "version_minor": 0
      },
      "text/plain": [
       "HBox(children=(HTML(value=''), FloatProgress(value=0.0, max=445.0), HTML(value='')))"
      ]
     },
     "metadata": {},
     "output_type": "display_data"
    },
    {
     "name": "stdout",
     "output_type": "stream",
     "text": [
      "\n"
     ]
    },
    {
     "data": {
      "application/vnd.jupyter.widget-view+json": {
       "model_id": "f1d58704ec7f471a8a07a16b773143d2",
       "version_major": 2,
       "version_minor": 0
      },
      "text/plain": [
       "HBox(children=(HTML(value=''), FloatProgress(value=0.0, max=594.0), HTML(value='')))"
      ]
     },
     "metadata": {},
     "output_type": "display_data"
    },
    {
     "name": "stdout",
     "output_type": "stream",
     "text": [
      "\n"
     ]
    }
   ],
   "source": [
    "\n",
    "def format_dataset(dataset):\n",
    "    dataset = dataset.map(lambda x: {\"labels\": x[\"label\"]})\n",
    "    columns = ['input_ids', 'attention_mask', 'labels']\n",
    "    if 'token_type_ids' in dataset.features:\n",
    "        columns.append('token_type_ids')\n",
    "    dataset.set_format(type='torch', columns=columns)\n",
    "    return dataset\n",
    "\n",
    "train_dataset = format_dataset(train_dataset)\n",
    "dev_dataset = format_dataset(dev_dataset)\n",
    "test_dataset = format_dataset(test_dataset)\n"
   ]
  },
  {
   "cell_type": "code",
   "execution_count": 12,
   "metadata": {},
   "outputs": [],
   "source": [
    "from transformers import TrainingArguments, Trainer\n",
    "from sklearn.metrics import precision_recall_fscore_support, accuracy_score\n",
    "\n",
    "def compute_metrics(pred, id2label):\n",
    "    \"\"\"\n",
    "    Compute metrics for Trainer\n",
    "    \"\"\"\n",
    "    labels = pred.label_ids\n",
    "    preds = pred.predictions.argmax(-1)\n",
    "\n",
    "    ret = {}\n",
    "\n",
    "    f1s = []\n",
    "    precs = []\n",
    "    recalls = []\n",
    "\n",
    "    for i, cat in id2label.items():\n",
    "        cat_labels, cat_preds = labels == i, preds == i\n",
    "        precision, recall, f1, _ = precision_recall_fscore_support(\n",
    "            cat_labels, cat_preds, average='binary', zero_division=0,\n",
    "        )\n",
    "\n",
    "        f1s.append(f1)\n",
    "        precs.append(precision)\n",
    "        recalls.append(recall)\n",
    "\n",
    "        ret[cat.lower()+\"_f1\"] = f1\n",
    "        ret[cat.lower()+\"_precision\"] = precision\n",
    "        ret[cat.lower()+\"_recall\"] = recall\n",
    "\n",
    "    _, _, micro_f1, _ = precision_recall_fscore_support(\n",
    "        labels, preds, average=\"micro\"\n",
    "    )\n",
    "    ret[\"micro_f1\"] = micro_f1\n",
    "    ret[\"macro_f1\"] = torch.Tensor(f1s).mean()\n",
    "    ret[\"macro_precision\"] = torch.Tensor(precs).mean()\n",
    "    ret[\"macro_recall\"] = torch.Tensor(recalls).mean()\n",
    "\n",
    "    ret[\"acc\"] = accuracy_score(labels, preds)\n",
    "\n",
    "    return ret\n",
    "\n",
    "epochs = 5\n",
    "warmup_proportion = 0.10\n",
    "total_steps = (epochs * len(train_dataset)) // batch_size\n",
    "warmup_steps = int(warmup_proportion * total_steps)\n",
    "\n",
    "training_args = TrainingArguments(\n",
    "    output_dir='./results/',\n",
    "    num_train_epochs=epochs,\n",
    "    per_device_train_batch_size=batch_size,\n",
    "    per_device_eval_batch_size=eval_batch_size,\n",
    "    warmup_steps=warmup_steps,\n",
    "    evaluation_strategy=\"epoch\",\n",
    "    do_eval=False,\n",
    "    weight_decay=0.01,\n",
    "    logging_dir='./logs',\n",
    "    load_best_model_at_end=True,\n",
    "    metric_for_best_model=\"macro_f1\",\n",
    ")\n",
    "\n",
    "trainer = Trainer(\n",
    "    model=model,\n",
    "    args=training_args,\n",
    "    compute_metrics=lambda x: compute_metrics(x, id2label=id2label),\n",
    "    train_dataset=train_dataset,\n",
    "    eval_dataset=dev_dataset,\n",
    ")\n"
   ]
  },
  {
   "cell_type": "code",
   "execution_count": 13,
   "metadata": {},
   "outputs": [
    {
     "data": {
      "text/html": [
       "\n",
       "    <div>\n",
       "        <style>\n",
       "            /* Turns off some styling */\n",
       "            progress {\n",
       "                /* gets rid of default border in Firefox and Opera. */\n",
       "                border: none;\n",
       "                /* Needs to be in here for Safari polyfill so background images work as expected. */\n",
       "                background-size: auto;\n",
       "            }\n",
       "        </style>\n",
       "      \n",
       "      <progress value='420' max='420' style='width:300px; height:20px; vertical-align: middle;'></progress>\n",
       "      [420/420 02:10, Epoch 5/5]\n",
       "    </div>\n",
       "    <table border=\"1\" class=\"dataframe\">\n",
       "  <thead>\n",
       "    <tr style=\"text-align: left;\">\n",
       "      <th>Epoch</th>\n",
       "      <th>Training Loss</th>\n",
       "      <th>Validation Loss</th>\n",
       "      <th>Neg F1</th>\n",
       "      <th>Neg Precision</th>\n",
       "      <th>Neg Recall</th>\n",
       "      <th>Neu F1</th>\n",
       "      <th>Neu Precision</th>\n",
       "      <th>Neu Recall</th>\n",
       "      <th>Pos F1</th>\n",
       "      <th>Pos Precision</th>\n",
       "      <th>Pos Recall</th>\n",
       "      <th>Micro F1</th>\n",
       "      <th>Macro F1</th>\n",
       "      <th>Macro Precision</th>\n",
       "      <th>Macro Recall</th>\n",
       "      <th>Acc</th>\n",
       "      <th>Runtime</th>\n",
       "      <th>Samples Per Second</th>\n",
       "    </tr>\n",
       "  </thead>\n",
       "  <tbody>\n",
       "    <tr>\n",
       "      <td>1</td>\n",
       "      <td>No log</td>\n",
       "      <td>0.901950</td>\n",
       "      <td>0.652361</td>\n",
       "      <td>0.737864</td>\n",
       "      <td>0.584615</td>\n",
       "      <td>0.599455</td>\n",
       "      <td>0.482456</td>\n",
       "      <td>0.791367</td>\n",
       "      <td>0.565517</td>\n",
       "      <td>0.719298</td>\n",
       "      <td>0.465909</td>\n",
       "      <td>0.602247</td>\n",
       "      <td>0.605778</td>\n",
       "      <td>0.646540</td>\n",
       "      <td>0.613964</td>\n",
       "      <td>0.602247</td>\n",
       "      <td>2.240000</td>\n",
       "      <td>198.660000</td>\n",
       "    </tr>\n",
       "    <tr>\n",
       "      <td>2</td>\n",
       "      <td>No log</td>\n",
       "      <td>0.839599</td>\n",
       "      <td>0.698718</td>\n",
       "      <td>0.598901</td>\n",
       "      <td>0.838462</td>\n",
       "      <td>0.584071</td>\n",
       "      <td>0.758621</td>\n",
       "      <td>0.474820</td>\n",
       "      <td>0.744318</td>\n",
       "      <td>0.744318</td>\n",
       "      <td>0.744318</td>\n",
       "      <td>0.687640</td>\n",
       "      <td>0.675702</td>\n",
       "      <td>0.700613</td>\n",
       "      <td>0.685867</td>\n",
       "      <td>0.687640</td>\n",
       "      <td>2.233600</td>\n",
       "      <td>199.227000</td>\n",
       "    </tr>\n",
       "    <tr>\n",
       "      <td>3</td>\n",
       "      <td>No log</td>\n",
       "      <td>1.012727</td>\n",
       "      <td>0.716312</td>\n",
       "      <td>0.664474</td>\n",
       "      <td>0.776923</td>\n",
       "      <td>0.600000</td>\n",
       "      <td>0.712871</td>\n",
       "      <td>0.517986</td>\n",
       "      <td>0.744565</td>\n",
       "      <td>0.713542</td>\n",
       "      <td>0.778409</td>\n",
       "      <td>0.696629</td>\n",
       "      <td>0.686959</td>\n",
       "      <td>0.696962</td>\n",
       "      <td>0.691106</td>\n",
       "      <td>0.696629</td>\n",
       "      <td>2.250600</td>\n",
       "      <td>197.721000</td>\n",
       "    </tr>\n",
       "    <tr>\n",
       "      <td>4</td>\n",
       "      <td>No log</td>\n",
       "      <td>1.357641</td>\n",
       "      <td>0.684444</td>\n",
       "      <td>0.810526</td>\n",
       "      <td>0.592308</td>\n",
       "      <td>0.651341</td>\n",
       "      <td>0.696721</td>\n",
       "      <td>0.611511</td>\n",
       "      <td>0.727723</td>\n",
       "      <td>0.644737</td>\n",
       "      <td>0.835227</td>\n",
       "      <td>0.694382</td>\n",
       "      <td>0.687836</td>\n",
       "      <td>0.717328</td>\n",
       "      <td>0.679682</td>\n",
       "      <td>0.694382</td>\n",
       "      <td>2.123600</td>\n",
       "      <td>209.548000</td>\n",
       "    </tr>\n",
       "    <tr>\n",
       "      <td>5</td>\n",
       "      <td>No log</td>\n",
       "      <td>1.420027</td>\n",
       "      <td>0.723735</td>\n",
       "      <td>0.732283</td>\n",
       "      <td>0.715385</td>\n",
       "      <td>0.637681</td>\n",
       "      <td>0.642336</td>\n",
       "      <td>0.633094</td>\n",
       "      <td>0.739496</td>\n",
       "      <td>0.729282</td>\n",
       "      <td>0.750000</td>\n",
       "      <td>0.703371</td>\n",
       "      <td>0.700304</td>\n",
       "      <td>0.701300</td>\n",
       "      <td>0.699493</td>\n",
       "      <td>0.703371</td>\n",
       "      <td>2.262200</td>\n",
       "      <td>196.710000</td>\n",
       "    </tr>\n",
       "  </tbody>\n",
       "</table><p>"
      ],
      "text/plain": [
       "<IPython.core.display.HTML object>"
      ]
     },
     "metadata": {},
     "output_type": "display_data"
    },
    {
     "data": {
      "text/plain": [
       "TrainOutput(global_step=420, training_loss=0.4167713346935454, metrics={'train_runtime': 130.5036, 'train_samples_per_second': 3.218, 'total_flos': 563151377836800.0, 'epoch': 5.0, 'init_mem_cpu_alloc_delta': 54307, 'init_mem_gpu_alloc_delta': 0, 'init_mem_cpu_peaked_delta': 18258, 'init_mem_gpu_peaked_delta': 0, 'train_mem_cpu_alloc_delta': 1136609, 'train_mem_gpu_alloc_delta': 1794117632, 'train_mem_cpu_peaked_delta': 95403625, 'train_mem_gpu_peaked_delta': 1338078720})"
      ]
     },
     "execution_count": 13,
     "metadata": {},
     "output_type": "execute_result"
    }
   ],
   "source": [
    "trainer.train()"
   ]
  },
  {
   "cell_type": "code",
   "execution_count": 14,
   "metadata": {},
   "outputs": [
    {
     "data": {
      "text/html": [
       "\n",
       "    <div>\n",
       "        <style>\n",
       "            /* Turns off some styling */\n",
       "            progress {\n",
       "                /* gets rid of default border in Firefox and Opera. */\n",
       "                border: none;\n",
       "                /* Needs to be in here for Safari polyfill so background images work as expected. */\n",
       "                background-size: auto;\n",
       "            }\n",
       "        </style>\n",
       "      \n",
       "      <progress value='75' max='75' style='width:300px; height:20px; vertical-align: middle;'></progress>\n",
       "      [75/75 00:02]\n",
       "    </div>\n",
       "    "
      ],
      "text/plain": [
       "<IPython.core.display.HTML object>"
      ]
     },
     "metadata": {},
     "output_type": "display_data"
    },
    {
     "data": {
      "text/plain": [
       "{'eval_loss': 1.3133471012115479,\n",
       " 'eval_neg_f1': 0.7252747252747253,\n",
       " 'eval_neg_precision': 0.6910994764397905,\n",
       " 'eval_neg_recall': 0.7630057803468208,\n",
       " 'eval_neu_f1': 0.6761363636363638,\n",
       " 'eval_neu_precision': 0.7168674698795181,\n",
       " 'eval_neu_recall': 0.6397849462365591,\n",
       " 'eval_pos_f1': 0.7627118644067796,\n",
       " 'eval_pos_precision': 0.759493670886076,\n",
       " 'eval_pos_recall': 0.7659574468085106,\n",
       " 'eval_micro_f1': 0.7255892255892256,\n",
       " 'eval_macro_f1': 0.7213743329048157,\n",
       " 'eval_macro_precision': 0.7224867939949036,\n",
       " 'eval_macro_recall': 0.7229161262512207,\n",
       " 'eval_acc': 0.7255892255892256,\n",
       " 'eval_runtime': 2.8183,\n",
       " 'eval_samples_per_second': 210.763,\n",
       " 'epoch': 5.0,\n",
       " 'eval_mem_cpu_alloc_delta': 65854,\n",
       " 'eval_mem_gpu_alloc_delta': 0,\n",
       " 'eval_mem_cpu_peaked_delta': 177186,\n",
       " 'eval_mem_gpu_peaked_delta': 35173376}"
      ]
     },
     "execution_count": 14,
     "metadata": {},
     "output_type": "execute_result"
    }
   ],
   "source": [
    "trainer.evaluate(test_dataset)"
   ]
  },
  {
   "cell_type": "code",
   "execution_count": 15,
   "metadata": {},
   "outputs": [],
   "source": [
    "model = trainer.model"
   ]
  },
  {
   "cell_type": "code",
   "execution_count": 16,
   "metadata": {},
   "outputs": [],
   "source": [
    "from torch.nn import functional as F\n",
    "def predict(sentence, target):\n",
    "    \"\"\"\n",
    "    Return most likely class for the sentence\n",
    "    \"\"\"\n",
    "    idx = torch.LongTensor(tokenizer.encode(sentence, target)).view(1, -1).to(device)\n",
    "    print(tokenizer.decode(idx[0]))\n",
    "    output = model(idx)\n",
    "    probs = F.softmax(output.logits, dim=1).view(-1)\n",
    "    probas = {id2label[i]:probs[i].item() for i in id2label}\n",
    "\n",
    "    return probas\n",
    "\n"
   ]
  },
  {
   "cell_type": "code",
   "execution_count": 28,
   "metadata": {},
   "outputs": [
    {
     "name": "stdout",
     "output_type": "stream",
     "text": [
      "Messi\n",
      "[CLS] gran 2020 para messi, pero bastante malo para cristiano ronaldo [SEP] messi [SEP]\n",
      "{'NEG': 0.996861457824707, 'NEU': 0.0014492666814476252, 'POS': 0.0016892417334020138}\n",
      "Cristiano Ronaldo\n",
      "[CLS] gran 2020 para messi, pero bastante malo para cristiano ronaldo [SEP] cristiano ronaldo [SEP]\n",
      "{'NEG': 0.9961989521980286, 'NEU': 0.0016664467984810472, 'POS': 0.0021345769055187702}\n"
     ]
    }
   ],
   "source": [
    "sentence = \"Gran 2020 para Messi, pero bastante malo para Cristiano Ronaldo\"\n",
    "\n",
    "targets = [\"Messi\", \"Cristiano Ronaldo\"]\n",
    "\n",
    "for target in targets:\n",
    "    print(target)\n",
    "    print(predict(sentence, target))"
   ]
  },
  {
   "cell_type": "code",
   "execution_count": 29,
   "metadata": {},
   "outputs": [
    {
     "name": "stdout",
     "output_type": "stream",
     "text": [
      "Alberto Fernández\n",
      "[CLS] alberto fernández : \" el gobierno de macri fue un desastre \" [SEP] alberto fernández [SEP]\n",
      "{'NEG': 0.003726329654455185, 'NEU': 0.0006989876856096089, 'POS': 0.9955745935440063}\n",
      "Macri\n",
      "[CLS] alberto fernández : \" el gobierno de macri fue un desastre \" [SEP] macri [SEP]\n",
      "{'NEG': 0.9968807697296143, 'NEU': 0.000385183171601966, 'POS': 0.0027340983506292105}\n"
     ]
    }
   ],
   "source": [
    "sentence = \"Alberto Fernández: \\\"El gobierno de Macri fue un desastre\\\"\"\n",
    "\n",
    "targets = [\"Alberto Fernández\", \"Macri\"]\n",
    "\n",
    "for target in targets:\n",
    "    print(target)\n",
    "    print(predict(sentence, target))"
   ]
  },
  {
   "cell_type": "code",
   "execution_count": 19,
   "metadata": {},
   "outputs": [
    {
     "name": "stdout",
     "output_type": "stream",
     "text": [
      "Alberto Fernández\n",
      "[CLS] alberto fernández : \" el gobierno de xi jin ping fue un desastre \" [SEP] alberto fernández [SEP]\n",
      "{'NEG': 0.007715512532740831, 'NEU': 0.0009177132742479444, 'POS': 0.9913668036460876}\n",
      "Xi Jin Ping\n",
      "[CLS] alberto fernández : \" el gobierno de xi jin ping fue un desastre \" [SEP] xi jin ping [SEP]\n",
      "{'NEG': 0.9885976314544678, 'NEU': 0.0005608819774352014, 'POS': 0.010841495357453823}\n"
     ]
    }
   ],
   "source": [
    "sentence = \"Alberto Fernández: \\\"El gobierno de Xi Jin Ping fue un desastre\\\"\"\n",
    "\n",
    "targets = [\"Alberto Fernández\", \"Xi Jin Ping\"]\n",
    "\n",
    "for target in targets:\n",
    "    print(target)\n",
    "    print(predict(sentence, target))"
   ]
  },
  {
   "cell_type": "code",
   "execution_count": 20,
   "metadata": {},
   "outputs": [
    {
     "name": "stdout",
     "output_type": "stream",
     "text": [
      "Romina del Plá\n",
      "[CLS] romina del plá denunció el ajuste de alberto fernández [SEP] romina del plá [SEP]\n",
      "{'NEG': 0.002063739812001586, 'NEU': 0.0020946392323821783, 'POS': 0.9958416819572449}\n",
      "Alberto Fernández\n",
      "[CLS] romina del plá denunció el ajuste de alberto fernández [SEP] alberto fernández [SEP]\n",
      "{'NEG': 0.07176734507083893, 'NEU': 0.018676303327083588, 'POS': 0.9095563292503357}\n"
     ]
    }
   ],
   "source": [
    "sentence = \"Romina Del Plá denunció el ajuste de Alberto Fernández\"\n",
    "\n",
    "targets = [\"Romina del Plá\", \"Alberto Fernández\"]\n",
    "\n",
    "for target in targets:\n",
    "    print(target)\n",
    "    print(predict(sentence, target))"
   ]
  },
  {
   "cell_type": "code",
   "execution_count": 21,
   "metadata": {},
   "outputs": [
    {
     "name": "stdout",
     "output_type": "stream",
     "text": [
      "Gobierno\n",
      "[CLS] el gobierno confirmó el decreto para destrabar la compra de vacunas [SEP] gobierno [SEP]\n",
      "{'NEG': 0.6214466094970703, 'NEU': 0.012440790422260761, 'POS': 0.3661125898361206}\n"
     ]
    }
   ],
   "source": [
    "sentence = \"El Gobierno confirmó el decreto para destrabar la compra de vacunas\"\n",
    "\n",
    "targets = [\"Gobierno\"]\n",
    "\n",
    "for target in targets:\n",
    "    print(target)\n",
    "    print(predict(sentence, target))"
   ]
  },
  {
   "cell_type": "code",
   "execution_count": 22,
   "metadata": {},
   "outputs": [
    {
     "name": "stdout",
     "output_type": "stream",
     "text": [
      "Gobierno\n",
      "[CLS] cristina kirchner acusa al gobierno de corrupción en la compra de vacunas [SEP] gobierno [SEP]\n",
      "{'NEG': 0.9695510268211365, 'NEU': 0.0012660573702305555, 'POS': 0.029182929545640945}\n",
      "Cristina Kirchner\n",
      "[CLS] cristina kirchner acusa al gobierno de corrupción en la compra de vacunas [SEP] cristina kirchner [SEP]\n",
      "{'NEG': 0.02034047432243824, 'NEU': 0.0012733014300465584, 'POS': 0.9783862233161926}\n"
     ]
    }
   ],
   "source": [
    "sentence = \"Cristina Kirchner acusa al Gobierno de corrupción en la compra de vacunas\"\n",
    "\n",
    "targets = [\"Gobierno\", \"Cristina Kirchner\"]\n",
    "\n",
    "for target in targets:\n",
    "    print(target)\n",
    "    print(predict(sentence, target))"
   ]
  },
  {
   "cell_type": "code",
   "execution_count": 23,
   "metadata": {},
   "outputs": [
    {
     "name": "stdout",
     "output_type": "stream",
     "text": [
      "Gobierno\n",
      "[CLS] el duro comunicado de las empresas estadounidenses contra el gobierno [SEP] gobierno [SEP]\n",
      "{'NEG': 0.9816378951072693, 'NEU': 0.0007543375249952078, 'POS': 0.017607828602194786}\n"
     ]
    }
   ],
   "source": [
    "sentence = \"El duro comunicado de las empresas estadounidenses contra el Gobierno\"\n",
    "\n",
    "targets = [\"Gobierno\"]\n",
    "\n",
    "for target in targets:\n",
    "    print(target)\n",
    "    print(predict(sentence, target))"
   ]
  },
  {
   "cell_type": "code",
   "execution_count": 24,
   "metadata": {},
   "outputs": [
    {
     "name": "stdout",
     "output_type": "stream",
     "text": [
      "Vidal\n",
      "[CLS] ultiman negociaciones para cerrar acuerdo en la ciudad entre vidal y bullrich [SEP] vidal [SEP]\n",
      "{'NEG': 0.003342653624713421, 'NEU': 0.9826508164405823, 'POS': 0.014006558805704117}\n",
      "Bullrich\n",
      "[CLS] ultiman negociaciones para cerrar acuerdo en la ciudad entre vidal y bullrich [SEP] bullrich [SEP]\n",
      "{'NEG': 0.07273595035076141, 'NEU': 0.9148545861244202, 'POS': 0.012409432791173458}\n"
     ]
    }
   ],
   "source": [
    "sentence = \"Ultiman negociaciones para cerrar acuerdo en la Ciudad entre Vidal y Bullrich\"\n",
    "\n",
    "targets = [\"Vidal\", \"Bullrich\"]\n",
    "\n",
    "for target in targets:\n",
    "    print(target)\n",
    "    print(predict(sentence, target))"
   ]
  },
  {
   "cell_type": "code",
   "execution_count": 25,
   "metadata": {},
   "outputs": [
    {
     "name": "stdout",
     "output_type": "stream",
     "text": [
      "Gobierno\n",
      "[CLS] \" este gobierno ha sido una lacra corrupta inmunda \" declaró patricia bullrich [SEP] gobierno [SEP]\n",
      "{'NEG': 0.9476504921913147, 'NEU': 0.0005365539691410959, 'POS': 0.05181294307112694}\n",
      "Bullrich\n",
      "[CLS] \" este gobierno ha sido una lacra corrupta inmunda \" declaró patricia bullrich [SEP] bullrich [SEP]\n",
      "{'NEG': 0.910385012626648, 'NEU': 0.0006816975655965507, 'POS': 0.0889333188533783}\n"
     ]
    }
   ],
   "source": [
    "sentence = \"\\\"Este Gobierno ha sido una lacra corrupta inmunda\\\" declaró Patricia Bullrich\"\n",
    "\n",
    "targets = [\"Gobierno\", \"Bullrich\"]\n",
    "\n",
    "for target in targets:\n",
    "    print(target)\n",
    "    print(predict(sentence, target))"
   ]
  },
  {
   "cell_type": "markdown",
   "metadata": {},
   "source": [
    "Si lo ponemos adelante, sin embargo..."
   ]
  },
  {
   "cell_type": "code",
   "execution_count": 30,
   "metadata": {},
   "outputs": [
    {
     "name": "stdout",
     "output_type": "stream",
     "text": [
      "Gobierno\n",
      "[CLS] patricia bullrich : \" este gobierno ha sido una lacra corrupta inmunda \" [SEP] gobierno [SEP]\n",
      "{'NEG': 0.1712493896484375, 'NEU': 0.0014692284166812897, 'POS': 0.8272813558578491}\n",
      "Bullrich\n",
      "[CLS] patricia bullrich : \" este gobierno ha sido una lacra corrupta inmunda \" [SEP] bullrich [SEP]\n",
      "{'NEG': 0.08700262755155563, 'NEU': 0.000880286272149533, 'POS': 0.9121170043945312}\n"
     ]
    }
   ],
   "source": [
    "sentence = \"Patricia Bullrich: \\\"Este Gobierno ha sido una lacra corrupta inmunda\\\"\"\n",
    "\n",
    "targets = [\"Gobierno\", \"Bullrich\"]\n",
    "\n",
    "for target in targets:\n",
    "    print(target)\n",
    "    print(predict(sentence, target))"
   ]
  },
  {
   "cell_type": "code",
   "execution_count": 40,
   "metadata": {},
   "outputs": [
    {
     "name": "stdout",
     "output_type": "stream",
     "text": [
      "Keiko\n",
      "[CLS] keiko : [UNK] pedro castillo es un pésimo dirigente, pero por suerte este gobierno es lo mejor que le ha pasado a perú [UNK] [SEP] keiko [SEP]\n",
      "{'NEG': 0.001531198970042169, 'NEU': 0.0009267222485505044, 'POS': 0.997542142868042}\n",
      "Pedro Castillo\n",
      "[CLS] keiko : [UNK] pedro castillo es un pésimo dirigente, pero por suerte este gobierno es lo mejor que le ha pasado a perú [UNK] [SEP] pedro castillo [SEP]\n",
      "{'NEG': 0.20250092446804047, 'NEU': 0.0011180948931723833, 'POS': 0.7963809370994568}\n",
      "Gobierno\n",
      "[CLS] keiko : [UNK] pedro castillo es un pésimo dirigente, pero por suerte este gobierno es lo mejor que le ha pasado a perú [UNK] [SEP] gobierno [SEP]\n",
      "{'NEG': 0.2845839858055115, 'NEU': 0.013925314880907536, 'POS': 0.7014907002449036}\n"
     ]
    }
   ],
   "source": [
    "sentence = \"Keiko: 'Pedro Castillo es un pésimo dirigente, pero por suerte este Gobierno es lo mejor que le ha pasado a Perú'\"\n",
    "\n",
    "targets = [\"Keiko\", \"Pedro Castillo\", \"Gobierno\"]\n",
    "\n",
    "for target in targets:\n",
    "    print(target)\n",
    "    print(predict(sentence, target))"
   ]
  },
  {
   "cell_type": "code",
   "execution_count": null,
   "metadata": {},
   "outputs": [],
   "source": []
  }
 ],
 "metadata": {
  "interpreter": {
   "hash": "c22e1f0f586e152b720d45074bb422dadc7ff3eb06c32e08d5ec49d7ee1ec582"
  },
  "kernelspec": {
   "display_name": "Python 3.8.5 64-bit ('3.8.5': pyenv)",
   "name": "python3"
  },
  "language_info": {
   "codemirror_mode": {
    "name": "ipython",
    "version": 3
   },
   "file_extension": ".py",
   "mimetype": "text/x-python",
   "name": "python",
   "nbconvert_exporter": "python",
   "pygments_lexer": "ipython3",
   "version": "3.8.5"
  },
  "orig_nbformat": 4
 },
 "nbformat": 4,
 "nbformat_minor": 2
}