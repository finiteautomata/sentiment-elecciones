{
 "cells": [
  {
   "cell_type": "markdown",
   "metadata": {},
   "source": [
    "## Targeted Classifier Experiment\n"
   ]
  },
  {
   "cell_type": "code",
   "execution_count": 1,
   "metadata": {},
   "outputs": [],
   "source": [
    "%load_ext autoreload\n",
    "%autoreload 2\n",
    "\n",
    "import sklearn\n",
    "import json\n",
    "\n",
    "\n",
    "with open(\"../../data/dataset.json\") as f:\n",
    "    data = json.load(f)\n"
   ]
  },
  {
   "cell_type": "markdown",
   "metadata": {},
   "source": [
    "## Exploratorio"
   ]
  },
  {
   "cell_type": "code",
   "execution_count": 2,
   "metadata": {},
   "outputs": [
    {
     "data": {
      "text/plain": [
       "(160, 1930)"
      ]
     },
     "execution_count": 2,
     "metadata": {},
     "output_type": "execute_result"
    }
   ],
   "source": [
    "def is_mixed(instance):\n",
    "    return len(set(instance[\"labels\"].values())) >= 2\n",
    "\n",
    "len([x for x in data if is_mixed(x)]), len(data)"
   ]
  },
  {
   "cell_type": "code",
   "execution_count": 3,
   "metadata": {},
   "outputs": [
    {
     "data": {
      "text/plain": [
       "(396, 1930)"
      ]
     },
     "execution_count": 3,
     "metadata": {},
     "output_type": "execute_result"
    }
   ],
   "source": [
    "\n",
    "len([x for x in data if len(x[\"labels\"]) > 1]), len(data)"
   ]
  },
  {
   "cell_type": "code",
   "execution_count": 4,
   "metadata": {},
   "outputs": [],
   "source": [
    "import pandas as pd\n",
    "\n",
    "label2id = {\n",
    "    \"NEG\": 0,\n",
    "    \"NEU\": 1,\n",
    "    \"POS\": 2\n",
    "}\n",
    "\n",
    "id2label = {v:k for k, v in label2id.items()}\n",
    "\n",
    "def build_auxiliary_sentence(target):\n",
    "    return target\n",
    "\n",
    "def build_df(data):\n",
    "    return pd.DataFrame([{\n",
    "        \"id\": x[\"id\"],\n",
    "        \"sentence\": x[\"titulo\"],\n",
    "        \"target\": target,\n",
    "        \"auxiliary_sentence\": build_auxiliary_sentence(target),\n",
    "        \"label\": label2id[label],\n",
    "    } for x in data for (target, label) in x[\"labels\"].items()])"
   ]
  },
  {
   "cell_type": "markdown",
   "metadata": {},
   "source": [
    "Bien, está dentro de todo equilibrado\n",
    "\n",
    "## Train test split\n",
    "\n",
    "Lo hago sobre el dataset. No sería mejor hacerlo por oraciones?"
   ]
  },
  {
   "cell_type": "code",
   "execution_count": 5,
   "metadata": {},
   "outputs": [
    {
     "data": {
      "text/plain": [
       "(1085, 362, 483)"
      ]
     },
     "execution_count": 5,
     "metadata": {},
     "output_type": "execute_result"
    }
   ],
   "source": [
    "from sklearn.model_selection import train_test_split\n",
    "\n",
    "train_data, test_data = train_test_split(data, random_state=2021, stratify=[len(x[\"labels\"]) for x in data])\n",
    "\n",
    "train_data, dev_data = train_test_split(train_data, random_state=2021, stratify=[len(x[\"labels\"]) for x in train_data])\n",
    "\n",
    "len(train_data), len(dev_data), len(test_data)"
   ]
  },
  {
   "cell_type": "markdown",
   "metadata": {},
   "source": [
    "## Armar dataset"
   ]
  },
  {
   "cell_type": "code",
   "execution_count": 6,
   "metadata": {},
   "outputs": [],
   "source": [
    "from datasets import Dataset, Value, ClassLabel, Features\n",
    "\n",
    "train_df = build_df(train_data)\n",
    "dev_df = build_df(dev_data)\n",
    "test_df = build_df(test_data)\n",
    "\n",
    "features = Features({\n",
    "    'sentence': Value('string'),\n",
    "    'auxiliary_sentence': Value('string'),\n",
    "    'label': ClassLabel(num_classes=3, names=[\"neg\", \"neu\", \"pos\"])\n",
    "})\n",
    "\n",
    "columns = [\"sentence\", \"auxiliary_sentence\", \"label\"]\n",
    "\n",
    "train_dataset = Dataset.from_pandas(train_df[columns], features=features)\n",
    "dev_dataset = Dataset.from_pandas(dev_df[columns], features=features)\n",
    "test_dataset = Dataset.from_pandas(test_df[columns], features=features)"
   ]
  },
  {
   "cell_type": "code",
   "execution_count": 7,
   "metadata": {},
   "outputs": [
    {
     "name": "stderr",
     "output_type": "stream",
     "text": [
      "Some weights of the model checkpoint at dccuchile/bert-base-spanish-wwm-uncased were not used when initializing BertForSequenceClassification: ['cls.predictions.bias', 'cls.predictions.transform.dense.weight', 'cls.predictions.transform.dense.bias', 'cls.predictions.transform.LayerNorm.weight', 'cls.predictions.transform.LayerNorm.bias', 'cls.predictions.decoder.weight', 'cls.predictions.decoder.bias']\n",
      "- This IS expected if you are initializing BertForSequenceClassification from the checkpoint of a model trained on another task or with another architecture (e.g. initializing a BertForSequenceClassification model from a BertForPreTraining model).\n",
      "- This IS NOT expected if you are initializing BertForSequenceClassification from the checkpoint of a model that you expect to be exactly identical (initializing a BertForSequenceClassification model from a BertForSequenceClassification model).\n",
      "Some weights of BertForSequenceClassification were not initialized from the model checkpoint at dccuchile/bert-base-spanish-wwm-uncased and are newly initialized: ['bert.pooler.dense.weight', 'bert.pooler.dense.bias', 'classifier.weight', 'classifier.bias']\n",
      "You should probably TRAIN this model on a down-stream task to be able to use it for predictions and inference.\n"
     ]
    }
   ],
   "source": [
    "from transformers import AutoModelForSequenceClassification, AutoTokenizer\n",
    "\n",
    "model_name = 'dccuchile/bert-base-spanish-wwm-uncased'\n",
    "\n",
    "model = AutoModelForSequenceClassification.from_pretrained(\n",
    "    model_name, return_dict=True, num_labels=len(id2label)\n",
    ")\n",
    "\n",
    "model.config.id2label = id2label\n",
    "model.config.label2id = label2id\n",
    "\n",
    "tokenizer = AutoTokenizer.from_pretrained(model_name)\n",
    "\n",
    "tokenizer.model_max_length = 128\n"
   ]
  },
  {
   "cell_type": "code",
   "execution_count": 8,
   "metadata": {},
   "outputs": [],
   "source": [
    "import torch\n",
    "\n",
    "device = \"cuda\" if torch.cuda.is_available() else \"cpu\"\n",
    "\n",
    "model = model.to(device)"
   ]
  },
  {
   "cell_type": "code",
   "execution_count": 9,
   "metadata": {},
   "outputs": [
    {
     "data": {
      "application/vnd.jupyter.widget-view+json": {
       "model_id": "e912e4fd62e6418ca46c54a3f769c34a",
       "version_major": 2,
       "version_minor": 0
      },
      "text/plain": [
       "HBox(children=(HTML(value=''), FloatProgress(value=0.0, max=84.0), HTML(value='')))"
      ]
     },
     "metadata": {},
     "output_type": "display_data"
    },
    {
     "name": "stdout",
     "output_type": "stream",
     "text": [
      "\n"
     ]
    },
    {
     "data": {
      "application/vnd.jupyter.widget-view+json": {
       "model_id": "19c390990b194700b3cb50d9a745f1f5",
       "version_major": 2,
       "version_minor": 0
      },
      "text/plain": [
       "HBox(children=(HTML(value=''), FloatProgress(value=0.0, max=56.0), HTML(value='')))"
      ]
     },
     "metadata": {},
     "output_type": "display_data"
    },
    {
     "name": "stdout",
     "output_type": "stream",
     "text": [
      "\n"
     ]
    },
    {
     "data": {
      "application/vnd.jupyter.widget-view+json": {
       "model_id": "a215f0fed79e4857ac3cb8648cdb7879",
       "version_major": 2,
       "version_minor": 0
      },
      "text/plain": [
       "HBox(children=(HTML(value=''), FloatProgress(value=0.0, max=75.0), HTML(value='')))"
      ]
     },
     "metadata": {},
     "output_type": "display_data"
    },
    {
     "name": "stdout",
     "output_type": "stream",
     "text": [
      "\n"
     ]
    }
   ],
   "source": [
    "def tokenize(batch):\n",
    "    return tokenizer(batch['sentence'], batch['auxiliary_sentence'], padding='max_length', truncation=True)\n",
    "\n",
    "batch_size = 16\n",
    "eval_batch_size = 8\n",
    "\n",
    "train_dataset = train_dataset.map(tokenize, batched=True, batch_size=batch_size)\n",
    "dev_dataset = dev_dataset.map(tokenize, batched=True, batch_size=eval_batch_size)\n",
    "test_dataset = test_dataset.map(tokenize, batched=True, batch_size=eval_batch_size)"
   ]
  },
  {
   "cell_type": "code",
   "execution_count": 10,
   "metadata": {},
   "outputs": [
    {
     "data": {
      "text/plain": [
       "(array([ 20., 124., 218., 392., 257., 192.,  98.,  23.,   7.,   5.]),\n",
       " array([10. , 13.6, 17.2, 20.8, 24.4, 28. , 31.6, 35.2, 38.8, 42.4, 46. ]),\n",
       " <BarContainer object of 10 artists>)"
      ]
     },
     "execution_count": 10,
     "metadata": {},
     "output_type": "execute_result"
    },
    {
     "data": {
      "image/png": "[encoded data removed]",
      "text/plain": [
       "<Figure size 432x288 with 1 Axes>"
      ]
     },
     "metadata": {
      "needs_background": "light"
     },
     "output_type": "display_data"
    }
   ],
   "source": [
    "import matplotlib.pyplot as plt\n",
    "\n",
    "lens = [sum(x[\"attention_mask\"]) for x in train_dataset]\n",
    "\n",
    "\n",
    "plt.hist(lens)"
   ]
  },
  {
   "cell_type": "code",
   "execution_count": 11,
   "metadata": {},
   "outputs": [
    {
     "data": {
      "text/plain": [
       "dict_keys(['attention_mask', 'auxiliary_sentence', 'input_ids', 'label', 'sentence', 'token_type_ids'])"
      ]
     },
     "execution_count": 11,
     "metadata": {},
     "output_type": "execute_result"
    }
   ],
   "source": [
    "train_dataset[0].keys()"
   ]
  },
  {
   "cell_type": "code",
   "execution_count": 12,
   "metadata": {},
   "outputs": [
    {
     "data": {
      "application/vnd.jupyter.widget-view+json": {
       "model_id": "820c10a04db54fcc911a535181df5a32",
       "version_major": 2,
       "version_minor": 0
      },
      "text/plain": [
       "HBox(children=(HTML(value=''), FloatProgress(value=0.0, max=1336.0), HTML(value='')))"
      ]
     },
     "metadata": {},
     "output_type": "display_data"
    },
    {
     "name": "stdout",
     "output_type": "stream",
     "text": [
      "\n"
     ]
    },
    {
     "data": {
      "application/vnd.jupyter.widget-view+json": {
       "model_id": "2f773259d46042b1a39c5c07241a501b",
       "version_major": 2,
       "version_minor": 0
      },
      "text/plain": [
       "HBox(children=(HTML(value=''), FloatProgress(value=0.0, max=445.0), HTML(value='')))"
      ]
     },
     "metadata": {},
     "output_type": "display_data"
    },
    {
     "name": "stdout",
     "output_type": "stream",
     "text": [
      "\n"
     ]
    },
    {
     "data": {
      "application/vnd.jupyter.widget-view+json": {
       "model_id": "1b62ec87c3b54964b8586fa6019da398",
       "version_major": 2,
       "version_minor": 0
      },
      "text/plain": [
       "HBox(children=(HTML(value=''), FloatProgress(value=0.0, max=593.0), HTML(value='')))"
      ]
     },
     "metadata": {},
     "output_type": "display_data"
    },
    {
     "name": "stdout",
     "output_type": "stream",
     "text": [
      "\n"
     ]
    }
   ],
   "source": [
    "\n",
    "def format_dataset(dataset):\n",
    "    dataset = dataset.map(lambda x: {\"labels\": x[\"label\"]})\n",
    "    columns = ['input_ids', 'attention_mask', 'labels']\n",
    "    if 'token_type_ids' in dataset.features:\n",
    "        columns.append('token_type_ids')\n",
    "    dataset.set_format(type='torch', columns=columns)\n",
    "    return dataset\n",
    "\n",
    "train_dataset = format_dataset(train_dataset)\n",
    "dev_dataset = format_dataset(dev_dataset)\n",
    "test_dataset = format_dataset(test_dataset)\n"
   ]
  },
  {
   "cell_type": "code",
   "execution_count": 13,
   "metadata": {},
   "outputs": [],
   "source": [
    "from transformers import TrainingArguments, Trainer\n",
    "from sklearn.metrics import precision_recall_fscore_support, accuracy_score\n",
    "\n",
    "def compute_metrics(pred, id2label):\n",
    "    \"\"\"\n",
    "    Compute metrics for Trainer\n",
    "    \"\"\"\n",
    "    labels = pred.label_ids\n",
    "    preds = pred.predictions.argmax(-1)\n",
    "\n",
    "    ret = {}\n",
    "\n",
    "    f1s = []\n",
    "    precs = []\n",
    "    recalls = []\n",
    "\n",
    "    for i, cat in id2label.items():\n",
    "        cat_labels, cat_preds = labels == i, preds == i\n",
    "        precision, recall, f1, _ = precision_recall_fscore_support(\n",
    "            cat_labels, cat_preds, average='binary', zero_division=0,\n",
    "        )\n",
    "\n",
    "        f1s.append(f1)\n",
    "        precs.append(precision)\n",
    "        recalls.append(recall)\n",
    "\n",
    "        ret[cat.lower()+\"_f1\"] = f1\n",
    "        ret[cat.lower()+\"_precision\"] = precision\n",
    "        ret[cat.lower()+\"_recall\"] = recall\n",
    "\n",
    "    _, _, micro_f1, _ = precision_recall_fscore_support(\n",
    "        labels, preds, average=\"micro\"\n",
    "    )\n",
    "    ret[\"micro_f1\"] = micro_f1\n",
    "    ret[\"macro_f1\"] = torch.Tensor(f1s).mean()\n",
    "    ret[\"macro_precision\"] = torch.Tensor(precs).mean()\n",
    "    ret[\"macro_recall\"] = torch.Tensor(recalls).mean()\n",
    "\n",
    "    ret[\"acc\"] = accuracy_score(labels, preds)\n",
    "\n",
    "    return ret\n",
    "\n",
    "epochs = 5\n",
    "warmup_proportion = 0.10\n",
    "total_steps = (epochs * len(train_dataset)) // batch_size\n",
    "warmup_steps = int(warmup_proportion * total_steps)\n",
    "\n",
    "training_args = TrainingArguments(\n",
    "    output_dir='./results/',\n",
    "    num_train_epochs=epochs,\n",
    "    learning_rate=2e-5,\n",
    "    per_device_train_batch_size=batch_size,\n",
    "    per_device_eval_batch_size=eval_batch_size,\n",
    "    warmup_steps=warmup_steps,\n",
    "    evaluation_strategy=\"epoch\",\n",
    "    do_eval=False,\n",
    "    weight_decay=0.01,\n",
    "    logging_dir='./logs',\n",
    "    load_best_model_at_end=True,\n",
    "    metric_for_best_model=\"macro_f1\",\n",
    ")\n",
    "\n",
    "trainer = Trainer(\n",
    "    model=model,\n",
    "    args=training_args,\n",
    "    compute_metrics=lambda x: compute_metrics(x, id2label=id2label),\n",
    "    train_dataset=train_dataset,\n",
    "    eval_dataset=dev_dataset,\n",
    ")\n"
   ]
  },
  {
   "cell_type": "code",
   "execution_count": 14,
   "metadata": {},
   "outputs": [
    {
     "data": {
      "text/html": [
       "\n",
       "    <div>\n",
       "        <style>\n",
       "            /* Turns off some styling */\n",
       "            progress {\n",
       "                /* gets rid of default border in Firefox and Opera. */\n",
       "                border: none;\n",
       "                /* Needs to be in here for Safari polyfill so background images work as expected. */\n",
       "                background-size: auto;\n",
       "            }\n",
       "        </style>\n",
       "      \n",
       "      <progress value='420' max='420' style='width:300px; height:20px; vertical-align: middle;'></progress>\n",
       "      [420/420 02:26, Epoch 5/5]\n",
       "    </div>\n",
       "    <table border=\"1\" class=\"dataframe\">\n",
       "  <thead>\n",
       "    <tr style=\"text-align: left;\">\n",
       "      <th>Epoch</th>\n",
       "      <th>Training Loss</th>\n",
       "      <th>Validation Loss</th>\n",
       "      <th>Neg F1</th>\n",
       "      <th>Neg Precision</th>\n",
       "      <th>Neg Recall</th>\n",
       "      <th>Neu F1</th>\n",
       "      <th>Neu Precision</th>\n",
       "      <th>Neu Recall</th>\n",
       "      <th>Pos F1</th>\n",
       "      <th>Pos Precision</th>\n",
       "      <th>Pos Recall</th>\n",
       "      <th>Micro F1</th>\n",
       "      <th>Macro F1</th>\n",
       "      <th>Macro Precision</th>\n",
       "      <th>Macro Recall</th>\n",
       "      <th>Acc</th>\n",
       "      <th>Runtime</th>\n",
       "      <th>Samples Per Second</th>\n",
       "    </tr>\n",
       "  </thead>\n",
       "  <tbody>\n",
       "    <tr>\n",
       "      <td>1</td>\n",
       "      <td>No log</td>\n",
       "      <td>0.917584</td>\n",
       "      <td>0.494297</td>\n",
       "      <td>0.464286</td>\n",
       "      <td>0.528455</td>\n",
       "      <td>0.389610</td>\n",
       "      <td>0.494505</td>\n",
       "      <td>0.321429</td>\n",
       "      <td>0.666667</td>\n",
       "      <td>0.616822</td>\n",
       "      <td>0.725275</td>\n",
       "      <td>0.543820</td>\n",
       "      <td>0.516858</td>\n",
       "      <td>0.525205</td>\n",
       "      <td>0.525053</td>\n",
       "      <td>0.543820</td>\n",
       "      <td>2.280300</td>\n",
       "      <td>195.147000</td>\n",
       "    </tr>\n",
       "    <tr>\n",
       "      <td>2</td>\n",
       "      <td>No log</td>\n",
       "      <td>0.844579</td>\n",
       "      <td>0.623932</td>\n",
       "      <td>0.657658</td>\n",
       "      <td>0.593496</td>\n",
       "      <td>0.532319</td>\n",
       "      <td>0.569106</td>\n",
       "      <td>0.500000</td>\n",
       "      <td>0.702290</td>\n",
       "      <td>0.654028</td>\n",
       "      <td>0.758242</td>\n",
       "      <td>0.631461</td>\n",
       "      <td>0.619514</td>\n",
       "      <td>0.626931</td>\n",
       "      <td>0.617246</td>\n",
       "      <td>0.631461</td>\n",
       "      <td>2.222500</td>\n",
       "      <td>200.224000</td>\n",
       "    </tr>\n",
       "    <tr>\n",
       "      <td>3</td>\n",
       "      <td>No log</td>\n",
       "      <td>0.951265</td>\n",
       "      <td>0.618321</td>\n",
       "      <td>0.582734</td>\n",
       "      <td>0.658537</td>\n",
       "      <td>0.480000</td>\n",
       "      <td>0.545455</td>\n",
       "      <td>0.428571</td>\n",
       "      <td>0.714286</td>\n",
       "      <td>0.688776</td>\n",
       "      <td>0.741758</td>\n",
       "      <td>0.620225</td>\n",
       "      <td>0.604202</td>\n",
       "      <td>0.605655</td>\n",
       "      <td>0.609622</td>\n",
       "      <td>0.620225</td>\n",
       "      <td>2.261700</td>\n",
       "      <td>196.759000</td>\n",
       "    </tr>\n",
       "    <tr>\n",
       "      <td>4</td>\n",
       "      <td>No log</td>\n",
       "      <td>1.084374</td>\n",
       "      <td>0.630435</td>\n",
       "      <td>0.568627</td>\n",
       "      <td>0.707317</td>\n",
       "      <td>0.507353</td>\n",
       "      <td>0.522727</td>\n",
       "      <td>0.492857</td>\n",
       "      <td>0.701754</td>\n",
       "      <td>0.750000</td>\n",
       "      <td>0.659341</td>\n",
       "      <td>0.620225</td>\n",
       "      <td>0.613181</td>\n",
       "      <td>0.613785</td>\n",
       "      <td>0.619838</td>\n",
       "      <td>0.620225</td>\n",
       "      <td>2.271700</td>\n",
       "      <td>195.888000</td>\n",
       "    </tr>\n",
       "    <tr>\n",
       "      <td>5</td>\n",
       "      <td>No log</td>\n",
       "      <td>1.117048</td>\n",
       "      <td>0.607004</td>\n",
       "      <td>0.582090</td>\n",
       "      <td>0.634146</td>\n",
       "      <td>0.526718</td>\n",
       "      <td>0.565574</td>\n",
       "      <td>0.492857</td>\n",
       "      <td>0.695418</td>\n",
       "      <td>0.682540</td>\n",
       "      <td>0.708791</td>\n",
       "      <td>0.620225</td>\n",
       "      <td>0.609713</td>\n",
       "      <td>0.610068</td>\n",
       "      <td>0.611932</td>\n",
       "      <td>0.620225</td>\n",
       "      <td>2.283400</td>\n",
       "      <td>194.883000</td>\n",
       "    </tr>\n",
       "  </tbody>\n",
       "</table><p>"
      ],
      "text/plain": [
       "<IPython.core.display.HTML object>"
      ]
     },
     "metadata": {},
     "output_type": "display_data"
    },
    {
     "data": {
      "text/plain": [
       "TrainOutput(global_step=420, training_loss=0.5395730154854911, metrics={'train_runtime': 146.713, 'train_samples_per_second': 2.863, 'total_flos': 563573214074880.0, 'epoch': 5.0, 'init_mem_cpu_alloc_delta': 54251, 'init_mem_gpu_alloc_delta': 0, 'init_mem_cpu_peaked_delta': 18258, 'init_mem_gpu_peaked_delta': 0, 'train_mem_cpu_alloc_delta': 1147347, 'train_mem_gpu_alloc_delta': 1794120704, 'train_mem_cpu_peaked_delta': 95403114, 'train_mem_gpu_peaked_delta': 1338075648})"
      ]
     },
     "execution_count": 14,
     "metadata": {},
     "output_type": "execute_result"
    }
   ],
   "source": [
    "trainer.train()"
   ]
  },
  {
   "cell_type": "code",
   "execution_count": 15,
   "metadata": {},
   "outputs": [
    {
     "data": {
      "text/html": [
       "\n",
       "    <div>\n",
       "        <style>\n",
       "            /* Turns off some styling */\n",
       "            progress {\n",
       "                /* gets rid of default border in Firefox and Opera. */\n",
       "                border: none;\n",
       "                /* Needs to be in here for Safari polyfill so background images work as expected. */\n",
       "                background-size: auto;\n",
       "            }\n",
       "        </style>\n",
       "      \n",
       "      <progress value='131' max='56' style='width:300px; height:20px; vertical-align: middle;'></progress>\n",
       "      [56/56 00:05]\n",
       "    </div>\n",
       "    "
      ],
      "text/plain": [
       "<IPython.core.display.HTML object>"
      ]
     },
     "metadata": {},
     "output_type": "display_data"
    },
    {
     "data": {
      "text/plain": [
       "{'eval_loss': 0.8445785641670227,\n",
       " 'eval_neg_f1': 0.6239316239316239,\n",
       " 'eval_neg_precision': 0.6576576576576577,\n",
       " 'eval_neg_recall': 0.5934959349593496,\n",
       " 'eval_neu_f1': 0.532319391634981,\n",
       " 'eval_neu_precision': 0.5691056910569106,\n",
       " 'eval_neu_recall': 0.5,\n",
       " 'eval_pos_f1': 0.7022900763358779,\n",
       " 'eval_pos_precision': 0.6540284360189573,\n",
       " 'eval_pos_recall': 0.7582417582417582,\n",
       " 'eval_micro_f1': 0.6314606741573033,\n",
       " 'eval_macro_f1': 0.6195136904716492,\n",
       " 'eval_macro_precision': 0.6269305944442749,\n",
       " 'eval_macro_recall': 0.6172458529472351,\n",
       " 'eval_acc': 0.6314606741573033,\n",
       " 'eval_runtime': 2.1696,\n",
       " 'eval_samples_per_second': 205.109,\n",
       " 'epoch': 5.0,\n",
       " 'eval_mem_cpu_alloc_delta': 63570,\n",
       " 'eval_mem_gpu_alloc_delta': 0,\n",
       " 'eval_mem_cpu_peaked_delta': 128808,\n",
       " 'eval_mem_gpu_peaked_delta': 35169792}"
      ]
     },
     "execution_count": 15,
     "metadata": {},
     "output_type": "execute_result"
    }
   ],
   "source": [
    "trainer.evaluate(dev_dataset)"
   ]
  },
  {
   "cell_type": "code",
   "execution_count": 16,
   "metadata": {},
   "outputs": [
    {
     "data": {
      "text/plain": [
       "{'eval_loss': 0.7685454487800598,\n",
       " 'eval_neg_f1': 0.6538461538461539,\n",
       " 'eval_neg_precision': 0.7034482758620689,\n",
       " 'eval_neg_recall': 0.6107784431137725,\n",
       " 'eval_neu_f1': 0.6201117318435755,\n",
       " 'eval_neu_precision': 0.6809815950920245,\n",
       " 'eval_neu_recall': 0.5692307692307692,\n",
       " 'eval_pos_f1': 0.7170542635658913,\n",
       " 'eval_pos_precision': 0.6491228070175439,\n",
       " 'eval_pos_recall': 0.8008658008658008,\n",
       " 'eval_micro_f1': 0.6711635750421585,\n",
       " 'eval_macro_f1': 0.6636707186698914,\n",
       " 'eval_macro_precision': 0.6778509020805359,\n",
       " 'eval_macro_recall': 0.6602916717529297,\n",
       " 'eval_acc': 0.6711635750421585,\n",
       " 'eval_runtime': 3.1814,\n",
       " 'eval_samples_per_second': 186.398,\n",
       " 'epoch': 5.0,\n",
       " 'eval_mem_cpu_alloc_delta': 70478,\n",
       " 'eval_mem_gpu_alloc_delta': 0,\n",
       " 'eval_mem_cpu_peaked_delta': 175801,\n",
       " 'eval_mem_gpu_peaked_delta': 35173376}"
      ]
     },
     "execution_count": 16,
     "metadata": {},
     "output_type": "execute_result"
    }
   ],
   "source": [
    "trainer.evaluate(test_dataset)"
   ]
  },
  {
   "cell_type": "code",
   "execution_count": 17,
   "metadata": {},
   "outputs": [],
   "source": [
    "model = trainer.model"
   ]
  },
  {
   "cell_type": "code",
   "execution_count": 18,
   "metadata": {},
   "outputs": [],
   "source": [
    "from torch.nn import functional as F\n",
    "def predict(sentence, target):\n",
    "    \"\"\"\n",
    "    Return most likely class for the sentence\n",
    "    \"\"\"\n",
    "    idx = torch.LongTensor(tokenizer.encode(sentence, build_auxiliary_sentence(target))).view(1, -1).to(device)\n",
    "    output = model(idx)\n",
    "    probs = F.softmax(output.logits, dim=1).view(-1)\n",
    "    probas = {id2label[i]:probs[i].item() for i in id2label}\n",
    "\n",
    "    return probas\n",
    "\n"
   ]
  },
  {
   "cell_type": "code",
   "execution_count": 19,
   "metadata": {},
   "outputs": [
    {
     "name": "stdout",
     "output_type": "stream",
     "text": [
      "Messi\n",
      "{'NEG': 0.6690586805343628, 'NEU': 0.11109622567892075, 'POS': 0.21984511613845825}\n",
      "Cristiano Ronaldo\n",
      "{'NEG': 0.5807671546936035, 'NEU': 0.141855850815773, 'POS': 0.2773769199848175}\n"
     ]
    }
   ],
   "source": [
    "sentence = \"Gran 2020 para Messi, pero bastante malo para Cristiano Ronaldo\"\n",
    "\n",
    "targets = [\"Messi\", \"Cristiano Ronaldo\"]\n",
    "\n",
    "for target in targets:\n",
    "    print(target)\n",
    "    print(predict(sentence, target))"
   ]
  },
  {
   "cell_type": "code",
   "execution_count": 20,
   "metadata": {},
   "outputs": [
    {
     "name": "stdout",
     "output_type": "stream",
     "text": [
      "Alberto Fernández\n",
      "{'NEG': 0.4442727267742157, 'NEU': 0.07180363684892654, 'POS': 0.4839235842227936}\n",
      "Macri\n",
      "{'NEG': 0.91265469789505, 'NEU': 0.02680148556828499, 'POS': 0.06054387241601944}\n"
     ]
    }
   ],
   "source": [
    "sentence = \"Alberto Fernández: \\\"El gobierno de Macri fue un desastre\\\"\"\n",
    "\n",
    "targets = [\"Alberto Fernández\", \"Macri\"]\n",
    "\n",
    "for target in targets:\n",
    "    print(target)\n",
    "    print(predict(sentence, target))"
   ]
  },
  {
   "cell_type": "code",
   "execution_count": 21,
   "metadata": {},
   "outputs": [
    {
     "name": "stdout",
     "output_type": "stream",
     "text": [
      "Alberto Fernández\n",
      "{'NEG': 0.4194716215133667, 'NEU': 0.0903436467051506, 'POS': 0.49018481373786926}\n",
      "Xi Jin Ping\n",
      "{'NEG': 0.601568341255188, 'NEU': 0.07467816770076752, 'POS': 0.32375356554985046}\n"
     ]
    }
   ],
   "source": [
    "sentence = \"Alberto Fernández: \\\"El gobierno de Xi Jin Ping fue un desastre\\\"\"\n",
    "\n",
    "targets = [\"Alberto Fernández\", \"Xi Jin Ping\"]\n",
    "\n",
    "for target in targets:\n",
    "    print(target)\n",
    "    print(predict(sentence, target))"
   ]
  },
  {
   "cell_type": "code",
   "execution_count": 22,
   "metadata": {},
   "outputs": [
    {
     "name": "stdout",
     "output_type": "stream",
     "text": [
      "Romina del Plá\n",
      "{'NEG': 0.06417309492826462, 'NEU': 0.6475261449813843, 'POS': 0.2883007228374481}\n",
      "Alberto Fernández\n",
      "{'NEG': 0.08538411557674408, 'NEU': 0.6179078221321106, 'POS': 0.29670801758766174}\n"
     ]
    }
   ],
   "source": [
    "sentence = \"Romina Del Plá denunció el ajuste de Alberto Fernández\"\n",
    "\n",
    "targets = [\"Romina del Plá\", \"Alberto Fernández\"]\n",
    "\n",
    "for target in targets:\n",
    "    print(target)\n",
    "    print(predict(sentence, target))"
   ]
  },
  {
   "cell_type": "code",
   "execution_count": 23,
   "metadata": {},
   "outputs": [
    {
     "name": "stdout",
     "output_type": "stream",
     "text": [
      "Gobierno\n",
      "{'NEG': 0.1383291631937027, 'NEU': 0.3001222312450409, 'POS': 0.5615485906600952}\n"
     ]
    }
   ],
   "source": [
    "sentence = \"El Gobierno mejora la compra de vacunas\"\n",
    "\n",
    "targets = [\"Gobierno\"]\n",
    "\n",
    "for target in targets:\n",
    "    print(target)\n",
    "    print(predict(sentence, target))"
   ]
  },
  {
   "cell_type": "code",
   "execution_count": 24,
   "metadata": {},
   "outputs": [
    {
     "name": "stdout",
     "output_type": "stream",
     "text": [
      "Gobierno\n",
      "{'NEG': 0.9003186225891113, 'NEU': 0.0459490530192852, 'POS': 0.053732261061668396}\n",
      "Cristina Kirchner\n",
      "{'NEG': 0.8043696880340576, 'NEU': 0.07392097264528275, 'POS': 0.12170933932065964}\n"
     ]
    }
   ],
   "source": [
    "sentence = \"Cristina Kirchner acusa al Gobierno de corrupción en la compra de vacunas\"\n",
    "\n",
    "targets = [\"Gobierno\", \"Cristina Kirchner\"]\n",
    "\n",
    "for target in targets:\n",
    "    print(target)\n",
    "    print(predict(sentence, target))"
   ]
  },
  {
   "cell_type": "code",
   "execution_count": 25,
   "metadata": {},
   "outputs": [
    {
     "name": "stdout",
     "output_type": "stream",
     "text": [
      "Gobierno\n",
      "{'NEG': 0.862302839756012, 'NEU': 0.06734393537044525, 'POS': 0.0703531950712204}\n",
      "empresas estadounidenses\n",
      "{'NEG': 0.8728734254837036, 'NEU': 0.05331512913107872, 'POS': 0.07381149381399155}\n"
     ]
    }
   ],
   "source": [
    "sentence = \"El duro comunicado de las empresas estadounidenses contra el Gobierno\"\n",
    "\n",
    "targets = [\"Gobierno\", \"empresas estadounidenses\"]\n",
    "\n",
    "for target in targets:\n",
    "    print(target)\n",
    "    print(predict(sentence, target))"
   ]
  },
  {
   "cell_type": "code",
   "execution_count": 26,
   "metadata": {},
   "outputs": [
    {
     "name": "stdout",
     "output_type": "stream",
     "text": [
      "Vidal\n",
      "{'NEG': 0.39318323135375977, 'NEU': 0.48746615648269653, 'POS': 0.11935054510831833}\n",
      "Bullrich\n",
      "{'NEG': 0.44138288497924805, 'NEU': 0.41806885600090027, 'POS': 0.14054828882217407}\n"
     ]
    }
   ],
   "source": [
    "sentence = \"Ultiman negociaciones para cerrar acuerdo en la Ciudad entre Vidal y Bullrich\"\n",
    "\n",
    "targets = [\"Vidal\", \"Bullrich\"]\n",
    "\n",
    "for target in targets:\n",
    "    print(target)\n",
    "    print(predict(sentence, target))"
   ]
  },
  {
   "cell_type": "code",
   "execution_count": 27,
   "metadata": {},
   "outputs": [
    {
     "name": "stdout",
     "output_type": "stream",
     "text": [
      "Gobierno\n",
      "{'NEG': 0.7552647590637207, 'NEU': 0.05085083097219467, 'POS': 0.1938844621181488}\n",
      "Bullrich\n",
      "{'NEG': 0.6112171411514282, 'NEU': 0.09347894042730331, 'POS': 0.29530394077301025}\n"
     ]
    }
   ],
   "source": [
    "sentence = \"\\\"Este Gobierno ha sido una lacra corrupta inmunda\\\" declaró Patricia Bullrich\"\n",
    "\n",
    "targets = [\"Gobierno\", \"Bullrich\"]\n",
    "\n",
    "for target in targets:\n",
    "    print(target)\n",
    "    print(predict(sentence, target))"
   ]
  },
  {
   "cell_type": "markdown",
   "metadata": {},
   "source": [
    "Si lo ponemos adelante, sin embargo..."
   ]
  },
  {
   "cell_type": "markdown",
   "metadata": {},
   "source": [
    "Si lo ponemos adelante, sin embargo..."
   ]
  },
  {
   "cell_type": "code",
   "execution_count": 28,
   "metadata": {},
   "outputs": [
    {
     "name": "stdout",
     "output_type": "stream",
     "text": [
      "Gobierno\n",
      "{'NEG': 0.7232314348220825, 'NEU': 0.05712062865495682, 'POS': 0.21964794397354126}\n",
      "Bullrich\n",
      "{'NEG': 0.6413940191268921, 'NEU': 0.0537356473505497, 'POS': 0.3048703372478485}\n"
     ]
    }
   ],
   "source": [
    "sentence = \"Patricia Bullrich: \\\"Este Gobierno ha sido una lacra corrupta inmunda\\\"\"\n",
    "\n",
    "targets = [\"Gobierno\", \"Bullrich\"]\n",
    "\n",
    "for target in targets:\n",
    "    print(target)\n",
    "    print(predict(sentence, target))"
   ]
  },
  {
   "cell_type": "code",
   "execution_count": 29,
   "metadata": {},
   "outputs": [
    {
     "name": "stdout",
     "output_type": "stream",
     "text": [
      "Keiko\n",
      "{'NEG': 0.0744931697845459, 'NEU': 0.15313492715358734, 'POS': 0.7723719477653503}\n",
      "Pedro Castillo\n",
      "{'NEG': 0.11460885405540466, 'NEU': 0.1087641492486, 'POS': 0.7766269445419312}\n",
      "Gobierno\n",
      "{'NEG': 0.3086913526058197, 'NEU': 0.23350739479064941, 'POS': 0.4578011929988861}\n"
     ]
    }
   ],
   "source": [
    "sentence = \"Keiko: 'Pedro Castillo es un pésimo dirigente, pero por suerte este Gobierno es lo mejor que le ha pasado a Perú'\"\n",
    "\n",
    "targets = [\"Keiko\", \"Pedro Castillo\", \"Gobierno\"]\n",
    "\n",
    "for target in targets:\n",
    "    print(target)\n",
    "    print(predict(sentence, target))"
   ]
  },
  {
   "cell_type": "code",
   "execution_count": 30,
   "metadata": {},
   "outputs": [
    {
     "name": "stdout",
     "output_type": "stream",
     "text": [
      "L-Gante\n",
      "{'NEG': 0.5695484280586243, 'NEU': 0.04332480952143669, 'POS': 0.38712671399116516}\n",
      "Cristina Kirchner\n",
      "{'NEG': 0.71095871925354, 'NEU': 0.04018707573413849, 'POS': 0.24885421991348267}\n"
     ]
    }
   ],
   "source": [
    "sentence = \"El contundente mensaje de L-Gante contra Cristina Kirchner: \\\"A mí nadie me regaló nada\\\"\"\n",
    "\n",
    "targets = [\"L-Gante\", \"Cristina Kirchner\"]\n",
    "\n",
    "for target in targets:\n",
    "    print(target)\n",
    "    print(predict(sentence, target))\n"
   ]
  },
  {
   "cell_type": "code",
   "execution_count": 31,
   "metadata": {},
   "outputs": [
    {
     "name": "stdout",
     "output_type": "stream",
     "text": [
      "Dalma\n",
      "{'NEG': 0.8099995255470276, 'NEU': 0.0764666199684143, 'POS': 0.1135338544845581}\n",
      "Gianinna\n",
      "{'NEG': 0.8513584733009338, 'NEU': 0.0592937134206295, 'POS': 0.08934776484966278}\n",
      "Matías Morla\n",
      "{'NEG': 0.9031091332435608, 'NEU': 0.044463928788900375, 'POS': 0.052426934242248535}\n"
     ]
    }
   ],
   "source": [
    "sentence = \"Causa Maradona: Dalma y Gianinna denunciaron que quieren que Matías Morla se vaya\"\n",
    "\n",
    "targets = [\"Dalma\", \"Gianinna\", \"Matías Morla\"]\n",
    "\n",
    "\n",
    "for target in targets:\n",
    "    print(target)\n",
    "    print(predict(sentence, target))"
   ]
  },
  {
   "cell_type": "code",
   "execution_count": 32,
   "metadata": {},
   "outputs": [
    {
     "name": "stdout",
     "output_type": "stream",
     "text": [
      "================================================================================\n",
      "{'Mauricio Macri': 'NEG', 'Alberto Fernández': 'POS'}\n",
      "Alberto Fernández cruzó a Mauricio Macri por la mención a San Martín: \"Nada heroico hizo usted\"\n",
      "Mauricio Macri  OK\n",
      "Alberto Fernández  OK\n",
      "================================================================================\n",
      "{'Mauricio Macri': 'NEU', 'Alberto Fernández': 'POS'}\n",
      "Alberto Fernández le pidió a Mauricio Macri que \"no libere el dólar\" si pierde las elecciones\n",
      "Mauricio Macri  era NEU, predijo NEG\n",
      "Alberto Fernández  OK\n",
      "================================================================================\n",
      "{'Miguel Pichetto': 'POS', 'Mauricio Macri': 'POS', 'Alberto Fernández': 'NEG'}\n",
      "Para Miguel Pichetto, el ganador del debate fue Mauricio Macri: “Alberto Fernández fue muy agresivo y arrogante”\n",
      "Miguel Pichetto\n",
      "NEG    0.655971\n",
      "NEU    0.068825\n",
      "POS    0.275205\n",
      "dtype: float64\n",
      "Mauricio Macri\n",
      "NEG    0.735141\n",
      "NEU    0.070548\n",
      "POS    0.194311\n",
      "dtype: float64\n",
      "Alberto Fernández  OK\n",
      "================================================================================\n",
      "{'Mauricio Macri': 'NEG', 'Alberto Fernández': 'POS'}\n",
      "Alberto Fernández cruzó a Mauricio Macri por la referencia a San Martín: “Usted solo supo entregar el país al FMI, nada heroico hizo”\n",
      "Mauricio Macri  OK\n",
      "Alberto Fernández  OK\n",
      "================================================================================\n",
      "{'Mauricio Macri': 'POS', 'Alberto Fernández': 'NEG'}\n",
      "En un debate con pocas propuestas, Mauricio Macri defendió su gestión y Alberto Fernández jugó a atacarlo\n",
      "Mauricio Macri\n",
      "NEG    0.672986\n",
      "NEU    0.084871\n",
      "POS    0.242143\n",
      "dtype: float64\n",
      "Alberto Fernández  OK\n",
      "================================================================================\n",
      "{'Gobierno': 'NEG', 'Alberto Fernández': 'POS'}\n",
      "Alberto Fernández pidió al Gobierno “que haga menos daño” rumbo a diciembre\n",
      "Gobierno\n",
      "NEG    0.076870\n",
      "NEU    0.186917\n",
      "POS    0.736213\n",
      "dtype: float64\n",
      "Alberto Fernández  OK\n",
      "================================================================================\n",
      "{'Lavagna': 'POS', 'Macri': 'NEG', 'Alberto Fernández': 'NEG'}\n",
      "Lavagna busca quebrar la polarización con críticas a Macri y Alberto Fernández\n",
      "Lavagna  OK\n",
      "Macri  OK\n",
      "Alberto Fernández  OK\n",
      "================================================================================\n",
      "{'Roberto Lavagna': 'POS', 'Gobierno': 'NEG'}\n",
      "Roberto Lavagna acusa al Gobierno de copiar sus medidas: \"Lo hacen tarde y mal\"\n",
      "Roberto Lavagna\n",
      "NEG    0.702795\n",
      "NEU    0.065094\n",
      "POS    0.232111\n",
      "dtype: float64\n",
      "Gobierno  OK\n",
      "================================================================================\n",
      "{'Macri': 'NEG', 'Alberto': 'POS', 'Cristina': 'POS'}\n",
      "Alberto y Cristina celebraron el Día de la Lealtad con un acto donde no ahorraron en críticas a Macri\n",
      "Macri  era NEG, predijo NEU\n",
      "Alberto  era POS, predijo NEU\n",
      "Cristina  era POS, predijo NEU\n",
      "================================================================================\n",
      "{'Lavagna': 'POS', 'Macri': 'NEG'}\n",
      "Lavagna acusó a Macri de copiarle las medidas que él sugirió\n",
      "Lavagna  OK\n",
      "Macri\n",
      "NEG    0.252317\n",
      "NEU    0.314942\n",
      "POS    0.432741\n",
      "dtype: float64\n",
      "================================================================================\n",
      "{'Roberto Lavagna': 'POS', 'Alberto Fernández': 'NEU'}\n",
      "Roberto Lavagna descarta acercarse a Alberto Fernández después del 10 de diciembre: “Soy presidente o nada”\n",
      "Roberto Lavagna  OK\n",
      "Alberto Fernández  era NEU, predijo POS\n",
      "================================================================================\n",
      "{'Macri”': 'NEG', 'Alberto': 'POS'}\n",
      "Cierre de Alberto en Mar del Plata: “Sacaremos de la pobreza a los cinco millones que dejó Macri”\n",
      "Macri”  OK\n",
      "Alberto  OK\n",
      "================================================================================\n",
      "{'Pichetto': 'POS', 'Alberto Fernández': 'NEG'}\n",
      "Para Pichetto, Alberto Fernández hace “apología del pobrismo, de la pobreza y el hambre”\n",
      "Pichetto  OK\n",
      "Alberto Fernández\n",
      "NEG    0.192729\n",
      "NEU    0.104427\n",
      "POS    0.702844\n",
      "dtype: float64\n",
      "================================================================================\n",
      "{'Macri': 'NEG', 'Alberto F': 'POS'}\n",
      "Déjà vu de Alberto F.: ganar el domingo y que (Macri) dispare el precio del dólar\n",
      "Macri  OK\n",
      "Alberto F  OK\n",
      "================================================================================\n",
      "{'Macri': 'POS', 'kirchnerismo': 'NEG'}\n",
      "El gobierno de Bolsonaro volvió a respaldar a Macri y acusó al kirchnerismo de impulsar dictaduras en la región\n",
      "Macri  OK\n",
      "kirchnerismo\n",
      "NEG    0.311726\n",
      "NEU    0.071616\n",
      "POS    0.616659\n",
      "dtype: float64\n",
      "================================================================================\n",
      "{'Roberto Lavagna': 'POS', 'Gobierno': 'NEG'}\n",
      "Roberto Lavagna ve débil al Gobierno y aspira a ser la segunda fuerza en las presidenciales\n",
      "Roberto Lavagna  OK\n",
      "Gobierno\n",
      "NEG    0.158346\n",
      "NEU    0.117056\n",
      "POS    0.724597\n",
      "dtype: float64\n",
      "================================================================================\n",
      "{'este gobierno': 'POS', 'Alberto Fernández': 'NEG', 'gobierno k': 'NEG'}\n",
      "Juan José Campanella chicaneó a Alberto Fernández: \"Parece que no vio la obra pública que hizo este gobierno, tampoco la corrupción del gobierno k\"\n",
      "este gobierno\n",
      "NEG    0.887046\n",
      "NEU    0.042822\n",
      "POS    0.070131\n",
      "dtype: float64\n",
      "Alberto Fernández  OK\n",
      "gobierno k  OK\n",
      "================================================================================\n",
      "{'macri': 'NEG', 'Nicolás del Caño': 'POS'}\n",
      "Nicolás del Caño: críticas a los pactos entre macristas y kirchneristas\n",
      "macri  OK\n",
      "Nicolás del Caño  era POS, predijo NEU\n",
      "================================================================================\n",
      "{'Macri?': 'NEG', 'Alberto Fernández': 'POS'}\n",
      "Alberto Fernández sobre las protestas en Chile: \"¿Somos conscientes los argentinos de lo que toleramos con Macri?\n",
      "Macri?  OK\n",
      "Alberto Fernández  OK\n",
      "================================================================================\n",
      "{'Macri': 'NEG', 'Alberto Fernández': 'POS'}\n",
      "Alberto Fernández le respondió a Macri por el \"dedito acusador\": \"Que se dedique a gobernar\"\n",
      "Macri  OK\n",
      "Alberto Fernández  OK\n",
      "================================================================================\n",
      "{'Mauricio Macri': 'NEG', 'La Izquierda': 'POS', 'Nicolás del Caño': 'POS', 'kirchnerismo': 'NEG'}\n",
      "La Izquierda cortó la 9 de Julio y Nicolás del Caño repartió críticas a Mauricio Macri y el kirchnerismo\n",
      "Mauricio Macri  era NEG, predijo NEU\n",
      "La Izquierda  OK\n",
      "Nicolás del Caño  era POS, predijo NEU\n",
      "kirchnerismo  era NEG, predijo NEU\n",
      "================================================================================\n",
      "{'Mauricio Macri': 'POS', 'Cristina': 'NEG'}\n",
      "Elecciones 2019: Mauricio Macri cruzó a Cristina y acusó al gobierno anterior de dejar el Banco Central vacío\n",
      "Mauricio Macri  OK\n",
      "Cristina\n",
      "NEG    0.271906\n",
      "NEU    0.288552\n",
      "POS    0.439542\n",
      "dtype: float64\n",
      "================================================================================\n",
      "{'Macri': 'NEG', 'Alberto Fernández': 'POS'}\n",
      "Alberto Fernández, sobre las promesas de Macri: “Lo único que hizo fue sumergir en la pobreza a 5 millones de argentinos”\n",
      "Macri  OK\n",
      "Alberto Fernández  OK\n",
      "================================================================================\n",
      "{'Macri': 'NEU', 'Fernández': 'NEG'}\n",
      "Macri post debate: “bronca” con la “agresividad” de Fernández\n",
      "Macri  era NEU, predijo NEG\n",
      "Fernández  OK\n",
      "================================================================================\n",
      "{'Macri': 'NEU', 'Alberto Fernández': 'NEG'}\n",
      "Debate, Macri y el \"dedo acusador\" de Alberto Fernández: noticias de la semana\n",
      "Macri  OK\n",
      "Alberto Fernández  era NEG, predijo NEU\n",
      "================================================================================\n",
      "{'Lavagna': 'POS', 'Cristina”': 'NEG'}\n",
      "Deseo empresario: “Qué el candidato K sea más Lavagna y menos Cristina”\n",
      "Lavagna  OK\n",
      "Cristina”\n",
      "NEG    0.110850\n",
      "NEU    0.084812\n",
      "POS    0.804338\n",
      "dtype: float64\n",
      "================================================================================\n",
      "{'Pichetto': 'NEU', 'Fernández': 'NEG', 'Cristina': 'NEG'}\n",
      "Pichetto: Si gana Fernández, gana Cristina y va a gobernar ella\n",
      "Pichetto  era NEU, predijo POS\n",
      "Fernández\n",
      "NEG    0.279337\n",
      "NEU    0.135650\n",
      "POS    0.585013\n",
      "dtype: float64\n",
      "Cristina\n",
      "NEG    0.162825\n",
      "NEU    0.166328\n",
      "POS    0.670848\n",
      "dtype: float64\n",
      "================================================================================\n",
      "{'Mauricio Macri': 'POS', 'Gómez Centurión': 'NEG'}\n",
      "Juan José Gómez Centurión, duro con su candidato en Provincia que llamó a votar por Mauricio Macri: “Un judas sin valores ni escrúpulos”\n",
      "Mauricio Macri\n",
      "NEG    0.854400\n",
      "NEU    0.037298\n",
      "POS    0.108302\n",
      "dtype: float64\n",
      "Gómez Centurión  OK\n",
      "================================================================================\n",
      "{'Macri': 'NEG', 'Alberto Fernández': 'POS'}\n",
      "Alberto Fernández: \"Que no prometa lo que no puede cumplir, lo único que hizo Macri fue destruir el trabajo\"\n",
      "Macri  OK\n",
      "Alberto Fernández  OK\n",
      "================================================================================\n",
      "{'Miguel Pichetto': 'POS', 'Cristina': 'NEG'}\n",
      "Miguel Pichetto: \"Cristina abandonó Córdoba y no vino a dar la cara como candidata\"\n",
      "Miguel Pichetto\n",
      "NEG    0.504832\n",
      "NEU    0.193558\n",
      "POS    0.301610\n",
      "dtype: float64\n",
      "Cristina  OK\n",
      "================================================================================\n",
      "{'Macri': 'NEG', 'Cristina Kirchner': 'POS'}\n",
      "Cristina Kirchner en El Calafate: \"Macri no será Chispita, pero el problema no es él sino sus políticas\"\n",
      "Macri  OK\n",
      "Cristina Kirchner  OK\n",
      "================================================================================\n",
      "{'Mauricio Macri': 'NEG', 'Alberto Fernández': 'POS', 'Cristina Kirchner': 'POS'}\n",
      "Con citas a Perón y duras críticas a Mauricio Macri, Alberto Fernández y Cristina Kirchner encabezaron el acto por el Día de la Lealtad en La Pampa\n",
      "Mauricio Macri  era NEG, predijo NEU\n",
      "Alberto Fernández  era POS, predijo NEU\n",
      "Cristina Kirchner  era POS, predijo NEU\n",
      "================================================================================\n",
      "{'Mauricio Macri': 'NEG', 'Alberto Fernández': 'NEU'}\n",
      "Alberto Fernández sobre los muertos en Chile: “¿Qué hubiera dicho Mauricio Macri si pasaba en Venezuela?”\n",
      "Mauricio Macri  OK\n",
      "Alberto Fernández  era NEU, predijo POS\n",
      "================================================================================\n",
      "{'Mauricio Macri': 'NEG', 'Alberto Fernández': 'POS'}\n",
      "Alberto Fernández sigue la polémica con Mauricio Macri por los celulares: “Con usted los jubilados son pobres”\n",
      "Mauricio Macri  OK\n",
      "Alberto Fernández  OK\n",
      "================================================================================\n",
      "{'Macri': 'NEG', ' Del Caño': 'POS'}\n",
      "[Video] Del Caño: “Somos la única fuerza que dice que con Macri hubo unos pocos que ganaron mucho”\n",
      "Macri\n",
      "NEG    0.313543\n",
      "NEU    0.059943\n",
      "POS    0.626514\n",
      "dtype: float64\n",
      " Del Caño  OK\n",
      "================================================================================\n",
      "{'Macri': 'NEG', 'peronismo': 'POS'}\n",
      "Quiénes son los comuneros del peronismo que pueden ganar por primera vez desde que gobierna Macri\n",
      "Macri\n",
      "NEG    0.143572\n",
      "NEU    0.282439\n",
      "POS    0.573989\n",
      "dtype: float64\n",
      "peronismo  OK\n",
      "================================================================================\n",
      "{'La izquierda': 'POS', 'peronismo': 'NEG'}\n",
      "La izquierda se movilizó con críticas al peronismo\n",
      "La izquierda  OK\n",
      "peronismo\n",
      "NEG    0.070135\n",
      "NEU    0.086925\n",
      "POS    0.842940\n",
      "dtype: float64\n"
     ]
    }
   ],
   "source": [
    "for instance in [x for x in test_data if is_mixed(x)]:\n",
    "    print(\"=\"*80)\n",
    "    print(instance[\"labels\"])\n",
    "    sentence = instance[\"titulo\"]\n",
    "    print(sentence)\n",
    "\n",
    "    targets = instance[\"labels\"]\n",
    "\n",
    "    for target, label in targets.items():\n",
    "        probas = pd.Series(predict(sentence, target))\n",
    "        predicted_label = probas.index[probas.argmax()]\n",
    "\n",
    "        if {predicted_label, label} == {\"NEG\", \"POS\"}:\n",
    "            print(target)\n",
    "            print(probas)\n",
    "        elif predicted_label != label:\n",
    "            print(target , f\" era {label}, predijo {predicted_label}\")\n",
    "        else:\n",
    "            print(target, \" OK\")"
   ]
  },
  {
   "cell_type": "code",
   "execution_count": null,
   "metadata": {},
   "outputs": [],
   "source": []
  }
 ],
 "metadata": {
  "interpreter": {
   "hash": "c22e1f0f586e152b720d45074bb422dadc7ff3eb06c32e08d5ec49d7ee1ec582"
  },
  "kernelspec": {
   "display_name": "Python 3.8.5 64-bit ('3.8.5': pyenv)",
   "name": "python3"
  },
  "language_info": {
   "codemirror_mode": {
    "name": "ipython",
    "version": 3
   },
   "file_extension": ".py",
   "mimetype": "text/x-python",
   "name": "python",
   "nbconvert_exporter": "python",
   "pygments_lexer": "ipython3",
   "version": "3.8.5"
  },
  "orig_nbformat": 4
 },
 "nbformat": 4,
 "nbformat_minor": 2
}