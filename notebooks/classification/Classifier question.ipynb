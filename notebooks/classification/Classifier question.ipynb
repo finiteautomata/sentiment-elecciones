{
 "cells": [
  {
   "cell_type": "markdown",
   "metadata": {},
   "source": [
    "## Targeted Classifier Experiment\n"
   ]
  },
  {
   "cell_type": "code",
   "execution_count": 1,
   "metadata": {},
   "outputs": [],
   "source": [
    "%load_ext autoreload\n",
    "%autoreload 2\n",
    "\n",
    "import sklearn\n",
    "import json\n",
    "\n",
    "\n",
    "with open(\"../../data/dataset.json\") as f:\n",
    "    data = json.load(f)\n"
   ]
  },
  {
   "cell_type": "markdown",
   "metadata": {},
   "source": [
    "## Exploratorio"
   ]
  },
  {
   "cell_type": "code",
   "execution_count": 2,
   "metadata": {},
   "outputs": [
    {
     "data": {
      "text/plain": [
       "(160, 1930)"
      ]
     },
     "execution_count": 2,
     "metadata": {},
     "output_type": "execute_result"
    }
   ],
   "source": [
    "def is_mixed(instance):\n",
    "    return len(set(instance[\"labels\"].values())) >= 2\n",
    "\n",
    "len([x for x in data if is_mixed(x)]), len(data)"
   ]
  },
  {
   "cell_type": "code",
   "execution_count": 3,
   "metadata": {},
   "outputs": [
    {
     "data": {
      "text/plain": [
       "[{'titulo': 'Entre el milagro de Macri y la grieta del peronismo',\n",
       "  'id': 39,\n",
       "  'labels': {'Macri': 'POS', 'peronismo': 'NEG'}},\n",
       " {'titulo': 'Tras plantar a Macri, Acevedo recibe a Alberto Fernández en la UIA',\n",
       "  'id': 951,\n",
       "  'labels': {'Macri': 'NEG', 'Alberto Fernández': 'POS'}},\n",
       " {'titulo': 'Alberto Fernández rechazó las promesas de Macri: “Lo único que hizo fue sumergir en la pobreza a 5 millones de argentinos”',\n",
       "  'id': 1265,\n",
       "  'labels': {'Macri': 'NEG', 'Alberto Fernández': 'POS'}},\n",
       " {'titulo': 'Miguel Ángel Pichetto en el acto a favor de Macri: “Si gana Fernández gana Cristina, y va a gobernar ella”',\n",
       "  'id': 1282,\n",
       "  'labels': {'Miguel Ángel Pichetto': 'POS',\n",
       "   'Macri': 'POS',\n",
       "   'Fernández': 'NEG',\n",
       "   'Cristina': 'NEG'}},\n",
       " {'titulo': 'Roberto Lavagna criticó el discurso de Mauricio Macri: “No es cierto, hoy no estamos mejor para empezar a crecer”',\n",
       "  'id': 1286,\n",
       "  'labels': {'Roberto Lavagna': 'POS', 'Mauricio Macri': 'NEG'}},\n",
       " {'titulo': 'La sugerencia de Cristina Kirchner a Alberto F. y la apuesta final del Gobierno por el milagro',\n",
       "  'id': 1291,\n",
       "  'labels': {'Gobierno': 'NEG',\n",
       "   'Alberto F.': 'POS',\n",
       "   'Cristina Kirchner': 'POS'}},\n",
       " {'titulo': 'Alberto Fernández criticó con dureza a Macri en Salta: “Lo que nos dejan es realmente tierra arrasada”',\n",
       "  'id': 1429,\n",
       "  'labels': {'Macri': 'NEG', 'Alberto Fernández': 'POS'}},\n",
       " {'titulo': 'Alberto Fernández, sobre las promesas de Macri: “Lo único que hizo fue sumergir en la pobreza a 5 millones de argentinos”',\n",
       "  'id': 1480,\n",
       "  'labels': {'Macri': 'NEG', 'Alberto Fernández': 'POS'}},\n",
       " {'titulo': 'Alberto Fernández: \"Que no prometa lo que no puede cumplir, lo único que hizo Macri fue destruir el trabajo\"',\n",
       "  'id': 1549,\n",
       "  'labels': {'Macri': 'NEG', 'Alberto Fernández': 'POS'}},\n",
       " {'titulo': 'Pichetto: Si gana Fernández, gana Cristina y va a gobernar ella',\n",
       "  'id': 1553,\n",
       "  'labels': {'Pichetto': 'NEU', 'Fernández': 'NEG', 'Cristina': 'NEG'}},\n",
       " {'titulo': 'Alberto Fernández reemplazará hoy a Cristina Kirchner en Salta mientras Mauricio Macri encabeza la marcha \"Sí se puede\"',\n",
       "  'id': 1640,\n",
       "  'labels': {'Mauricio Macri': 'POS',\n",
       "   'Alberto Fernández': 'NEU',\n",
       "   'Cristina Kirchner': 'NEU'}},\n",
       " {'titulo': 'Alberto Fernández le respondió a Mauricio Macri: \"Lo único que generó fueron pobres\"',\n",
       "  'id': 1681,\n",
       "  'labels': {'Mauricio Macri': 'NEG', 'Alberto Fernández': 'POS'}},\n",
       " {'titulo': 'IDEA: Macri y Lavagna confirmaron su presencia pero la duda es Alberto F.',\n",
       "  'id': 1759,\n",
       "  'labels': {'Lavagna': 'POS', 'Macri': 'POS', 'Alberto F.': 'NEG'}},\n",
       " {'titulo': 'El fracaso de Macri me obliga a votar al kirchnerismo',\n",
       "  'id': 2044,\n",
       "  'labels': {'Macri': 'NEG', 'kirchnerismo': 'POS'}},\n",
       " {'titulo': 'Cambiemos obtuvo una contundente victoria sobre el kirchnerismo en Mendoza y retuvo la gobernación',\n",
       "  'id': 2061,\n",
       "  'labels': {'Cambiemos': 'POS', 'kirchnerismo': 'NEG'}},\n",
       " {'titulo': 'La chicana del Gobierno a Alberto Fernández: “Nacionalizó la elección en Mendoza y su candidata fue duramente derrotada”',\n",
       "  'id': 2423,\n",
       "  'labels': {'Gobierno': 'POS', 'Alberto Fernández': 'NEG'}},\n",
       " {'titulo': 'En San Juan, Alberto Fernández volvió a criticar a Macri por la suba de la pobreza',\n",
       "  'id': 3401,\n",
       "  'labels': {'Macri': 'NEG', 'Alberto Fernández': 'POS'}},\n",
       " {'titulo': 'Alberto Fernández criticó a Macri tras los nuevos datos del INDEC: “No hay nada más inmoral que no reaccionar ante la pobreza”',\n",
       "  'id': 3695,\n",
       "  'labels': {'Macri': 'NEG', 'Alberto Fernández': 'POS'}},\n",
       " {'titulo': 'Roberto Lavagna inicia una mini gira por Córdoba y Santa Fe para intentar robarle votos a Macri en los principales centros urbanos del país',\n",
       "  'id': 3714,\n",
       "  'labels': {'Roberto Lavagna': 'POS', 'Macri': 'NEG'}},\n",
       " {'titulo': 'Mendoza: el candidato de Cambiemos obtuvo casi el 50% y le sacó 15 puntos al kirchnerismo',\n",
       "  'id': 3840,\n",
       "  'labels': {'Cambiemos': 'POS', 'kirchnerismo': 'NEG'}},\n",
       " {'titulo': 'Alberto Fernández, tras reunirse con la UIA: \"Macri nos deja un déficit fiscal de más de 7 puntos\"',\n",
       "  'id': 4599,\n",
       "  'labels': {'Macri': 'NEG', 'Alberto Fernández': 'POS'}},\n",
       " {'titulo': 'Deseo empresario: “Qué el candidato K sea más Lavagna y menos Cristina”',\n",
       "  'id': 4602,\n",
       "  'labels': {'Lavagna': 'POS', 'Cristina”': 'NEG'}},\n",
       " {'titulo': 'El fallo de la Corte: para Macri, un problema; para Fernández, un arma de doble filo',\n",
       "  'id': 4656,\n",
       "  'labels': {'Macri': 'POS', 'Fernández': 'NEG'}},\n",
       " {'titulo': 'Lavagna acusó a Macri de copiarle las medidas que él sugirió',\n",
       "  'id': 4691,\n",
       "  'labels': {'Lavagna': 'POS', 'Macri': 'NEG'}},\n",
       " {'titulo': 'El Negro Álvarez aseguró que votará a Mauricio Macri: \"No tiene que volver Cristina\"',\n",
       "  'id': 4857,\n",
       "  'labels': {'Mauricio Macri': 'POS', 'Cristina\"': 'NEG'}},\n",
       " {'titulo': 'Roberto Lavagna acusa al Gobierno de copiar sus medidas: \"Lo hacen tarde y mal\"',\n",
       "  'id': 4885,\n",
       "  'labels': {'Roberto Lavagna': 'POS', 'Gobierno': 'NEG'}},\n",
       " {'titulo': 'El sector empresarial está con Alberto Fernández, no con Mauricio Macri',\n",
       "  'id': 4933,\n",
       "  'labels': {'Mauricio Macri': 'NEG', 'Alberto Fernández': 'POS'}},\n",
       " {'titulo': 'Roberto Lavagna: \"El Gobierno copia las medidas de Consenso Federal, pero lo hace tarde y mal\"',\n",
       "  'id': 4936,\n",
       "  'labels': {'Roberto Lavagna': 'POS',\n",
       "   'Consenso Federal': 'POS',\n",
       "   'Gobierno': 'NEG'}},\n",
       " {'titulo': 'Teorema de Baglini: Macri derrocha anuncios y Alberto F., más moderado',\n",
       "  'id': 5048,\n",
       "  'labels': {'Macri': 'NEG', 'Alberto F': 'POS'}},\n",
       " {'titulo': 'Alberto Fernández volvió a hablar del paro en Aerolíneas: “Complica la vida de mucha gente y el Gobierno no va a cambiar su política”',\n",
       "  'id': 5061,\n",
       "  'labels': {'Gobierno': 'NEG', 'Alberto Fernández': 'NEU'}},\n",
       " {'titulo': 'Alberto Fernández: Los mercados vieron en Macri un gobierno sin destino',\n",
       "  'id': 5587,\n",
       "  'labels': {'Macri': 'NEG', 'Alberto Fernández': 'POS'}},\n",
       " {'titulo': 'Juan José Campanella chicaneó a Alberto Fernández: \"Parece que no vio la obra pública que hizo este gobierno, tampoco la corrupción del gobierno k\"',\n",
       "  'id': 5804,\n",
       "  'labels': {'este gobierno': 'POS',\n",
       "   'Alberto Fernández': 'NEG',\n",
       "   'gobierno k': 'NEG'}},\n",
       " {'titulo': 'Alberto Fernández, en el acto de fusión entre la CTA y la CGT: \"El daño que hizo la salida de la convertibilidad es casi igual al que hizo Macri en estos cuatro años\"',\n",
       "  'id': 5855,\n",
       "  'labels': {'Macri': 'NEG', 'Alberto Fernández': 'POS'}},\n",
       " {'titulo': 'Roberto Lavagna ve débil al Gobierno y aspira a ser la segunda fuerza en las presidenciales',\n",
       "  'id': 6014,\n",
       "  'labels': {'Roberto Lavagna': 'POS', 'Gobierno': 'NEG'}},\n",
       " {'titulo': 'Espert cargó contra la UIA tras reunirse con Alberto Fernández y se viralizó',\n",
       "  'id': 6413,\n",
       "  'labels': {'Espert': 'NEG', 'Alberto Fernández': 'NEU'}},\n",
       " {'titulo': 'Nicolás Del Caño: \"Muchos sectores del Frente de todos cuando tuvieron que elegir entre jubilados y bancos, eligieron a los bancos\"',\n",
       "  'id': 6561,\n",
       "  'labels': {'Nicolás Del Caño': 'POS', 'Frente de todos': 'NEG'}},\n",
       " {'titulo': 'La Izquierda cortó la 9 de Julio y Nicolás del Caño repartió críticas a Mauricio Macri y el kirchnerismo',\n",
       "  'id': 6855,\n",
       "  'labels': {'Mauricio Macri': 'NEG',\n",
       "   'La Izquierda': 'POS',\n",
       "   'Nicolás del Caño': 'POS',\n",
       "   'kirchnerismo': 'NEG'}},\n",
       " {'titulo': 'Mauricio Macri apuesta al debate presidencial para sumar votos y forzar un balotaje con Alberto Fernández',\n",
       "  'id': 7057,\n",
       "  'labels': {'Mauricio Macri': 'POS', 'Alberto Fernández': 'NEU'}},\n",
       " {'titulo': 'Macri se va, el FMI se queda: dale fuerza a la izquierda en la 9 de Julio y en todo el país',\n",
       "  'id': 7262,\n",
       "  'labels': {'Macri': 'NEG', 'la izquierda': 'POS'}},\n",
       " {'titulo': 'La Izquierda realizó un acto en la 9 de Julio y apuntó contra Macri y Fernández',\n",
       "  'id': 7340,\n",
       "  'labels': {'Macri': 'NEG', 'La Izquierda': 'POS', 'Fernández': 'NEG'}},\n",
       " {'titulo': 'Alberto Fernández cruzó a Mauricio Macri por la referencia a San Martín: “Usted solo supo entregar el país al FMI, nada heroico hizo”',\n",
       "  'id': 7427,\n",
       "  'labels': {'Mauricio Macri': 'NEG', 'Alberto Fernández': 'POS'}},\n",
       " {'titulo': 'Alberto Fernández pidió al Gobierno “que haga menos daño” rumbo a diciembre',\n",
       "  'id': 7429,\n",
       "  'labels': {'Gobierno': 'NEG', 'Alberto Fernández': 'POS'}},\n",
       " {'titulo': 'Alberto Fernández: \"Espero que el gobierno concilie conmigo políticas de cambio\"',\n",
       "  'id': 7725,\n",
       "  'labels': {'gobierno': 'NEU', 'Alberto Fernández': 'POS'}},\n",
       " {'titulo': 'La izquierda se movilizó con críticas al peronismo',\n",
       "  'id': 7794,\n",
       "  'labels': {'La izquierda': 'POS', 'peronismo': 'NEG'}},\n",
       " {'titulo': 'Macri siempre celeste: la izquierda salió al cruce de sus dichos contra el aborto legal',\n",
       "  'id': 7885,\n",
       "  'labels': {'Macri': 'NEG', 'la izquierda': 'POS'}},\n",
       " {'titulo': '[Video] Del Caño: “Somos la única fuerza que dice que con Macri hubo unos pocos que ganaron mucho”',\n",
       "  'id': 7894,\n",
       "  'labels': {'Macri': 'NEG', ' Del Caño': 'POS'}},\n",
       " {'titulo': 'Alberto Fernández cruzó a Mauricio Macri por la mención a San Martín: \"Nada heroico hizo usted\"',\n",
       "  'id': 7946,\n",
       "  'labels': {'Mauricio Macri': 'NEG', 'Alberto Fernández': 'POS'}},\n",
       " {'titulo': 'Hugo Moyano trató de “ridículo” a Mauricio Macri y pronosticó que “Alberto y Cristina se van a llevar muy bien”',\n",
       "  'id': 8064,\n",
       "  'labels': {'Mauricio Macri': 'NEG', 'Alberto': 'POS', 'Cristina': 'POS'}},\n",
       " {'titulo': 'En Bahía Blanca, Miguel Pichetto volvió a cargar contra Alberto Fernández: “el debate que propone lleva a la Argentina más oscura, la del plan”',\n",
       "  'id': 8074,\n",
       "  'labels': {'Miguel Pichetto': 'POS', 'Alberto Fernández': 'NEG'}},\n",
       " {'titulo': 'Fabiola Yáñez: \"Este Gobierno no tiene empatía con nadie\" | Entrevista exclusiva con la pareja de Alberto Fernández',\n",
       "  'id': 8131,\n",
       "  'labels': {'gobierno': 'NEG', 'Alberto Fernández': 'POS'}},\n",
       " {'titulo': 'La dura respuesta de Alberto Fernández a Mauricio Macri en las redes sociales: “Usted solo supo entregar el país”',\n",
       "  'id': 8316,\n",
       "  'labels': {'Mauricio Macri': 'NEG', 'Alberto Fernández': 'POS'}},\n",
       " {'titulo': 'Lavagna lo cruzó a Alberto y cree que no hay que subir impuestos',\n",
       "  'id': 9276,\n",
       "  'labels': {'Lavagna': 'POS', 'Alberto': 'NEG'}},\n",
       " {'titulo': 'Lavagna busca quebrar la polarización con críticas a Macri y Alberto Fernández',\n",
       "  'id': 9348,\n",
       "  'labels': {'Lavagna': 'POS', 'Macri': 'NEG', 'Alberto Fernández': 'NEG'}},\n",
       " {'titulo': 'Macri interviene para evitar un giro de Alberto hacia Venezuela',\n",
       "  'id': 10208,\n",
       "  'labels': {'Macri': 'POS', 'Alberto': 'NEG'}},\n",
       " {'titulo': 'Alberto Fernández advirtió que el país “está virtualmente defaulteado, el Gobierno dijo que no puede pagar”',\n",
       "  'id': 10748,\n",
       "  'labels': {'gobierno': 'NEG', 'Alberto Fernández': 'POS'}},\n",
       " {'titulo': 'Roberto Lavagna apuntó contra Mauricio Macri y Alberto Fernández por las promesas de campaña: “No pueden ser solo un discurso”',\n",
       "  'id': 10787,\n",
       "  'labels': {'Roberto Lavagna': 'POS',\n",
       "   'Mauricio Macri': 'NEG',\n",
       "   'Alberto Fernández': 'NEG'}},\n",
       " {'titulo': 'Alberto Fernández: \"Macri deja un escenario similar a la salida de la convertibilidad”',\n",
       "  'id': 10865,\n",
       "  'labels': {'Macri': 'NEG', 'Alberto Fernández': 'POS'}},\n",
       " {'titulo': '¿Qué va a hacer el peronismo con el proyecto de Del Caño para eliminar la precarización en el Estado?',\n",
       "  'id': 11411,\n",
       "  'labels': {'Del Caño': 'POS', 'peronismo': 'NEU'}},\n",
       " {'titulo': 'Mauricio Macri endurece su posición con la dictadura de Nicolás Maduro para marcar diferencias políticas con Alberto Fernández',\n",
       "  'id': 11935,\n",
       "  'labels': {'Mauricio Macri': 'POS', 'Alberto Fernández': 'NEG'}},\n",
       " {'titulo': 'Miguel Ángel Pichetto: \"No descartaría que haya operadores cubanos dentro de la estructura del kirchnerismo”',\n",
       "  'id': 11936,\n",
       "  'labels': {'Miguel Ángel Pichetto': 'POS', 'kirchnerismo”': 'NEG'}},\n",
       " {'titulo': 'Alberto Fernández, en el Nacional Buenos Aires: lenguaje inclusivo y chicanas a Macri',\n",
       "  'id': 11979,\n",
       "  'labels': {'Macri': 'NEG', 'Alberto Fernández': 'POS'}},\n",
       " {'titulo': 'La foto viral de Espert antes del debate: picanteó a la izquierda y la rompió en redes',\n",
       "  'id': 12010,\n",
       "  'labels': {'Espert': 'POS', 'la izquierda': 'NEG'}},\n",
       " {'titulo': 'Miguel Ángel Pichetto: \"No descartaría que haya operadores cubanos dentro del kirchnerismo\"',\n",
       "  'id': 12258,\n",
       "  'labels': {'Miguel Ángel Pichetto': 'POS', 'kirchnerismo\"': 'NEG'}},\n",
       " {'titulo': 'Macri ya perdió y Alberto F. es CFK, la estrategia de Lavagna',\n",
       "  'id': 13153,\n",
       "  'labels': {'Lavagna': 'NEU',\n",
       "   'Macri': 'NEG',\n",
       "   'Alberto F': 'NEU',\n",
       "   'CFK': 'NEU'}},\n",
       " {'titulo': 'Mario Teijeiro: “Veo a Alberto Fernández, que valida lo hecho por Lavagna entre 2002 y 2005, con la intención de copiar esas políticas”',\n",
       "  'id': 13333,\n",
       "  'labels': {'Lavagna': 'POS', 'Alberto Fernández': 'NEG'}},\n",
       " {'titulo': 'Primer cruce de Alberto a Macri: \"El que mintió es el Presidente\"',\n",
       "  'id': 13563,\n",
       "  'labels': {'Macri': 'NEG', 'Alberto': 'POS'}},\n",
       " {'titulo': 'Alberto a Macri: \"De u$s39.000 millones que nos dio el FMI, u$s30.000 se lo llevaron sus amigos\"',\n",
       "  'id': 13576,\n",
       "  'labels': {'Macri': 'NEG', 'Alberto': 'POS'}},\n",
       " {'titulo': 'Alberto Fernández y el gesto del “dedito” que le marcó Mauricio Macri en el debate presidencial: “Yo no acuso a nadie”',\n",
       "  'id': 13793,\n",
       "  'labels': {'Mauricio Macri': 'POS', 'Alberto Fernández': 'NEG'}},\n",
       " {'titulo': 'En un debate con pocas propuestas, Mauricio Macri defendió su gestión y Alberto Fernández jugó a atacarlo',\n",
       "  'id': 13801,\n",
       "  'labels': {'Mauricio Macri': 'POS', 'Alberto Fernández': 'NEG'}},\n",
       " {'titulo': 'En un debate presidencial con pocas propuestas, Mauricio Macri defendió su gestión y Alberto Fernández jugó a atacarlo',\n",
       "  'id': 13802,\n",
       "  'labels': {'Mauricio Macri': 'POS', 'Alberto Fernández': 'NEG'}},\n",
       " {'titulo': 'Tras el debate presidencial, Mauricio Macri cruzó a Alberto Fernández: “Piensa que puede decir cualquier mentira”',\n",
       "  'id': 13804,\n",
       "  'labels': {'Mauricio Macri': 'POS', 'Alberto Fernández': 'NEG'}},\n",
       " {'titulo': 'Mauricio Macri, tras el cruce con Alberto Fernández en el debate: “Los abuelos tienen celulares, tienen corazón, tienen fuerza”',\n",
       "  'id': 13816,\n",
       "  'labels': {'Mauricio Macri': 'POS', 'Alberto Fernández': 'NEU'}},\n",
       " {'titulo': 'Para Miguel Pichetto, el ganador del debate fue Mauricio Macri: “Alberto Fernández fue muy agresivo y arrogante”',\n",
       "  'id': 13817,\n",
       "  'labels': {'Miguel Pichetto': 'POS',\n",
       "   'Mauricio Macri': 'POS',\n",
       "   'Alberto Fernández': 'NEG'}},\n",
       " {'titulo': 'Alberto Fernández sobre el papel de Macri en el debate presidencial: \"Lo mandaría al recuperatorio”',\n",
       "  'id': 13905,\n",
       "  'labels': {'Macri': 'NEG', 'Alberto Fernández': 'POS'}},\n",
       " {'titulo': 'Cristina Kirchner en El Calafate: \"Macri no será Chispita, pero el problema no es él sino sus políticas\"',\n",
       "  'id': 13907,\n",
       "  'labels': {'Macri': 'NEG', 'Cristina Kirchner': 'POS'}},\n",
       " {'titulo': 'Alberto Fernández: “La diferencia con Macri en el debate fue que yo dije la verdad”',\n",
       "  'id': 14071,\n",
       "  'labels': {'Macri': 'NEG', 'Alberto Fernández': 'POS'}},\n",
       " {'titulo': 'Debate presidencial 2019: Alberto Fernández polarizó con Mauricio Macri en cada intervención y lo acusó de mentir, en línea con su equipo en redes',\n",
       "  'id': 14078,\n",
       "  'labels': {'Mauricio Macri': 'NEG', 'Alberto Fernández': 'NEU'}},\n",
       " {'titulo': 'Macri cree que le ganó el debate a Alberto Fernández y ya prepara su estrategia para el segundo encuentro',\n",
       "  'id': 14092,\n",
       "  'labels': {'Macri': 'POS', 'Alberto Fernández': 'NEU'}},\n",
       " {'titulo': 'Mauricio Macri siguió el debate con Alberto Fernández: “Nuestros abuelos tienen celulares, tienen corazón, tienen fuerza”',\n",
       "  'id': 14096,\n",
       "  'labels': {'Mauricio Macri': 'POS', 'Alberto Fernández': 'NEU'}},\n",
       " {'titulo': 'Pichetto: “El problema de Alberto Fernández es que Cristina Kirchner sigue hablando con Maduro y con Castro”',\n",
       "  'id': 14101,\n",
       "  'labels': {'Pichetto': 'NEU',\n",
       "   'Alberto Fernández': 'NEG',\n",
       "   'Cristina Kirchner': 'NEG'}},\n",
       " {'titulo': 'Roberto Lavagna puso el foco en los niveles de pobreza que hay en Argentina y cuestionó a los gobiernos de Mauricio Macri y Cristina Kirchner',\n",
       "  'id': 14102,\n",
       "  'labels': {'Roberto Lavagna': 'POS',\n",
       "   'Mauricio Macri': 'NEG',\n",
       "   'Cristina Kirchner': 'NEG'}},\n",
       " {'titulo': 'Nicolás del Caño: críticas a los pactos entre macristas y kirchneristas',\n",
       "  'id': 14208,\n",
       "  'labels': {'macri': 'NEG', 'Nicolás del Caño': 'POS'}},\n",
       " {'titulo': 'El debate de Alberto Fernández: Macri mentiroso, “no entiende” y guiños a Lavagna',\n",
       "  'id': 14238,\n",
       "  'labels': {'Macri': 'NEG', 'Alberto Fernández': 'POS'}},\n",
       " {'titulo': 'El esfuerzo de Nicolás del Caño por despegarse de la grieta: críticas para Macri y Fernández',\n",
       "  'id': 14239,\n",
       "  'labels': {'Macri': 'NEG', 'Nicolás del Caño': 'POS', 'Fernández': 'NEG'}},\n",
       " {'titulo': 'Macri post debate: “bronca” con la “agresividad” de Fernández',\n",
       "  'id': 14240,\n",
       "  'labels': {'Macri': 'NEU', 'Fernández': 'NEG'}},\n",
       " {'titulo': 'Alberto Fernández analizó el debate: \"La diferencia con Macri es que yo dije la verdad\"',\n",
       "  'id': 14273,\n",
       "  'labels': {'Macri': 'NEG', 'Alberto Fernández': 'POS'}},\n",
       " {'titulo': 'Cristina, sobre Macri: \"No será de lo más \\'chispita\\' para gobernar\"',\n",
       "  'id': 14296,\n",
       "  'labels': {'Macri': 'NEG', 'Cristina': 'POS'}},\n",
       " {'titulo': 'Con el rumbo fijo: Fernández sumó otro gobernador celeste y Macri se burló de los jubilados',\n",
       "  'id': 14331,\n",
       "  'labels': {'Macri': 'NEG', 'Fernández': 'POS'}},\n",
       " {'titulo': 'Debate presidencial: Del Caño se plantó contra Macri y las falsas promesas de Alberto',\n",
       "  'id': 14334,\n",
       "  'labels': {'Macri': 'NEG', 'Del Caño': 'POS'}},\n",
       " {'titulo': 'Debate presidencial en Argentina: el candidato del Frente de Izquierda enfrentó a Macri y al candidato del peronismo',\n",
       "  'id': 14335,\n",
       "  'labels': {'Macri': 'NEG',\n",
       "   'Frente de Izquierda': 'POS',\n",
       "   'peronismo': 'NEG'}},\n",
       " {'titulo': 'Del Caño tras el debate: \"Hay que decir las cosas con claridad, Macri no hizo este desastre solo\"',\n",
       "  'id': 14338,\n",
       "  'labels': {'Macri': 'NEG', 'Del Caño': 'POS'}},\n",
       " {'titulo': 'Pichetto: \"El problema es que Cristina Kirchner sigue hablando con Maduro y con Castro\"',\n",
       "  'id': 14386,\n",
       "  'labels': {'Pichetto': 'NEU', 'Cristina Kirchner': 'NEG'}},\n",
       " {'titulo': 'Alberto Fernández le respondió a Macri por el \"dedito acusador\": \"Que se dedique a gobernar\"',\n",
       "  'id': 14419,\n",
       "  'labels': {'Macri': 'NEG', 'Alberto Fernández': 'POS'}},\n",
       " {'titulo': 'Alberto Fernández sigue la polémica con Mauricio Macri por los celulares: “Con usted los jubilados son pobres”',\n",
       "  'id': 14578,\n",
       "  'labels': {'Mauricio Macri': 'NEG', 'Alberto Fernández': 'POS'}},\n",
       " {'titulo': 'El gobierno de Jair Bolsonaro volvió a respaldar a Mauricio Macri y acusa al kirchnerismo de apoyar dictaduras',\n",
       "  'id': 14585,\n",
       "  'labels': {'Mauricio Macri': 'POS', 'kirchnerismo': 'NEG'}},\n",
       " {'titulo': 'Mauricio Macri usó una polémica frase para criticar al kirchnerismo y Cristina lo cruzó: “Les dije que era machirulo”',\n",
       "  'id': 14593,\n",
       "  'labels': {'Mauricio Macri': 'NEG',\n",
       "   'kirchnerismo': 'POS',\n",
       "   'Cristina': 'POS'}},\n",
       " {'titulo': 'Roberto Lavagna descarta acercarse a Alberto Fernández después del 10 de diciembre: “Soy presidente o nada”',\n",
       "  'id': 14597,\n",
       "  'labels': {'Roberto Lavagna': 'POS', 'Alberto Fernández': 'NEU'}},\n",
       " {'titulo': 'Alberto Fernández continuó con el debate y le respondió a Mauricio Macri: “Con usted los jubilados son pobres, Presidente”',\n",
       "  'id': 14839,\n",
       "  'labels': {'Mauricio Macri': 'NEG', 'Alberto Fernández': 'POS'}},\n",
       " {'titulo': 'El gobierno de Bolsonaro volvió a respaldar a Macri y acusó al kirchnerismo de impulsar dictaduras en la región',\n",
       "  'id': 14844,\n",
       "  'labels': {'Macri': 'POS', 'kirchnerismo': 'NEG'}},\n",
       " {'titulo': 'El nuevo apodo que usó Cristina Kirchner para burlarse de Mauricio Macri',\n",
       "  'id': 14847,\n",
       "  'labels': {'Mauricio Macri': 'NEG', 'Cristina Kirchner': 'POS'}},\n",
       " {'titulo': 'Una frase de Mauricio Macri generó polémica y Cristina Kirchner le volvió a decir “machirulo”',\n",
       "  'id': 14858,\n",
       "  'labels': {'Mauricio Macri': 'NEG', 'Cristina Kirchner': 'POS'}},\n",
       " {'titulo': 'Cristina acusó de \"machirulo\" a Macri después de un exabrupto sobre las mujeres',\n",
       "  'id': 14945,\n",
       "  'labels': {'Macri': 'NEG', 'Cristina': 'POS'}},\n",
       " {'titulo': 'Lavagna se separa de Alberto e insiste: “Seré presidente o nada”',\n",
       "  'id': 14953,\n",
       "  'labels': {'Lavagna': 'POS', 'Alberto': 'NEG'}},\n",
       " {'titulo': 'Macri volvió a atacar a Alberto por sus “deditos que nos quieren disciplinar”',\n",
       "  'id': 14954,\n",
       "  'labels': {'Macri': 'POS', 'Alberto': 'NEG'}},\n",
       " {'titulo': 'Tras un exabrupto, Macri habla de \"prepotencia\" del Frente de Todos',\n",
       "  'id': 14964,\n",
       "  'labels': {'Macri': 'POS', 'Frente de Todos': 'NEG'}},\n",
       " {'titulo': 'Chispita, la nueva chicana de Cristina Kirchner contra Mauricio Macri',\n",
       "  'id': 15236,\n",
       "  'labels': {'Mauricio Macri': 'NEG', 'Cristina Kirchner': 'POS'}},\n",
       " {'titulo': 'Les dije que era un machirulo: la respuesta de Cristina a la frase de Macri',\n",
       "  'id': 15308,\n",
       "  'labels': {'Macri': 'NEG', 'Cristina': 'POS'}},\n",
       " {'titulo': 'Junto a María Eugenia Vidal y Elisa Carrió, Macri apuntó contra el \"dedito disciplinador\" de Alberto Fernández',\n",
       "  'id': 15367,\n",
       "  'labels': {'Macri': 'NEU', 'Alberto Fernández': 'NEG'}},\n",
       " {'titulo': 'Encuesta en Ciudad: habría balotaje entre Larreta - Lammens y Alberto F le pisa los talones a Macri',\n",
       "  'id': 15425,\n",
       "  'labels': {'Macri': 'NEG', 'Alberto F': 'POS'}},\n",
       " {'titulo': 'Lavagna y su señal de enojo a Alberto F: no quiere parecer una “colectora kirchnerista”',\n",
       "  'id': 15527,\n",
       "  'labels': {'Lavagna': 'NEU', 'Alberto F': 'NEG'}},\n",
       " {'titulo': 'Alberto y Cristina celebraron el Día de la Lealtad con un acto donde no ahorraron en críticas a Macri',\n",
       "  'id': 15561,\n",
       "  'labels': {'Macri': 'NEG', 'Alberto': 'POS', 'Cristina': 'POS'}},\n",
       " {'titulo': 'Debate presidencial: cinco críticas de Del Caño que Alberto Fernández eligió no responder',\n",
       "  'id': 15679,\n",
       "  'labels': {'Del Caño': 'POS', 'Alberto Fernández': 'NEG'}},\n",
       " {'titulo': 'Roberto Lavagna, en IDEA: criticó al Gobierno y a Axel Kicillof, hizo chistes sobre el debate y admitió que es “aburrido”',\n",
       "  'id': 15856,\n",
       "  'labels': {'Roberto Lavagna': 'POS', 'Gobierno': 'NEG'}},\n",
       " {'titulo': 'Coloquio de IDEA: secretos del poder, críticas a Macri y Fernández y el futuro de la oposición en un almuerzo que protagonizaron Lavagna, Urtubey y Lifschitz',\n",
       "  'id': 16050,\n",
       "  'labels': {'Lavagna': 'POS',\n",
       "   'Urtubey': 'POS',\n",
       "   'Macri': 'NEG',\n",
       "   'Fernández': 'NEG'}},\n",
       " {'titulo': 'Con citas a Perón y duras críticas a Mauricio Macri, Alberto Fernández y Cristina Kirchner encabezaron el acto por el Día de la Lealtad en La Pampa',\n",
       "  'id': 16051,\n",
       "  'labels': {'Mauricio Macri': 'NEG',\n",
       "   'Alberto Fernández': 'POS',\n",
       "   'Cristina Kirchner': 'POS'}},\n",
       " {'titulo': 'Mauricio Macri, contra el kirchnerismo: “Creen que ya ganaron y empezaron a perseguir periodistas antes de asumir”',\n",
       "  'id': 16062,\n",
       "  'labels': {'Mauricio Macri': 'POS', 'kirchnerismo': 'NEG'}},\n",
       " {'titulo': 'Lavagna, en IDEA: chistes sobre el debate y críticas al Gobierno y a Kicillof',\n",
       "  'id': 16134,\n",
       "  'labels': {'Lavagna': 'POS', 'Gobierno': 'NEG'}},\n",
       " {'titulo': '#LaPlataDebate: con la ausencia del Frente de Todos, la izquierda denunció la gestión de Garro y Cambiemos',\n",
       "  'id': 16336,\n",
       "  'labels': {'Cambiemos': 'NEG',\n",
       "   'la izquierda': 'POS',\n",
       "   'Frente de Todos': 'NEG'}},\n",
       " {'titulo': 'Para el escritor Marcelo Birmajer, “la persistencia del kirchnerismo está basada en los fracasos de Cambiemos”',\n",
       "  'id': 16666,\n",
       "  'labels': {'Cambiemos”': 'NEG', 'kirchnerismo': 'POS'}},\n",
       " {'titulo': 'Encuesta: Alberto Fernández volvió a imponerse en el debate presidencial por sobre Mauricio Macri',\n",
       "  'id': 16720,\n",
       "  'labels': {'Mauricio Macri': 'NEG', 'Alberto Fernández': 'POS'}},\n",
       " {'titulo': 'Elecciones 2019: Mauricio Macri cruzó a Cristina y acusó al gobierno anterior de dejar el Banco Central vacío',\n",
       "  'id': 16836,\n",
       "  'labels': {'Mauricio Macri': 'POS', 'Cristina': 'NEG'}},\n",
       " {'titulo': 'Debate, Macri y el \"dedo acusador\" de Alberto Fernández: noticias de la semana',\n",
       "  'id': 16873,\n",
       "  'labels': {'Macri': 'NEU', 'Alberto Fernández': 'NEG'}},\n",
       " {'titulo': 'Lavagna redobla la caza de arrepentidos de Macri',\n",
       "  'id': 17120,\n",
       "  'labels': {'Lavagna': 'POS', 'Macri': 'NEG'}},\n",
       " {'titulo': 'Alberto Fernández sobre los muertos en Chile: “¿Qué hubiera dicho Mauricio Macri si pasaba en Venezuela?”',\n",
       "  'id': 17276,\n",
       "  'labels': {'Mauricio Macri': 'NEG', 'Alberto Fernández': 'NEU'}},\n",
       " {'titulo': 'Alberto Fernández le pidió a Mauricio Macri que \"no libere el dólar\" si pierde las elecciones',\n",
       "  'id': 17515,\n",
       "  'labels': {'Mauricio Macri': 'NEU', 'Alberto Fernández': 'POS'}},\n",
       " {'titulo': 'El error de Mauricio Macri que Alberto Fernández no debería repetir',\n",
       "  'id': 17849,\n",
       "  'labels': {'Mauricio Macri': 'NEG', 'Alberto Fernández': 'POS'}},\n",
       " {'titulo': 'Sobre el final de la campaña, Mauricio Macri cargó contra el kirchnerismo: “Ya fueron muchos años de dedito, atril y prepotencia”',\n",
       "  'id': 17865,\n",
       "  'labels': {'Mauricio Macri': 'POS', 'kirchnerismo': 'NEG'}},\n",
       " {'titulo': 'Miguel Pichetto, a Nicolás Del Caño: \"Tiene ideas viejas\"',\n",
       "  'id': 18000,\n",
       "  'labels': {'Miguel Pichetto': 'POS', 'Nicolás Del Caño': 'NEG'}},\n",
       " {'titulo': 'Déjà vu de Alberto F.: ganar el domingo y que (Macri) dispare el precio del dólar',\n",
       "  'id': 18088,\n",
       "  'labels': {'Macri': 'NEG', 'Alberto F': 'POS'}},\n",
       " {'titulo': 'Alberto Fernández sobre las protestas en Chile: \"¿Somos conscientes los argentinos de lo que toleramos con Macri?',\n",
       "  'id': 18221,\n",
       "  'labels': {'Macri?': 'NEG', 'Alberto Fernández': 'POS'}},\n",
       " {'titulo': 'Alberto Fernández, a Mauricio Macri: \"Basta de tratarnos como a empleados de Uber\"',\n",
       "  'id': 18314,\n",
       "  'labels': {'Mauricio Macri': 'NEG', 'Alberto Fernández': 'POS'}},\n",
       " {'titulo': 'El candidato a gobernador de Gómez Centurión sorprendió y les pidió a los bonaerenses que voten a Mauricio Macri',\n",
       "  'id': 18453,\n",
       "  'labels': {'Mauricio Macri': 'POS', 'Gómez Centurión': 'NEG'}},\n",
       " {'titulo': 'Juan José Gómez Centurión, duro con su candidato en Provincia que llamó a votar por Mauricio Macri: “Un judas sin valores ni escrúpulos”',\n",
       "  'id': 18469,\n",
       "  'labels': {'Mauricio Macri': 'POS', 'Gómez Centurión': 'NEG'}},\n",
       " {'titulo': 'Roberto Lavagna calificó al gobierno de Macri como “muy malo” y remató: “La nota es menos 5 de crecimiento”',\n",
       "  'id': 18479,\n",
       "  'labels': {'Roberto Lavagna': 'POS', 'Macri': 'NEG'}},\n",
       " {'titulo': 'Quiénes son los comuneros del peronismo que pueden ganar por primera vez desde que gobierna Macri',\n",
       "  'id': 18515,\n",
       "  'labels': {'Macri': 'NEG', 'peronismo': 'POS'}},\n",
       " {'titulo': 'Un empresario que apuesta públicamente al triunfo de Alberto Fernández fue el mayor aportante de la campaña de Mauricio Macri',\n",
       "  'id': 18584,\n",
       "  'labels': {'Mauricio Macri': 'NEG', 'Alberto Fernández': 'POS'}},\n",
       " {'titulo': 'Cristina Kirchner se refirió a la violencia en Chile para cuestionar a Macri: “Nos lo presentaron como el modelo económico, social y político a seguir”',\n",
       "  'id': 18776,\n",
       "  'labels': {'Macri': 'NEG', 'Cristina Kirchner': 'POS'}},\n",
       " {'titulo': 'El candidato a gobernador bonaerense de Gómez Centurión pidió votar por Macri y Vidal',\n",
       "  'id': 18778,\n",
       "  'labels': {'Macri': 'POS', 'Gómez Centurión': 'NEG'}},\n",
       " {'titulo': 'El candidato a gobernador de Gómez Centurión pide que no lo voten y apoya a Macri',\n",
       "  'id': 18857,\n",
       "  'labels': {'Macri': 'POS', 'Gómez Centurión': 'NEG'}},\n",
       " {'titulo': 'El candidato a gobernador bonaerense de Gómez Centurión pidió votar a Macri y a Vidal en las elecciones',\n",
       "  'id': 19186,\n",
       "  'labels': {'Macri': 'POS', 'Gómez Centurión': 'NEG'}},\n",
       " {'titulo': 'Pichetto les reprochó a empresarios el respaldo inicial a Lavagna',\n",
       "  'id': 19279,\n",
       "  'labels': {'Lavagna': 'NEG', 'Pichetto': 'POS'}},\n",
       " {'titulo': '“Boleta entera”, la apuesta final de Alberto Fernández para diezmar a Cambiemos',\n",
       "  'id': 19435,\n",
       "  'labels': {'Cambiemos': 'NEG', 'Alberto Fernández': 'POS'}},\n",
       " {'titulo': 'Para Pichetto, Alberto Fernández hace “apología del pobrismo, de la pobreza y el hambre”',\n",
       "  'id': 19467,\n",
       "  'labels': {'Pichetto': 'POS', 'Alberto Fernández': 'NEG'}},\n",
       " {'titulo': 'Alberto Fernández cerró su campaña junto a CFK: “Desde el primer día, vamos a ocuparnos de los 5 millones de pobres que deja Macri”',\n",
       "  'id': 19701,\n",
       "  'labels': {'Macri”': 'NEG', 'Alberto Fernández': 'POS', 'CFK': 'POS'}},\n",
       " {'titulo': 'Gómez Centurión tildó de “traidor” a su candidato a gobernador que llamó a votar por Macri',\n",
       "  'id': 19715,\n",
       "  'labels': {'Macri': 'POS', 'Gómez Centurión': 'NEG'}},\n",
       " {'titulo': 'Roberto Lavagna: \"Cambiemos y el Frente de Todos son socios en ampliar la polarización\"',\n",
       "  'id': 19976,\n",
       "  'labels': {'Roberto Lavagna': 'POS',\n",
       "   'Cambiemos': 'NEG',\n",
       "   'Frente de Todos': 'NEG'}},\n",
       " {'titulo': 'Miguel Pichetto: \"Cristina abandonó Córdoba y no vino a dar la cara como candidata\"',\n",
       "  'id': 20239,\n",
       "  'labels': {'Miguel Pichetto': 'POS', 'Cristina': 'NEG'}},\n",
       " {'titulo': 'Alberto Fernández volvió a hacerle un guiño a Lavagna: “Uno siempre quisiera tenerlo junto a uno”',\n",
       "  'id': 20594,\n",
       "  'labels': {'Lavagna': 'POS', 'Alberto Fernández': 'NEU'}},\n",
       " {'titulo': 'Cierre de Alberto en Mar del Plata: “Sacaremos de la pobreza a los cinco millones que dejó Macri”',\n",
       "  'id': 20690,\n",
       "  'labels': {'Macri”': 'NEG', 'Alberto': 'POS'}},\n",
       " {'titulo': 'Comenzaron las elecciones 2019: Alberto Fernández busca revalidar su triunfo en las PASO y Mauricio Macri, forzar un balotaje',\n",
       "  'id': 21176,\n",
       "  'labels': {'Mauricio Macri': 'NEG', 'Alberto Fernández': 'POS'}},\n",
       " {'titulo': 'Elecciones 2019: Alberto Fernández busca revalidar su triunfo en las PASO y Mauricio Macri juega a forzar un balotaje',\n",
       "  'id': 21177,\n",
       "  'labels': {'Mauricio Macri': 'NEG', 'Alberto Fernández': 'POS'}},\n",
       " {'titulo': 'Alberto Fernández revisará la actual política exterior si derrota a Mauricio Macri en los comicios presidenciales',\n",
       "  'id': 21361,\n",
       "  'labels': {'Mauricio Macri': 'NEG', 'Alberto Fernández': 'POS'}},\n",
       " {'titulo': 'Cristina Kirchner celebró la victoria y le pidió a Macri que tome medidas ante “la situación dramática que viven las finanzas del país”',\n",
       "  'id': 21718,\n",
       "  'labels': {'Macri': 'NEG', 'Cristina Kirchner': 'POS'}},\n",
       " {'titulo': 'El Frente de Todos habla de una elección \"histórica\" y Macri pide \"paciencia\"',\n",
       "  'id': 21848,\n",
       "  'labels': {'Macri': 'NEU', 'Frente de Todos': 'POS'}},\n",
       " {'titulo': 'El festejo íntimo de Alberto Fernández después del cierre de la votación con cantitos contra Mauricio Macri',\n",
       "  'id': 22084,\n",
       "  'labels': {'Mauricio Macri': 'NEG', 'Alberto Fernández': 'NEU'}},\n",
       " {'titulo': 'El peronismo buscará recuperar los municipios que Cambiemos conquistó en 2015',\n",
       "  'id': 22086,\n",
       "  'labels': {'Cambiemos': 'NEU', 'peronismo': 'POS'}},\n",
       " {'titulo': 'Cristina festejó el triunfo, pidió mantener la unidad y lanzó una advertencia a Macri',\n",
       "  'id': 22146,\n",
       "  'labels': {'Macri': 'NEG', 'Cristina': 'POS'}},\n",
       " {'titulo': 'La pesada herencia que Alberto Fernández recibe de Macri',\n",
       "  'id': 22388,\n",
       "  'labels': {'Macri': 'NEG', 'Alberto Fernández': 'POS'}},\n",
       " {'titulo': 'Espert dio por ganador a Alberto F. y aseguró que el gobierno de Macri \"fracasó\"',\n",
       "  'id': 22403,\n",
       "  'labels': {'Espert': 'POS', 'Macri ': 'NEG', 'Alberto F': 'POS'}},\n",
       " {'titulo': 'Mauricio Macri hizo una gran campaña y Alberto Fernández no creció lo que parecía que iba a crecer',\n",
       "  'id': 22617,\n",
       "  'labels': {'Mauricio Macri': 'POS', 'Alberto Fernández': 'NEG'}}]"
      ]
     },
     "execution_count": 3,
     "metadata": {},
     "output_type": "execute_result"
    }
   ],
   "source": [
    "[x for x in data if is_mixed(x)]"
   ]
  },
  {
   "cell_type": "code",
   "execution_count": 4,
   "metadata": {},
   "outputs": [
    {
     "data": {
      "text/plain": [
       "(396, 1930)"
      ]
     },
     "execution_count": 4,
     "metadata": {},
     "output_type": "execute_result"
    }
   ],
   "source": [
    "\n",
    "len([x for x in data if len(x[\"labels\"]) > 1]), len(data)"
   ]
  },
  {
   "cell_type": "code",
   "execution_count": 5,
   "metadata": {},
   "outputs": [],
   "source": [
    "import pandas as pd\n",
    "\n",
    "label2id = {\n",
    "    \"NEG\": 0,\n",
    "    \"NEU\": 1,\n",
    "    \"POS\": 2\n",
    "}\n",
    "\n",
    "id2label = {v:k for k, v in label2id.items()}\n",
    "\n",
    "def build_auxiliary_sentence(target):\n",
    "    return f\"¿Qué pensás de {target}?\"\n",
    "\n",
    "def build_df(data):\n",
    "    return pd.DataFrame([{\n",
    "        \"id\": x[\"id\"],\n",
    "        \"sentence\": x[\"titulo\"],\n",
    "        \"target\": target,\n",
    "        \"auxiliary_sentence\": build_auxiliary_sentence(target),\n",
    "        \"label\": label2id[label],\n",
    "    } for x in data for (target, label) in x[\"labels\"].items()])"
   ]
  },
  {
   "cell_type": "markdown",
   "metadata": {},
   "source": [
    "Bien, está dentro de todo equilibrado\n",
    "\n",
    "## Train test split\n",
    "\n",
    "Lo hago sobre el dataset. No sería mejor hacerlo por oraciones?"
   ]
  },
  {
   "cell_type": "code",
   "execution_count": 6,
   "metadata": {},
   "outputs": [
    {
     "data": {
      "text/plain": [
       "(1085, 362, 483)"
      ]
     },
     "execution_count": 6,
     "metadata": {},
     "output_type": "execute_result"
    }
   ],
   "source": [
    "from sklearn.model_selection import train_test_split\n",
    "\n",
    "train_data, test_data = train_test_split(data, random_state=2021, stratify=[len(x[\"labels\"]) for x in data])\n",
    "\n",
    "train_data, dev_data = train_test_split(train_data, random_state=2021, stratify=[len(x[\"labels\"]) for x in train_data])\n",
    "\n",
    "len(train_data), len(dev_data), len(test_data)"
   ]
  },
  {
   "cell_type": "markdown",
   "metadata": {},
   "source": [
    "## Armar dataset"
   ]
  },
  {
   "cell_type": "code",
   "execution_count": 7,
   "metadata": {},
   "outputs": [],
   "source": [
    "from datasets import Dataset, Value, ClassLabel, Features\n",
    "\n",
    "train_df = build_df(train_data)\n",
    "dev_df = build_df(dev_data)\n",
    "test_df = build_df(test_data)\n",
    "\n",
    "features = Features({\n",
    "    'sentence': Value('string'),\n",
    "    'auxiliary_sentence': Value('string'),\n",
    "    'label': ClassLabel(num_classes=3, names=[\"neg\", \"neu\", \"pos\"])\n",
    "})\n",
    "\n",
    "columns = [\"sentence\", \"auxiliary_sentence\", \"label\"]\n",
    "\n",
    "train_dataset = Dataset.from_pandas(train_df[columns], features=features)\n",
    "dev_dataset = Dataset.from_pandas(dev_df[columns], features=features)\n",
    "test_dataset = Dataset.from_pandas(test_df[columns], features=features)"
   ]
  },
  {
   "cell_type": "code",
   "execution_count": 8,
   "metadata": {},
   "outputs": [
    {
     "name": "stderr",
     "output_type": "stream",
     "text": [
      "Some weights of the model checkpoint at dccuchile/bert-base-spanish-wwm-uncased were not used when initializing BertForSequenceClassification: ['cls.predictions.bias', 'cls.predictions.transform.dense.weight', 'cls.predictions.transform.dense.bias', 'cls.predictions.transform.LayerNorm.weight', 'cls.predictions.transform.LayerNorm.bias', 'cls.predictions.decoder.weight', 'cls.predictions.decoder.bias']\n",
      "- This IS expected if you are initializing BertForSequenceClassification from the checkpoint of a model trained on another task or with another architecture (e.g. initializing a BertForSequenceClassification model from a BertForPreTraining model).\n",
      "- This IS NOT expected if you are initializing BertForSequenceClassification from the checkpoint of a model that you expect to be exactly identical (initializing a BertForSequenceClassification model from a BertForSequenceClassification model).\n",
      "Some weights of BertForSequenceClassification were not initialized from the model checkpoint at dccuchile/bert-base-spanish-wwm-uncased and are newly initialized: ['bert.pooler.dense.weight', 'bert.pooler.dense.bias', 'classifier.weight', 'classifier.bias']\n",
      "You should probably TRAIN this model on a down-stream task to be able to use it for predictions and inference.\n"
     ]
    }
   ],
   "source": [
    "from transformers import AutoModelForSequenceClassification, AutoTokenizer\n",
    "\n",
    "model_name = 'dccuchile/bert-base-spanish-wwm-uncased'\n",
    "\n",
    "model = AutoModelForSequenceClassification.from_pretrained(\n",
    "    model_name, return_dict=True, num_labels=len(id2label)\n",
    ")\n",
    "\n",
    "model.config.id2label = id2label\n",
    "model.config.label2id = label2id\n",
    "\n",
    "tokenizer = AutoTokenizer.from_pretrained(model_name)\n",
    "\n",
    "tokenizer.model_max_length = 128\n"
   ]
  },
  {
   "cell_type": "code",
   "execution_count": 9,
   "metadata": {},
   "outputs": [],
   "source": [
    "import torch\n",
    "\n",
    "device = \"cuda\" if torch.cuda.is_available() else \"cpu\"\n",
    "\n",
    "model = model.to(device)"
   ]
  },
  {
   "cell_type": "code",
   "execution_count": 10,
   "metadata": {},
   "outputs": [
    {
     "data": {
      "application/vnd.jupyter.widget-view+json": {
       "model_id": "bd71588ec28f4a5d9b4ab0ba6d7b1b73",
       "version_major": 2,
       "version_minor": 0
      },
      "text/plain": [
       "HBox(children=(HTML(value=''), FloatProgress(value=0.0, max=84.0), HTML(value='')))"
      ]
     },
     "metadata": {},
     "output_type": "display_data"
    },
    {
     "name": "stdout",
     "output_type": "stream",
     "text": [
      "\n"
     ]
    },
    {
     "data": {
      "application/vnd.jupyter.widget-view+json": {
       "model_id": "c67958919d6a493a988941f5a44dfd57",
       "version_major": 2,
       "version_minor": 0
      },
      "text/plain": [
       "HBox(children=(HTML(value=''), FloatProgress(value=0.0, max=56.0), HTML(value='')))"
      ]
     },
     "metadata": {},
     "output_type": "display_data"
    },
    {
     "name": "stdout",
     "output_type": "stream",
     "text": [
      "\n"
     ]
    },
    {
     "data": {
      "application/vnd.jupyter.widget-view+json": {
       "model_id": "7c69b59208174ad8b48dbd04e8510f57",
       "version_major": 2,
       "version_minor": 0
      },
      "text/plain": [
       "HBox(children=(HTML(value=''), FloatProgress(value=0.0, max=75.0), HTML(value='')))"
      ]
     },
     "metadata": {},
     "output_type": "display_data"
    },
    {
     "name": "stdout",
     "output_type": "stream",
     "text": [
      "\n"
     ]
    }
   ],
   "source": [
    "def tokenize(batch):\n",
    "    return tokenizer(batch['sentence'], batch['auxiliary_sentence'], padding='max_length', truncation=True)\n",
    "\n",
    "batch_size = 16\n",
    "eval_batch_size = 8\n",
    "\n",
    "train_dataset = train_dataset.map(tokenize, batched=True, batch_size=batch_size)\n",
    "dev_dataset = dev_dataset.map(tokenize, batched=True, batch_size=eval_batch_size)\n",
    "test_dataset = test_dataset.map(tokenize, batched=True, batch_size=eval_batch_size)"
   ]
  },
  {
   "cell_type": "code",
   "execution_count": 11,
   "metadata": {},
   "outputs": [
    {
     "data": {
      "text/plain": [
       "(array([ 20., 124., 218., 392., 257., 192.,  98.,  23.,   7.,   5.]),\n",
       " array([16. , 19.6, 23.2, 26.8, 30.4, 34. , 37.6, 41.2, 44.8, 48.4, 52. ]),\n",
       " <BarContainer object of 10 artists>)"
      ]
     },
     "execution_count": 11,
     "metadata": {},
     "output_type": "execute_result"
    },
    {
     "data": {
      "image/png": "[encoded data removed]",
      "text/plain": [
       "<Figure size 432x288 with 1 Axes>"
      ]
     },
     "metadata": {
      "needs_background": "light"
     },
     "output_type": "display_data"
    }
   ],
   "source": [
    "import matplotlib.pyplot as plt\n",
    "\n",
    "lens = [sum(x[\"attention_mask\"]) for x in train_dataset]\n",
    "\n",
    "\n",
    "plt.hist(lens)"
   ]
  },
  {
   "cell_type": "code",
   "execution_count": 12,
   "metadata": {},
   "outputs": [
    {
     "data": {
      "text/plain": [
       "dict_keys(['attention_mask', 'auxiliary_sentence', 'input_ids', 'label', 'sentence', 'token_type_ids'])"
      ]
     },
     "execution_count": 12,
     "metadata": {},
     "output_type": "execute_result"
    }
   ],
   "source": [
    "train_dataset[0].keys()"
   ]
  },
  {
   "cell_type": "code",
   "execution_count": 13,
   "metadata": {},
   "outputs": [
    {
     "data": {
      "application/vnd.jupyter.widget-view+json": {
       "model_id": "c46073c97fde47c495a63b8936f82c1b",
       "version_major": 2,
       "version_minor": 0
      },
      "text/plain": [
       "HBox(children=(HTML(value=''), FloatProgress(value=0.0, max=1336.0), HTML(value='')))"
      ]
     },
     "metadata": {},
     "output_type": "display_data"
    },
    {
     "name": "stdout",
     "output_type": "stream",
     "text": [
      "\n"
     ]
    },
    {
     "data": {
      "application/vnd.jupyter.widget-view+json": {
       "model_id": "980c7ebab54d4c4e86c1632c0dbe3022",
       "version_major": 2,
       "version_minor": 0
      },
      "text/plain": [
       "HBox(children=(HTML(value=''), FloatProgress(value=0.0, max=445.0), HTML(value='')))"
      ]
     },
     "metadata": {},
     "output_type": "display_data"
    },
    {
     "name": "stdout",
     "output_type": "stream",
     "text": [
      "\n"
     ]
    },
    {
     "data": {
      "application/vnd.jupyter.widget-view+json": {
       "model_id": "5843c9d674284d20b955f21517f2bfea",
       "version_major": 2,
       "version_minor": 0
      },
      "text/plain": [
       "HBox(children=(HTML(value=''), FloatProgress(value=0.0, max=593.0), HTML(value='')))"
      ]
     },
     "metadata": {},
     "output_type": "display_data"
    },
    {
     "name": "stdout",
     "output_type": "stream",
     "text": [
      "\n"
     ]
    }
   ],
   "source": [
    "\n",
    "def format_dataset(dataset):\n",
    "    dataset = dataset.map(lambda x: {\"labels\": x[\"label\"]})\n",
    "    columns = ['input_ids', 'attention_mask', 'labels']\n",
    "    if 'token_type_ids' in dataset.features:\n",
    "        columns.append('token_type_ids')\n",
    "    dataset.set_format(type='torch', columns=columns)\n",
    "    return dataset\n",
    "\n",
    "train_dataset = format_dataset(train_dataset)\n",
    "dev_dataset = format_dataset(dev_dataset)\n",
    "test_dataset = format_dataset(test_dataset)\n"
   ]
  },
  {
   "cell_type": "code",
   "execution_count": 14,
   "metadata": {},
   "outputs": [],
   "source": [
    "from transformers import TrainingArguments, Trainer\n",
    "from sklearn.metrics import precision_recall_fscore_support, accuracy_score\n",
    "\n",
    "def compute_metrics(pred, id2label):\n",
    "    \"\"\"\n",
    "    Compute metrics for Trainer\n",
    "    \"\"\"\n",
    "    labels = pred.label_ids\n",
    "    preds = pred.predictions.argmax(-1)\n",
    "\n",
    "    ret = {}\n",
    "\n",
    "    f1s = []\n",
    "    precs = []\n",
    "    recalls = []\n",
    "\n",
    "    for i, cat in id2label.items():\n",
    "        cat_labels, cat_preds = labels == i, preds == i\n",
    "        precision, recall, f1, _ = precision_recall_fscore_support(\n",
    "            cat_labels, cat_preds, average='binary', zero_division=0,\n",
    "        )\n",
    "\n",
    "        f1s.append(f1)\n",
    "        precs.append(precision)\n",
    "        recalls.append(recall)\n",
    "\n",
    "        ret[cat.lower()+\"_f1\"] = f1\n",
    "        ret[cat.lower()+\"_precision\"] = precision\n",
    "        ret[cat.lower()+\"_recall\"] = recall\n",
    "\n",
    "    _, _, micro_f1, _ = precision_recall_fscore_support(\n",
    "        labels, preds, average=\"micro\"\n",
    "    )\n",
    "    ret[\"micro_f1\"] = micro_f1\n",
    "    ret[\"macro_f1\"] = torch.Tensor(f1s).mean()\n",
    "    ret[\"macro_precision\"] = torch.Tensor(precs).mean()\n",
    "    ret[\"macro_recall\"] = torch.Tensor(recalls).mean()\n",
    "\n",
    "    ret[\"acc\"] = accuracy_score(labels, preds)\n",
    "\n",
    "    return ret\n",
    "\n",
    "epochs = 5\n",
    "warmup_proportion = 0.10\n",
    "total_steps = (epochs * len(train_dataset)) // batch_size\n",
    "warmup_steps = int(warmup_proportion * total_steps)\n",
    "\n",
    "training_args = TrainingArguments(\n",
    "    output_dir='./results/',\n",
    "    num_train_epochs=epochs,\n",
    "    learning_rate=2e-5,\n",
    "    per_device_train_batch_size=batch_size,\n",
    "    per_device_eval_batch_size=eval_batch_size,\n",
    "    warmup_steps=warmup_steps,\n",
    "    evaluation_strategy=\"epoch\",\n",
    "    do_eval=False,\n",
    "    weight_decay=0.01,\n",
    "    logging_dir='./logs',\n",
    "    load_best_model_at_end=True,\n",
    "    metric_for_best_model=\"macro_f1\",\n",
    ")\n",
    "\n",
    "trainer = Trainer(\n",
    "    model=model,\n",
    "    args=training_args,\n",
    "    compute_metrics=lambda x: compute_metrics(x, id2label=id2label),\n",
    "    train_dataset=train_dataset,\n",
    "    eval_dataset=dev_dataset,\n",
    ")\n"
   ]
  },
  {
   "cell_type": "code",
   "execution_count": 15,
   "metadata": {},
   "outputs": [
    {
     "data": {
      "text/html": [
       "\n",
       "    <div>\n",
       "        <style>\n",
       "            /* Turns off some styling */\n",
       "            progress {\n",
       "                /* gets rid of default border in Firefox and Opera. */\n",
       "                border: none;\n",
       "                /* Needs to be in here for Safari polyfill so background images work as expected. */\n",
       "                background-size: auto;\n",
       "            }\n",
       "        </style>\n",
       "      \n",
       "      <progress value='420' max='420' style='width:300px; height:20px; vertical-align: middle;'></progress>\n",
       "      [420/420 02:11, Epoch 5/5]\n",
       "    </div>\n",
       "    <table border=\"1\" class=\"dataframe\">\n",
       "  <thead>\n",
       "    <tr style=\"text-align: left;\">\n",
       "      <th>Epoch</th>\n",
       "      <th>Training Loss</th>\n",
       "      <th>Validation Loss</th>\n",
       "      <th>Neg F1</th>\n",
       "      <th>Neg Precision</th>\n",
       "      <th>Neg Recall</th>\n",
       "      <th>Neu F1</th>\n",
       "      <th>Neu Precision</th>\n",
       "      <th>Neu Recall</th>\n",
       "      <th>Pos F1</th>\n",
       "      <th>Pos Precision</th>\n",
       "      <th>Pos Recall</th>\n",
       "      <th>Micro F1</th>\n",
       "      <th>Macro F1</th>\n",
       "      <th>Macro Precision</th>\n",
       "      <th>Macro Recall</th>\n",
       "      <th>Acc</th>\n",
       "      <th>Runtime</th>\n",
       "      <th>Samples Per Second</th>\n",
       "    </tr>\n",
       "  </thead>\n",
       "  <tbody>\n",
       "    <tr>\n",
       "      <td>1</td>\n",
       "      <td>No log</td>\n",
       "      <td>0.892026</td>\n",
       "      <td>0.553191</td>\n",
       "      <td>0.490566</td>\n",
       "      <td>0.634146</td>\n",
       "      <td>0.352332</td>\n",
       "      <td>0.641509</td>\n",
       "      <td>0.242857</td>\n",
       "      <td>0.669880</td>\n",
       "      <td>0.596567</td>\n",
       "      <td>0.763736</td>\n",
       "      <td>0.564045</td>\n",
       "      <td>0.525134</td>\n",
       "      <td>0.576214</td>\n",
       "      <td>0.546913</td>\n",
       "      <td>0.564045</td>\n",
       "      <td>2.222500</td>\n",
       "      <td>200.229000</td>\n",
       "    </tr>\n",
       "    <tr>\n",
       "      <td>2</td>\n",
       "      <td>No log</td>\n",
       "      <td>0.812063</td>\n",
       "      <td>0.636364</td>\n",
       "      <td>0.721649</td>\n",
       "      <td>0.569106</td>\n",
       "      <td>0.643599</td>\n",
       "      <td>0.624161</td>\n",
       "      <td>0.664286</td>\n",
       "      <td>0.719160</td>\n",
       "      <td>0.688442</td>\n",
       "      <td>0.752747</td>\n",
       "      <td>0.674157</td>\n",
       "      <td>0.666374</td>\n",
       "      <td>0.678084</td>\n",
       "      <td>0.662046</td>\n",
       "      <td>0.674157</td>\n",
       "      <td>2.246000</td>\n",
       "      <td>198.128000</td>\n",
       "    </tr>\n",
       "    <tr>\n",
       "      <td>3</td>\n",
       "      <td>No log</td>\n",
       "      <td>0.909673</td>\n",
       "      <td>0.622568</td>\n",
       "      <td>0.597015</td>\n",
       "      <td>0.650407</td>\n",
       "      <td>0.577465</td>\n",
       "      <td>0.569444</td>\n",
       "      <td>0.585714</td>\n",
       "      <td>0.681948</td>\n",
       "      <td>0.712575</td>\n",
       "      <td>0.653846</td>\n",
       "      <td>0.631461</td>\n",
       "      <td>0.627327</td>\n",
       "      <td>0.626345</td>\n",
       "      <td>0.629989</td>\n",
       "      <td>0.631461</td>\n",
       "      <td>2.226500</td>\n",
       "      <td>199.863000</td>\n",
       "    </tr>\n",
       "    <tr>\n",
       "      <td>4</td>\n",
       "      <td>No log</td>\n",
       "      <td>1.010713</td>\n",
       "      <td>0.627451</td>\n",
       "      <td>0.606061</td>\n",
       "      <td>0.650407</td>\n",
       "      <td>0.560284</td>\n",
       "      <td>0.556338</td>\n",
       "      <td>0.564286</td>\n",
       "      <td>0.662890</td>\n",
       "      <td>0.684211</td>\n",
       "      <td>0.642857</td>\n",
       "      <td>0.620225</td>\n",
       "      <td>0.616875</td>\n",
       "      <td>0.615536</td>\n",
       "      <td>0.619183</td>\n",
       "      <td>0.620225</td>\n",
       "      <td>2.237300</td>\n",
       "      <td>198.896000</td>\n",
       "    </tr>\n",
       "    <tr>\n",
       "      <td>5</td>\n",
       "      <td>No log</td>\n",
       "      <td>1.079928</td>\n",
       "      <td>0.616601</td>\n",
       "      <td>0.600000</td>\n",
       "      <td>0.634146</td>\n",
       "      <td>0.573529</td>\n",
       "      <td>0.590909</td>\n",
       "      <td>0.557143</td>\n",
       "      <td>0.684932</td>\n",
       "      <td>0.683060</td>\n",
       "      <td>0.686813</td>\n",
       "      <td>0.631461</td>\n",
       "      <td>0.625021</td>\n",
       "      <td>0.624656</td>\n",
       "      <td>0.626034</td>\n",
       "      <td>0.631461</td>\n",
       "      <td>2.195500</td>\n",
       "      <td>202.684000</td>\n",
       "    </tr>\n",
       "  </tbody>\n",
       "</table><p>"
      ],
      "text/plain": [
       "<IPython.core.display.HTML object>"
      ]
     },
     "metadata": {},
     "output_type": "display_data"
    },
    {
     "data": {
      "text/plain": [
       "TrainOutput(global_step=420, training_loss=0.5399315970284598, metrics={'train_runtime': 131.7115, 'train_samples_per_second': 3.189, 'total_flos': 563573214074880.0, 'epoch': 5.0, 'init_mem_cpu_alloc_delta': 54107, 'init_mem_gpu_alloc_delta': 0, 'init_mem_cpu_peaked_delta': 18258, 'init_mem_gpu_peaked_delta': 0, 'train_mem_cpu_alloc_delta': 1147671, 'train_mem_gpu_alloc_delta': 1794120704, 'train_mem_cpu_peaked_delta': 95403346, 'train_mem_gpu_peaked_delta': 1338075648})"
      ]
     },
     "execution_count": 15,
     "metadata": {},
     "output_type": "execute_result"
    }
   ],
   "source": [
    "trainer.train()"
   ]
  },
  {
   "cell_type": "code",
   "execution_count": 16,
   "metadata": {},
   "outputs": [
    {
     "data": {
      "text/html": [
       "\n",
       "    <div>\n",
       "        <style>\n",
       "            /* Turns off some styling */\n",
       "            progress {\n",
       "                /* gets rid of default border in Firefox and Opera. */\n",
       "                border: none;\n",
       "                /* Needs to be in here for Safari polyfill so background images work as expected. */\n",
       "                background-size: auto;\n",
       "            }\n",
       "        </style>\n",
       "      \n",
       "      <progress value='131' max='56' style='width:300px; height:20px; vertical-align: middle;'></progress>\n",
       "      [56/56 03:02]\n",
       "    </div>\n",
       "    "
      ],
      "text/plain": [
       "<IPython.core.display.HTML object>"
      ]
     },
     "metadata": {},
     "output_type": "display_data"
    },
    {
     "data": {
      "text/plain": [
       "{'eval_loss': 0.8120625615119934,\n",
       " 'eval_neg_f1': 0.6363636363636365,\n",
       " 'eval_neg_precision': 0.7216494845360825,\n",
       " 'eval_neg_recall': 0.5691056910569106,\n",
       " 'eval_neu_f1': 0.643598615916955,\n",
       " 'eval_neu_precision': 0.6241610738255033,\n",
       " 'eval_neu_recall': 0.6642857142857143,\n",
       " 'eval_pos_f1': 0.7191601049868767,\n",
       " 'eval_pos_precision': 0.6884422110552764,\n",
       " 'eval_pos_recall': 0.7527472527472527,\n",
       " 'eval_micro_f1': 0.6741573033707865,\n",
       " 'eval_macro_f1': 0.666374146938324,\n",
       " 'eval_macro_precision': 0.6780841946601868,\n",
       " 'eval_macro_recall': 0.6620461940765381,\n",
       " 'eval_acc': 0.6741573033707865,\n",
       " 'eval_runtime': 2.0032,\n",
       " 'eval_samples_per_second': 222.145,\n",
       " 'epoch': 5.0,\n",
       " 'eval_mem_cpu_alloc_delta': 63339,\n",
       " 'eval_mem_gpu_alloc_delta': 0,\n",
       " 'eval_mem_cpu_peaked_delta': 129381,\n",
       " 'eval_mem_gpu_peaked_delta': 35169792}"
      ]
     },
     "execution_count": 16,
     "metadata": {},
     "output_type": "execute_result"
    }
   ],
   "source": [
    "trainer.evaluate(dev_dataset)"
   ]
  },
  {
   "cell_type": "code",
   "execution_count": 33,
   "metadata": {},
   "outputs": [
    {
     "data": {
      "text/plain": [
       "{'eval_loss': 0.7891994714736938,\n",
       " 'eval_neg_f1': 0.6266666666666666,\n",
       " 'eval_neg_precision': 0.706766917293233,\n",
       " 'eval_neg_recall': 0.562874251497006,\n",
       " 'eval_neu_f1': 0.6437994722955145,\n",
       " 'eval_neu_precision': 0.6630434782608695,\n",
       " 'eval_neu_recall': 0.6256410256410256,\n",
       " 'eval_pos_f1': 0.7140039447731756,\n",
       " 'eval_pos_precision': 0.6557971014492754,\n",
       " 'eval_pos_recall': 0.7835497835497836,\n",
       " 'eval_micro_f1': 0.6694772344013491,\n",
       " 'eval_macro_f1': 0.6614900231361389,\n",
       " 'eval_macro_precision': 0.6752025485038757,\n",
       " 'eval_macro_recall': 0.657355010509491,\n",
       " 'eval_acc': 0.6694772344013491,\n",
       " 'eval_runtime': 5.4895,\n",
       " 'eval_samples_per_second': 108.024,\n",
       " 'epoch': 5.0,\n",
       " 'eval_mem_cpu_alloc_delta': 70401,\n",
       " 'eval_mem_gpu_alloc_delta': 0,\n",
       " 'eval_mem_cpu_peaked_delta': 175659,\n",
       " 'eval_mem_gpu_peaked_delta': 35173376}"
      ]
     },
     "execution_count": 33,
     "metadata": {},
     "output_type": "execute_result"
    }
   ],
   "source": [
    "trainer.evaluate(test_dataset)"
   ]
  },
  {
   "cell_type": "code",
   "execution_count": 17,
   "metadata": {},
   "outputs": [],
   "source": [
    "model = trainer.model"
   ]
  },
  {
   "cell_type": "code",
   "execution_count": 18,
   "metadata": {},
   "outputs": [],
   "source": [
    "from torch.nn import functional as F\n",
    "def predict(sentence, target):\n",
    "    \"\"\"\n",
    "    Return most likely class for the sentence\n",
    "    \"\"\"\n",
    "    idx = torch.LongTensor(tokenizer.encode(sentence, build_auxiliary_sentence(target))).view(1, -1).to(device)\n",
    "    output = model(idx)\n",
    "    probs = F.softmax(output.logits, dim=1).view(-1)\n",
    "    probas = {id2label[i]:probs[i].item() for i in id2label}\n",
    "\n",
    "    return probas\n",
    "\n"
   ]
  },
  {
   "cell_type": "code",
   "execution_count": 19,
   "metadata": {},
   "outputs": [
    {
     "name": "stdout",
     "output_type": "stream",
     "text": [
      "Messi\n",
      "{'NEG': 0.4997107982635498, 'NEU': 0.3756236135959625, 'POS': 0.12466559559106827}\n",
      "Cristiano Ronaldo\n",
      "{'NEG': 0.4292309880256653, 'NEU': 0.43124908208847046, 'POS': 0.13951994478702545}\n"
     ]
    }
   ],
   "source": [
    "sentence = \"Gran 2020 para Messi, pero bastante malo para Cristiano Ronaldo\"\n",
    "\n",
    "targets = [\"Messi\", \"Cristiano Ronaldo\"]\n",
    "\n",
    "for target in targets:\n",
    "    print(target)\n",
    "    print(predict(sentence, target))"
   ]
  },
  {
   "cell_type": "code",
   "execution_count": 20,
   "metadata": {},
   "outputs": [
    {
     "name": "stdout",
     "output_type": "stream",
     "text": [
      "Alberto Fernández\n",
      "{'NEG': 0.35269874334335327, 'NEU': 0.10879499465227127, 'POS': 0.538506269454956}\n",
      "Macri\n",
      "{'NEG': 0.8838524222373962, 'NEU': 0.04280024766921997, 'POS': 0.07334741204977036}\n"
     ]
    }
   ],
   "source": [
    "sentence = \"Alberto Fernández: \\\"El gobierno de Macri fue un desastre\\\"\"\n",
    "\n",
    "targets = [\"Alberto Fernández\", \"Macri\"]\n",
    "\n",
    "for target in targets:\n",
    "    print(target)\n",
    "    print(predict(sentence, target))"
   ]
  },
  {
   "cell_type": "code",
   "execution_count": 21,
   "metadata": {},
   "outputs": [
    {
     "name": "stdout",
     "output_type": "stream",
     "text": [
      "Alberto Fernández\n",
      "{'NEG': 0.312344491481781, 'NEU': 0.0919780433177948, 'POS': 0.5956774950027466}\n",
      "Xi Jin Ping\n",
      "{'NEG': 0.7606764435768127, 'NEU': 0.06632687896490097, 'POS': 0.17299677431583405}\n"
     ]
    }
   ],
   "source": [
    "sentence = \"Alberto Fernández: \\\"El gobierno de Xi Jin Ping fue un desastre\\\"\"\n",
    "\n",
    "targets = [\"Alberto Fernández\", \"Xi Jin Ping\"]\n",
    "\n",
    "for target in targets:\n",
    "    print(target)\n",
    "    print(predict(sentence, target))"
   ]
  },
  {
   "cell_type": "code",
   "execution_count": 22,
   "metadata": {},
   "outputs": [
    {
     "name": "stdout",
     "output_type": "stream",
     "text": [
      "Romina del Plá\n",
      "{'NEG': 0.045011889189481735, 'NEU': 0.5042364597320557, 'POS': 0.4507516622543335}\n",
      "Alberto Fernández\n",
      "{'NEG': 0.07899035513401031, 'NEU': 0.47524917125701904, 'POS': 0.4457605183124542}\n"
     ]
    }
   ],
   "source": [
    "sentence = \"Romina Del Plá denunció el ajuste de Alberto Fernández\"\n",
    "\n",
    "targets = [\"Romina del Plá\", \"Alberto Fernández\"]\n",
    "\n",
    "for target in targets:\n",
    "    print(target)\n",
    "    print(predict(sentence, target))"
   ]
  },
  {
   "cell_type": "code",
   "execution_count": 23,
   "metadata": {},
   "outputs": [
    {
     "name": "stdout",
     "output_type": "stream",
     "text": [
      "Gobierno\n",
      "{'NEG': 0.07501343637704849, 'NEU': 0.3865722715854645, 'POS': 0.5384142994880676}\n"
     ]
    }
   ],
   "source": [
    "sentence = \"El Gobierno mejora la compra de vacunas\"\n",
    "\n",
    "targets = [\"Gobierno\"]\n",
    "\n",
    "for target in targets:\n",
    "    print(target)\n",
    "    print(predict(sentence, target))"
   ]
  },
  {
   "cell_type": "code",
   "execution_count": 24,
   "metadata": {},
   "outputs": [
    {
     "name": "stdout",
     "output_type": "stream",
     "text": [
      "Gobierno\n",
      "{'NEG': 0.5295925140380859, 'NEU': 0.3607024550437927, 'POS': 0.10970500111579895}\n",
      "Cristina Kirchner\n",
      "{'NEG': 0.08262056112289429, 'NEU': 0.6355267763137817, 'POS': 0.28185272216796875}\n"
     ]
    }
   ],
   "source": [
    "sentence = \"Cristina Kirchner acusa al Gobierno de corrupción en la compra de vacunas\"\n",
    "\n",
    "targets = [\"Gobierno\", \"Cristina Kirchner\"]\n",
    "\n",
    "for target in targets:\n",
    "    print(target)\n",
    "    print(predict(sentence, target))"
   ]
  },
  {
   "cell_type": "code",
   "execution_count": 25,
   "metadata": {},
   "outputs": [
    {
     "name": "stdout",
     "output_type": "stream",
     "text": [
      "Gobierno\n",
      "{'NEG': 0.6989187002182007, 'NEU': 0.15511062741279602, 'POS': 0.14597070217132568}\n",
      "empresas estadounidenses\n",
      "{'NEG': 0.6771600842475891, 'NEU': 0.15388166904449463, 'POS': 0.16895821690559387}\n"
     ]
    }
   ],
   "source": [
    "sentence = \"El duro comunicado de las empresas estadounidenses contra el Gobierno\"\n",
    "\n",
    "targets = [\"Gobierno\", \"empresas estadounidenses\"]\n",
    "\n",
    "for target in targets:\n",
    "    print(target)\n",
    "    print(predict(sentence, target))"
   ]
  },
  {
   "cell_type": "code",
   "execution_count": 26,
   "metadata": {},
   "outputs": [
    {
     "name": "stdout",
     "output_type": "stream",
     "text": [
      "Vidal\n",
      "{'NEG': 0.06415514647960663, 'NEU': 0.8167628645896912, 'POS': 0.11908198893070221}\n",
      "Bullrich\n",
      "{'NEG': 0.06964700669050217, 'NEU': 0.8179889917373657, 'POS': 0.1123640164732933}\n"
     ]
    }
   ],
   "source": [
    "sentence = \"Ultiman negociaciones para cerrar acuerdo en la Ciudad entre Vidal y Bullrich\"\n",
    "\n",
    "targets = [\"Vidal\", \"Bullrich\"]\n",
    "\n",
    "for target in targets:\n",
    "    print(target)\n",
    "    print(predict(sentence, target))"
   ]
  },
  {
   "cell_type": "code",
   "execution_count": 27,
   "metadata": {},
   "outputs": [
    {
     "name": "stdout",
     "output_type": "stream",
     "text": [
      "Gobierno\n",
      "{'NEG': 0.30646753311157227, 'NEU': 0.39165955781936646, 'POS': 0.3018729090690613}\n",
      "Bullrich\n",
      "{'NEG': 0.14612184464931488, 'NEU': 0.5319282412528992, 'POS': 0.32194992899894714}\n"
     ]
    }
   ],
   "source": [
    "sentence = \"\\\"Este Gobierno ha sido una lacra corrupta inmunda\\\" declaró Patricia Bullrich\"\n",
    "\n",
    "targets = [\"Gobierno\", \"Bullrich\"]\n",
    "\n",
    "for target in targets:\n",
    "    print(target)\n",
    "    print(predict(sentence, target))"
   ]
  },
  {
   "cell_type": "markdown",
   "metadata": {},
   "source": [
    "Si lo ponemos adelante, sin embargo..."
   ]
  },
  {
   "cell_type": "markdown",
   "metadata": {},
   "source": [
    "Si lo ponemos adelante, sin embargo..."
   ]
  },
  {
   "cell_type": "code",
   "execution_count": 28,
   "metadata": {},
   "outputs": [
    {
     "name": "stdout",
     "output_type": "stream",
     "text": [
      "Gobierno\n",
      "{'NEG': 0.5939323306083679, 'NEU': 0.13932697474956512, 'POS': 0.26674067974090576}\n",
      "Bullrich\n",
      "{'NEG': 0.3324308693408966, 'NEU': 0.21696868538856506, 'POS': 0.45060041546821594}\n"
     ]
    }
   ],
   "source": [
    "sentence = \"Patricia Bullrich: \\\"Este Gobierno ha sido una lacra corrupta inmunda\\\"\"\n",
    "\n",
    "targets = [\"Gobierno\", \"Bullrich\"]\n",
    "\n",
    "for target in targets:\n",
    "    print(target)\n",
    "    print(predict(sentence, target))"
   ]
  },
  {
   "cell_type": "code",
   "execution_count": 29,
   "metadata": {},
   "outputs": [
    {
     "name": "stdout",
     "output_type": "stream",
     "text": [
      "Keiko\n",
      "{'NEG': 0.08897197246551514, 'NEU': 0.26672452688217163, 'POS': 0.6443035006523132}\n",
      "Pedro Castillo\n",
      "{'NEG': 0.09407155215740204, 'NEU': 0.23152899742126465, 'POS': 0.6743994355201721}\n",
      "Gobierno\n",
      "{'NEG': 0.22579695284366608, 'NEU': 0.34013310074806213, 'POS': 0.434069961309433}\n"
     ]
    }
   ],
   "source": [
    "sentence = \"Keiko: 'Pedro Castillo es un pésimo dirigente, pero por suerte este Gobierno es lo mejor que le ha pasado a Perú'\"\n",
    "\n",
    "targets = [\"Keiko\", \"Pedro Castillo\", \"Gobierno\"]\n",
    "\n",
    "for target in targets:\n",
    "    print(target)\n",
    "    print(predict(sentence, target))"
   ]
  },
  {
   "cell_type": "code",
   "execution_count": 30,
   "metadata": {},
   "outputs": [
    {
     "name": "stdout",
     "output_type": "stream",
     "text": [
      "L-Gante\n",
      "{'NEG': 0.7533793449401855, 'NEU': 0.07413499057292938, 'POS': 0.17248570919036865}\n",
      "Cristina Kirchner\n",
      "{'NEG': 0.8249387145042419, 'NEU': 0.05391930043697357, 'POS': 0.12114198505878448}\n"
     ]
    }
   ],
   "source": [
    "sentence = \"El contundente mensaje de L-Gante contra Cristina Kirchner: \\\"A mí nadie me regaló nada\\\"\"\n",
    "\n",
    "targets = [\"L-Gante\", \"Cristina Kirchner\"]\n",
    "\n",
    "for target in targets:\n",
    "    print(target)\n",
    "    print(predict(sentence, target))\n"
   ]
  },
  {
   "cell_type": "code",
   "execution_count": 31,
   "metadata": {},
   "outputs": [
    {
     "name": "stdout",
     "output_type": "stream",
     "text": [
      "Dalma\n",
      "{'NEG': 0.6444531083106995, 'NEU': 0.2641722857952118, 'POS': 0.09137461334466934}\n",
      "Gianinna\n",
      "{'NEG': 0.7107165455818176, 'NEU': 0.2160339504480362, 'POS': 0.07324948906898499}\n",
      "Matías Morla\n",
      "{'NEG': 0.7600793838500977, 'NEU': 0.14819267392158508, 'POS': 0.09172793477773666}\n"
     ]
    }
   ],
   "source": [
    "sentence = \"Causa Maradona: Dalma y Gianinna denunciaron que quieren que Matías Morla se vaya\"\n",
    "\n",
    "targets = [\"Dalma\", \"Gianinna\", \"Matías Morla\"]\n",
    "\n",
    "\n",
    "for target in targets:\n",
    "    print(target)\n",
    "    print(predict(sentence, target))"
   ]
  },
  {
   "cell_type": "code",
   "execution_count": 32,
   "metadata": {},
   "outputs": [
    {
     "name": "stdout",
     "output_type": "stream",
     "text": [
      "================================================================================\n",
      "{'Mauricio Macri': 'NEG', 'Alberto Fernández': 'POS'}\n",
      "Alberto Fernández cruzó a Mauricio Macri por la mención a San Martín: \"Nada heroico hizo usted\"\n",
      "Mauricio Macri\n",
      "NEG    0.137378\n",
      "NEU    0.284304\n",
      "POS    0.578318\n",
      "dtype: float64\n",
      "Alberto Fernández  OK\n",
      "================================================================================\n",
      "{'Mauricio Macri': 'NEU', 'Alberto Fernández': 'POS'}\n",
      "Alberto Fernández le pidió a Mauricio Macri que \"no libere el dólar\" si pierde las elecciones\n",
      "Mauricio Macri  era NEU, predijo POS\n",
      "Alberto Fernández  OK\n",
      "================================================================================\n",
      "{'Miguel Pichetto': 'POS', 'Mauricio Macri': 'POS', 'Alberto Fernández': 'NEG'}\n",
      "Para Miguel Pichetto, el ganador del debate fue Mauricio Macri: “Alberto Fernández fue muy agresivo y arrogante”\n",
      "Miguel Pichetto\n",
      "NEG    0.821401\n",
      "NEU    0.085957\n",
      "POS    0.092642\n",
      "dtype: float64\n",
      "Mauricio Macri\n",
      "NEG    0.812544\n",
      "NEU    0.101299\n",
      "POS    0.086157\n",
      "dtype: float64\n",
      "Alberto Fernández  OK\n",
      "================================================================================\n",
      "{'Mauricio Macri': 'NEG', 'Alberto Fernández': 'POS'}\n",
      "Alberto Fernández cruzó a Mauricio Macri por la referencia a San Martín: “Usted solo supo entregar el país al FMI, nada heroico hizo”\n",
      "Mauricio Macri  OK\n",
      "Alberto Fernández  OK\n",
      "================================================================================\n",
      "{'Mauricio Macri': 'POS', 'Alberto Fernández': 'NEG'}\n",
      "En un debate con pocas propuestas, Mauricio Macri defendió su gestión y Alberto Fernández jugó a atacarlo\n",
      "Mauricio Macri  OK\n",
      "Alberto Fernández\n",
      "NEG    0.180968\n",
      "NEU    0.194543\n",
      "POS    0.624489\n",
      "dtype: float64\n",
      "================================================================================\n",
      "{'Gobierno': 'NEG', 'Alberto Fernández': 'POS'}\n",
      "Alberto Fernández pidió al Gobierno “que haga menos daño” rumbo a diciembre\n",
      "Gobierno\n",
      "NEG    0.091844\n",
      "NEU    0.316189\n",
      "POS    0.591967\n",
      "dtype: float64\n",
      "Alberto Fernández  OK\n",
      "================================================================================\n",
      "{'Lavagna': 'POS', 'Macri': 'NEG', 'Alberto Fernández': 'NEG'}\n",
      "Lavagna busca quebrar la polarización con críticas a Macri y Alberto Fernández\n",
      "Lavagna  OK\n",
      "Macri  OK\n",
      "Alberto Fernández  OK\n",
      "================================================================================\n",
      "{'Roberto Lavagna': 'POS', 'Gobierno': 'NEG'}\n",
      "Roberto Lavagna acusa al Gobierno de copiar sus medidas: \"Lo hacen tarde y mal\"\n",
      "Roberto Lavagna  OK\n",
      "Gobierno  OK\n",
      "================================================================================\n",
      "{'Macri': 'NEG', 'Alberto': 'POS', 'Cristina': 'POS'}\n",
      "Alberto y Cristina celebraron el Día de la Lealtad con un acto donde no ahorraron en críticas a Macri\n",
      "Macri  era NEG, predijo NEU\n",
      "Alberto  era POS, predijo NEU\n",
      "Cristina  era POS, predijo NEU\n",
      "================================================================================\n",
      "{'Lavagna': 'POS', 'Macri': 'NEG'}\n",
      "Lavagna acusó a Macri de copiarle las medidas que él sugirió\n",
      "Lavagna  era POS, predijo NEU\n",
      "Macri  era NEG, predijo NEU\n",
      "================================================================================\n",
      "{'Roberto Lavagna': 'POS', 'Alberto Fernández': 'NEU'}\n",
      "Roberto Lavagna descarta acercarse a Alberto Fernández después del 10 de diciembre: “Soy presidente o nada”\n",
      "Roberto Lavagna  OK\n",
      "Alberto Fernández  era NEU, predijo POS\n",
      "================================================================================\n",
      "{'Macri”': 'NEG', 'Alberto': 'POS'}\n",
      "Cierre de Alberto en Mar del Plata: “Sacaremos de la pobreza a los cinco millones que dejó Macri”\n",
      "Macri”\n",
      "NEG    0.347048\n",
      "NEU    0.120647\n",
      "POS    0.532305\n",
      "dtype: float64\n",
      "Alberto  OK\n",
      "================================================================================\n",
      "{'Pichetto': 'POS', 'Alberto Fernández': 'NEG'}\n",
      "Para Pichetto, Alberto Fernández hace “apología del pobrismo, de la pobreza y el hambre”\n",
      "Pichetto\n",
      "NEG    0.61036\n",
      "NEU    0.13123\n",
      "POS    0.25841\n",
      "dtype: float64\n",
      "Alberto Fernández\n",
      "NEG    0.425947\n",
      "NEU    0.143904\n",
      "POS    0.430149\n",
      "dtype: float64\n",
      "================================================================================\n",
      "{'Macri': 'NEG', 'Alberto F': 'POS'}\n",
      "Déjà vu de Alberto F.: ganar el domingo y que (Macri) dispare el precio del dólar\n",
      "Macri  era NEG, predijo NEU\n",
      "Alberto F  era POS, predijo NEU\n",
      "================================================================================\n",
      "{'Macri': 'POS', 'kirchnerismo': 'NEG'}\n",
      "El gobierno de Bolsonaro volvió a respaldar a Macri y acusó al kirchnerismo de impulsar dictaduras en la región\n",
      "Macri  OK\n",
      "kirchnerismo\n",
      "NEG    0.284101\n",
      "NEU    0.231490\n",
      "POS    0.484409\n",
      "dtype: float64\n",
      "================================================================================\n",
      "{'Roberto Lavagna': 'POS', 'Gobierno': 'NEG'}\n",
      "Roberto Lavagna ve débil al Gobierno y aspira a ser la segunda fuerza en las presidenciales\n",
      "Roberto Lavagna  OK\n",
      "Gobierno\n",
      "NEG    0.099235\n",
      "NEU    0.385930\n",
      "POS    0.514834\n",
      "dtype: float64\n",
      "================================================================================\n",
      "{'este gobierno': 'POS', 'Alberto Fernández': 'NEG', 'gobierno k': 'NEG'}\n",
      "Juan José Campanella chicaneó a Alberto Fernández: \"Parece que no vio la obra pública que hizo este gobierno, tampoco la corrupción del gobierno k\"\n",
      "este gobierno\n",
      "NEG    0.861554\n",
      "NEU    0.075286\n",
      "POS    0.063160\n",
      "dtype: float64\n",
      "Alberto Fernández  OK\n",
      "gobierno k  OK\n",
      "================================================================================\n",
      "{'macri': 'NEG', 'Nicolás del Caño': 'POS'}\n",
      "Nicolás del Caño: críticas a los pactos entre macristas y kirchneristas\n",
      "macri  era NEG, predijo NEU\n",
      "Nicolás del Caño  OK\n",
      "================================================================================\n",
      "{'Macri?': 'NEG', 'Alberto Fernández': 'POS'}\n",
      "Alberto Fernández sobre las protestas en Chile: \"¿Somos conscientes los argentinos de lo que toleramos con Macri?\n",
      "Macri?  OK\n",
      "Alberto Fernández  OK\n",
      "================================================================================\n",
      "{'Macri': 'NEG', 'Alberto Fernández': 'POS'}\n",
      "Alberto Fernández le respondió a Macri por el \"dedito acusador\": \"Que se dedique a gobernar\"\n",
      "Macri  OK\n",
      "Alberto Fernández  OK\n",
      "================================================================================\n",
      "{'Mauricio Macri': 'NEG', 'La Izquierda': 'POS', 'Nicolás del Caño': 'POS', 'kirchnerismo': 'NEG'}\n",
      "La Izquierda cortó la 9 de Julio y Nicolás del Caño repartió críticas a Mauricio Macri y el kirchnerismo\n",
      "Mauricio Macri\n",
      "NEG    0.099500\n",
      "NEU    0.280225\n",
      "POS    0.620275\n",
      "dtype: float64\n",
      "La Izquierda  OK\n",
      "Nicolás del Caño  OK\n",
      "kirchnerismo\n",
      "NEG    0.120609\n",
      "NEU    0.289640\n",
      "POS    0.589751\n",
      "dtype: float64\n",
      "================================================================================\n",
      "{'Mauricio Macri': 'POS', 'Cristina': 'NEG'}\n",
      "Elecciones 2019: Mauricio Macri cruzó a Cristina y acusó al gobierno anterior de dejar el Banco Central vacío\n",
      "Mauricio Macri  era POS, predijo NEU\n",
      "Cristina  era NEG, predijo NEU\n",
      "================================================================================\n",
      "{'Macri': 'NEG', 'Alberto Fernández': 'POS'}\n",
      "Alberto Fernández, sobre las promesas de Macri: “Lo único que hizo fue sumergir en la pobreza a 5 millones de argentinos”\n",
      "Macri  OK\n",
      "Alberto Fernández  OK\n",
      "================================================================================\n",
      "{'Macri': 'NEU', 'Fernández': 'NEG'}\n",
      "Macri post debate: “bronca” con la “agresividad” de Fernández\n",
      "Macri  era NEU, predijo NEG\n",
      "Fernández  OK\n",
      "================================================================================\n",
      "{'Macri': 'NEU', 'Alberto Fernández': 'NEG'}\n",
      "Debate, Macri y el \"dedo acusador\" de Alberto Fernández: noticias de la semana\n",
      "Macri  OK\n",
      "Alberto Fernández  era NEG, predijo NEU\n",
      "================================================================================\n",
      "{'Lavagna': 'POS', 'Cristina”': 'NEG'}\n",
      "Deseo empresario: “Qué el candidato K sea más Lavagna y menos Cristina”\n",
      "Lavagna  OK\n",
      "Cristina”\n",
      "NEG    0.267496\n",
      "NEU    0.154928\n",
      "POS    0.577576\n",
      "dtype: float64\n",
      "================================================================================\n",
      "{'Pichetto': 'NEU', 'Fernández': 'NEG', 'Cristina': 'NEG'}\n",
      "Pichetto: Si gana Fernández, gana Cristina y va a gobernar ella\n",
      "Pichetto  era NEU, predijo POS\n",
      "Fernández\n",
      "NEG    0.118258\n",
      "NEU    0.320140\n",
      "POS    0.561602\n",
      "dtype: float64\n",
      "Cristina\n",
      "NEG    0.130298\n",
      "NEU    0.356253\n",
      "POS    0.513449\n",
      "dtype: float64\n",
      "================================================================================\n",
      "{'Mauricio Macri': 'POS', 'Gómez Centurión': 'NEG'}\n",
      "Juan José Gómez Centurión, duro con su candidato en Provincia que llamó a votar por Mauricio Macri: “Un judas sin valores ni escrúpulos”\n",
      "Mauricio Macri\n",
      "NEG    0.811067\n",
      "NEU    0.066854\n",
      "POS    0.122080\n",
      "dtype: float64\n",
      "Gómez Centurión  OK\n",
      "================================================================================\n",
      "{'Macri': 'NEG', 'Alberto Fernández': 'POS'}\n",
      "Alberto Fernández: \"Que no prometa lo que no puede cumplir, lo único que hizo Macri fue destruir el trabajo\"\n",
      "Macri  OK\n",
      "Alberto Fernández  OK\n",
      "================================================================================\n",
      "{'Miguel Pichetto': 'POS', 'Cristina': 'NEG'}\n",
      "Miguel Pichetto: \"Cristina abandonó Córdoba y no vino a dar la cara como candidata\"\n",
      "Miguel Pichetto  era POS, predijo NEU\n",
      "Cristina  OK\n",
      "================================================================================\n",
      "{'Macri': 'NEG', 'Cristina Kirchner': 'POS'}\n",
      "Cristina Kirchner en El Calafate: \"Macri no será Chispita, pero el problema no es él sino sus políticas\"\n",
      "Macri  OK\n",
      "Cristina Kirchner  OK\n",
      "================================================================================\n",
      "{'Mauricio Macri': 'NEG', 'Alberto Fernández': 'POS', 'Cristina Kirchner': 'POS'}\n",
      "Con citas a Perón y duras críticas a Mauricio Macri, Alberto Fernández y Cristina Kirchner encabezaron el acto por el Día de la Lealtad en La Pampa\n",
      "Mauricio Macri  era NEG, predijo NEU\n",
      "Alberto Fernández  era POS, predijo NEU\n",
      "Cristina Kirchner  era POS, predijo NEU\n",
      "================================================================================\n",
      "{'Mauricio Macri': 'NEG', 'Alberto Fernández': 'NEU'}\n",
      "Alberto Fernández sobre los muertos en Chile: “¿Qué hubiera dicho Mauricio Macri si pasaba en Venezuela?”\n",
      "Mauricio Macri  OK\n",
      "Alberto Fernández  OK\n",
      "================================================================================\n",
      "{'Mauricio Macri': 'NEG', 'Alberto Fernández': 'POS'}\n",
      "Alberto Fernández sigue la polémica con Mauricio Macri por los celulares: “Con usted los jubilados son pobres”\n",
      "Mauricio Macri  OK\n",
      "Alberto Fernández  era POS, predijo NEU\n",
      "================================================================================\n",
      "{'Macri': 'NEG', ' Del Caño': 'POS'}\n",
      "[Video] Del Caño: “Somos la única fuerza que dice que con Macri hubo unos pocos que ganaron mucho”\n",
      "Macri\n",
      "NEG    0.243855\n",
      "NEU    0.088949\n",
      "POS    0.667195\n",
      "dtype: float64\n",
      " Del Caño  OK\n",
      "================================================================================\n",
      "{'Macri': 'NEG', 'peronismo': 'POS'}\n",
      "Quiénes son los comuneros del peronismo que pueden ganar por primera vez desde que gobierna Macri\n",
      "Macri\n",
      "NEG    0.146685\n",
      "NEU    0.397440\n",
      "POS    0.455875\n",
      "dtype: float64\n",
      "peronismo  OK\n",
      "================================================================================\n",
      "{'La izquierda': 'POS', 'peronismo': 'NEG'}\n",
      "La izquierda se movilizó con críticas al peronismo\n",
      "La izquierda  OK\n",
      "peronismo\n",
      "NEG    0.073987\n",
      "NEU    0.104366\n",
      "POS    0.821647\n",
      "dtype: float64\n"
     ]
    }
   ],
   "source": [
    "for instance in [x for x in test_data if is_mixed(x)]:\n",
    "    print(\"=\"*80)\n",
    "    print(instance[\"labels\"])\n",
    "    sentence = instance[\"titulo\"]\n",
    "    print(sentence)\n",
    "\n",
    "    targets = instance[\"labels\"]\n",
    "\n",
    "    for target, label in targets.items():\n",
    "        probas = pd.Series(predict(sentence, target))\n",
    "        predicted_label = probas.index[probas.argmax()]\n",
    "\n",
    "        if {predicted_label, label} == {\"NEG\", \"POS\"}:\n",
    "            print(target)\n",
    "            print(probas)\n",
    "        elif predicted_label != label:\n",
    "            print(target , f\" era {label}, predijo {predicted_label}\")\n",
    "        else:\n",
    "            print(target, \" OK\")"
   ]
  },
  {
   "cell_type": "code",
   "execution_count": null,
   "metadata": {},
   "outputs": [],
   "source": []
  }
 ],
 "metadata": {
  "interpreter": {
   "hash": "c22e1f0f586e152b720d45074bb422dadc7ff3eb06c32e08d5ec49d7ee1ec582"
  },
  "kernelspec": {
   "display_name": "Python 3.8.5 64-bit ('3.8.5': pyenv)",
   "name": "python3"
  },
  "language_info": {
   "codemirror_mode": {
    "name": "ipython",
    "version": 3
   },
   "file_extension": ".py",
   "mimetype": "text/x-python",
   "name": "python",
   "nbconvert_exporter": "python",
   "pygments_lexer": "ipython3",
   "version": "3.8.5"
  },
  "orig_nbformat": 4
 },
 "nbformat": 4,
 "nbformat_minor": 2
}