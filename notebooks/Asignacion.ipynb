{
 "cells": [
  {
   "cell_type": "markdown",
   "metadata": {},
   "source": [
    "# Asignación y Desenmascarado\n",
    "\n",
    "Saquemos las máscaras a los tweets"
   ]
  },
  {
   "cell_type": "code",
   "execution_count": 1,
   "metadata": {},
   "outputs": [
    {
     "data": {
      "text/html": [
       "<div>\n",
       "<style scoped>\n",
       "    .dataframe tbody tr th:only-of-type {\n",
       "        vertical-align: middle;\n",
       "    }\n",
       "\n",
       "    .dataframe tbody tr th {\n",
       "        vertical-align: top;\n",
       "    }\n",
       "\n",
       "    .dataframe thead th {\n",
       "        text-align: right;\n",
       "    }\n",
       "</style>\n",
       "<table border=\"1\" class=\"dataframe\">\n",
       "  <thead>\n",
       "    <tr style=\"text-align: right;\">\n",
       "      <th></th>\n",
       "      <th>medio</th>\n",
       "      <th>fecha</th>\n",
       "      <th>titulo</th>\n",
       "    </tr>\n",
       "    <tr>\n",
       "      <th>id</th>\n",
       "      <th></th>\n",
       "      <th></th>\n",
       "      <th></th>\n",
       "    </tr>\n",
       "  </thead>\n",
       "  <tbody>\n",
       "    <tr>\n",
       "      <th>23</th>\n",
       "      <td>la izquierda diario</td>\n",
       "      <td>2019-09-21 00:00:00</td>\n",
       "      <td>Barrio Aeroclub: la Izquierda propone urbaniza...</td>\n",
       "    </tr>\n",
       "    <tr>\n",
       "      <th>24</th>\n",
       "      <td>la izquierda diario</td>\n",
       "      <td>2019-09-21 00:00:00</td>\n",
       "      <td>Elecciones municipales: el #FITUnidad busca fo...</td>\n",
       "    </tr>\n",
       "    <tr>\n",
       "      <th>31</th>\n",
       "      <td>la izquierda diario</td>\n",
       "      <td>2019-09-21 00:00:00</td>\n",
       "      <td>[Videos] Mirá todos los spots del Frente de Iz...</td>\n",
       "    </tr>\n",
       "    <tr>\n",
       "      <th>65</th>\n",
       "      <td>la nación</td>\n",
       "      <td>2019-09-22 00:00:00</td>\n",
       "      <td>Tipo de cambio: por qué nos preocupa el dólar ...</td>\n",
       "    </tr>\n",
       "    <tr>\n",
       "      <th>75</th>\n",
       "      <td>la izquierda diario</td>\n",
       "      <td>2019-09-22 00:00:00</td>\n",
       "      <td>Brutalidad de la Policía de Urtubey en el reci...</td>\n",
       "    </tr>\n",
       "    <tr>\n",
       "      <th>...</th>\n",
       "      <td>...</td>\n",
       "      <td>...</td>\n",
       "      <td>...</td>\n",
       "    </tr>\n",
       "    <tr>\n",
       "      <th>22608</th>\n",
       "      <td>prensa obrera</td>\n",
       "      <td>2019-10-27 23:05:46</td>\n",
       "      <td>Declaración del Partido Obrero-Frente de Izqui...</td>\n",
       "    </tr>\n",
       "    <tr>\n",
       "      <th>22611</th>\n",
       "      <td>la nación</td>\n",
       "      <td>2019-10-27 23:16:00</td>\n",
       "      <td>Resultados elecciones 2019: Alberto Fernández,...</td>\n",
       "    </tr>\n",
       "    <tr>\n",
       "      <th>22612</th>\n",
       "      <td>la nación</td>\n",
       "      <td>2019-10-27 23:21:00</td>\n",
       "      <td>Elecciones 2019. La llamada de Macri a Alberto...</td>\n",
       "    </tr>\n",
       "    <tr>\n",
       "      <th>22616</th>\n",
       "      <td>la nación</td>\n",
       "      <td>2019-10-27 23:40:00</td>\n",
       "      <td>Video: el particular gesto de Cristina Kirchne...</td>\n",
       "    </tr>\n",
       "    <tr>\n",
       "      <th>22617</th>\n",
       "      <td>la nación</td>\n",
       "      <td>2019-10-27 23:49:00</td>\n",
       "      <td>Mauricio Macri hizo una gran campaña y Alberto...</td>\n",
       "    </tr>\n",
       "  </tbody>\n",
       "</table>\n",
       "<p>2259 rows × 3 columns</p>\n",
       "</div>"
      ],
      "text/plain": [
       "                     medio                fecha  \\\n",
       "id                                                \n",
       "23     la izquierda diario  2019-09-21 00:00:00   \n",
       "24     la izquierda diario  2019-09-21 00:00:00   \n",
       "31     la izquierda diario  2019-09-21 00:00:00   \n",
       "65               la nación  2019-09-22 00:00:00   \n",
       "75     la izquierda diario  2019-09-22 00:00:00   \n",
       "...                    ...                  ...   \n",
       "22608        prensa obrera  2019-10-27 23:05:46   \n",
       "22611            la nación  2019-10-27 23:16:00   \n",
       "22612            la nación  2019-10-27 23:21:00   \n",
       "22616            la nación  2019-10-27 23:40:00   \n",
       "22617            la nación  2019-10-27 23:49:00   \n",
       "\n",
       "                                                  titulo  \n",
       "id                                                        \n",
       "23     Barrio Aeroclub: la Izquierda propone urbaniza...  \n",
       "24     Elecciones municipales: el #FITUnidad busca fo...  \n",
       "31     [Videos] Mirá todos los spots del Frente de Iz...  \n",
       "65     Tipo de cambio: por qué nos preocupa el dólar ...  \n",
       "75     Brutalidad de la Policía de Urtubey en el reci...  \n",
       "...                                                  ...  \n",
       "22608  Declaración del Partido Obrero-Frente de Izqui...  \n",
       "22611  Resultados elecciones 2019: Alberto Fernández,...  \n",
       "22612  Elecciones 2019. La llamada de Macri a Alberto...  \n",
       "22616  Video: el particular gesto de Cristina Kirchne...  \n",
       "22617  Mauricio Macri hizo una gran campaña y Alberto...  \n",
       "\n",
       "[2259 rows x 3 columns]"
      ]
     },
     "execution_count": 1,
     "metadata": {},
     "output_type": "execute_result"
    }
   ],
   "source": [
    "import pandas as pd\n",
    "\n",
    "df_titulares = pd.read_csv(\"../data/titulos_filtrados.csv\")\n",
    "\n",
    "df_titulares = df_titulares.rename(columns={\"Unnamed: 0\": \"id\"}).set_index(\"id\")\n",
    "\n",
    "df_titulares"
   ]
  },
  {
   "cell_type": "code",
   "execution_count": 2,
   "metadata": {},
   "outputs": [],
   "source": [
    "import pandas as pd\n",
    "import glob\n",
    "import numpy as np\n",
    "import re\n",
    "\n",
    "\n",
    "\n",
    "paths = glob.glob(\"../data/etiquetados_final/*.xlsx\")\n",
    "\n",
    "dfs = []\n",
    "annotators = []\n",
    "\n",
    "for path in paths:\n",
    "    name = os.path.basename(path).split(\".\")[0]\n",
    "    \n",
    "    df = pd.read_excel(path)\n",
    "    df = df.iloc[3:]\n",
    "    annotators.append(name)\n",
    "\n",
    "    df.rename(columns={df.columns[0]: \"id\", \"TITULO\": \"titulo_mask\", \" \": \"etiquetado\", \"Etiquetado?\": \"etiquetado\"}, inplace=True)\n",
    "\n",
    "    # Por algún motivo perdimos este titular...\n",
    "    df.set_index(\"id\", inplace=True)\n",
    "\n",
    "    ids = [x for x in df.index if x not in {39}]\n",
    "    \n",
    "    df.loc[ids, \"titulo\"] = df_titulares.loc[ids, \"titulo\"]\n",
    "    # KJJJJ qué desastre esto\n",
    "    df.loc[39, \"titulo\"] = \"Entre el milagro de Macri y la grieta del peronismo\"\n",
    "    df[\"anotador\"] = name\n",
    "    df.reset_index(inplace=True)\n",
    "    dfs.append(df)\n",
    "    \n",
    "annotators = sorted(annotators)\n",
    "annotator_df = pd.concat(dfs).set_index([\"id\", \"anotador\"])"
   ]
  },
  {
   "cell_type": "markdown",
   "metadata": {},
   "source": [
    "## Asignación\n",
    "\n",
    "Primero, veamos cómo asignarlo"
   ]
  },
  {
   "cell_type": "code",
   "execution_count": 3,
   "metadata": {},
   "outputs": [],
   "source": [
    "ids = dfs[0][\"id\"]\n",
    "\n",
    "label_cols = ['TARGET A', 'TARGET B', 'TARGET C', 'TARGET D',\n",
    "       'TARGET E', 'TARGET F']\n",
    "\n",
    "total = 0\n",
    "\n",
    "accepted_ids = []\n",
    "\n",
    "for _, row in dfs[0].iterrows():\n",
    "    idx = row[\"id\"]\n",
    "    labels = annotator_df.loc[idx]\n",
    "\n",
    "    assert len(labels) == 3\n",
    "    annotated = labels[label_cols].notna()\n",
    "\n",
    "    \"\"\"\n",
    "    Chequeamos si la anotación difirió\n",
    "    \"\"\"\n",
    "    if not ( all(annotated.iloc[0] == annotated.iloc[1]) and all(annotated.iloc[1] == annotated.iloc[2])):\n",
    "        \"\"\"\n",
    "        print(\"=\"*80 + \"\\n\" * 2)\n",
    "        print(idx, row[\"titulo\"])\n",
    "        print(annotated.sum(axis=1))\n",
    "        print(annotated)\n",
    "        \"\"\"\n",
    "        total+=1\n",
    "    else:\n",
    "        accepted_ids.append(idx)"
   ]
  },
  {
   "cell_type": "markdown",
   "metadata": {},
   "source": [
    "Ok, quedémonos con accepted_ids\n",
    "\n",
    "Para cada titular, hagamos lo siguiente:\n",
    "\n",
    "- Votación mayoritaria (elegimos al que tenga 2 votos)\n",
    "- Si no ocurre...mmm, tiremos el titular mejor"
   ]
  },
  {
   "cell_type": "code",
   "execution_count": 4,
   "metadata": {},
   "outputs": [
    {
     "name": "stderr",
     "output_type": "stream",
     "text": [
      "100%|██████████| 2183/2183 [00:09<00:00, 234.20it/s]"
     ]
    },
    {
     "name": "stdout",
     "output_type": "stream",
     "text": [
      "114\n"
     ]
    },
    {
     "name": "stderr",
     "output_type": "stream",
     "text": [
      "\n"
     ]
    }
   ],
   "source": [
    "import re\n",
    "from tqdm.auto import tqdm\n",
    "\n",
    "def get_targets(instance):\n",
    "    mascarado = re.sub(r\"\\s+\", \" \", instance[\"titulo_mask\"]).strip()\n",
    "    titulo = instance[\"titulo\"]\n",
    "\n",
    "    i = 0\n",
    "    j = 0\n",
    "\n",
    "    found_targets = {}\n",
    "\n",
    "    while len(found_targets) < len(instance[\"targets\"]) and i < len(titulo):\n",
    "        if titulo[i] == mascarado[j]:\n",
    "            i += 1\n",
    "            j += 1\n",
    "        else:\n",
    "            \"son distintos, tiene que ser un target\"\n",
    "            assert mascarado[j] == \"[\"\n",
    "            \n",
    "            next_idx = mascarado[j:].index(\"]\") + j \n",
    "            \n",
    "            target = mascarado[j+1:next_idx]\n",
    "\n",
    "            j = next_idx + 1\n",
    "\n",
    "            target_name = \"\"\n",
    "            if j >= len(mascarado)-1:\n",
    "                \"\"\"\n",
    "                Listo, me quedo con todo\n",
    "                \"\"\"\n",
    "                target_name = titulo[i:]\n",
    "                i = len(titulo)\n",
    "            else:\n",
    "                \"\"\"\n",
    "                Todavía queda algo\n",
    "                \"\"\"\n",
    "                \n",
    "                pattern = mascarado[j:j+2]\n",
    "                next = titulo[i:].index(pattern)\n",
    "                target_name = titulo[i:i+next]\n",
    "                i = i + next \n",
    "            \n",
    "            if target in found_targets:\n",
    "                found_targets[target] = [found_targets[target], target_name]\n",
    "            found_targets[target] = target_name\n",
    "    return found_targets\n",
    "\n",
    "problematic = []\n",
    "\n",
    "dataset = []\n",
    "\n",
    "for idx in tqdm(accepted_ids):\n",
    "    annotated_columns = [col for col, annotated in annotator_df.loc[idx, label_cols].notna().all().items() if annotated]\n",
    "\n",
    "    # Agarro un etiquetador, total da igual\n",
    "    row = annotator_df.loc[(idx, \"et1\")]\n",
    "\n",
    "    ret = {k:row[k] for k in [\"titulo\", \"titulo_mask\"]}\n",
    "    ret[\"id\"] = idx\n",
    "    mascara = re.sub(r\"\\s+\", \" \", ret[\"titulo_mask\"]).strip()\n",
    "    mascara = re.sub(r\"(\\])\\s+([^\\w\\s“])\", r\"\\1\\2\", mascara)\n",
    "\n",
    "    ret[\"titulo_mask\"] = mascara \n",
    "    \n",
    "    ret[\"targets\"] = {}\n",
    "    for col in annotated_columns:\n",
    "        counts = annotator_df.loc[idx, col].value_counts()\n",
    "\n",
    "        if counts.max() == 1:\n",
    "            problematic.append(idx)\n",
    "        else:\n",
    "            label = counts.index[counts.argmax()]\n",
    "            ret[\"targets\"][col] = label\n",
    "\n",
    "\n",
    "    if ret[\"targets\"]:\n",
    "        try:\n",
    "            ret[\"mapping\"] = get_targets(ret)\n",
    "        except:\n",
    "            pass\n",
    "        dataset.append(ret)\n",
    "print(len(problematic))"
   ]
  },
  {
   "cell_type": "code",
   "execution_count": 5,
   "metadata": {},
   "outputs": [
    {
     "data": {
      "text/plain": [
       "[]"
      ]
     },
     "execution_count": 5,
     "metadata": {},
     "output_type": "execute_result"
    }
   ],
   "source": [
    "set_ids = []\n",
    "\n",
    "def set_mapping(idx, mapping, keep=False):\n",
    "    if keep:\n",
    "        set_ids.append(idx)\n",
    "    instance = next(x for x in dataset if x[\"id\"] == idx)\n",
    "\n",
    "    instance[\"mapping\"] = mapping\n",
    "\n",
    "set_mapping(639, {\"TARGET E\": \"Alberto\"})\n",
    "set_mapping(1291, {\"TARGET C\": \"Gobierno\", \"TARGET E\": [\"Alberto F.\", \"Cristina Kirchner\"]}, keep=False)\n",
    "set_mapping(2060, {\"TARGET C\": [\"Gobierno\", \"Mauricio Macri\"]}, keep=False)\n",
    "set_mapping(2057, {\"TARGET C\": \"Mauricio Macri\", \"TARGET E\": \"Alberto Fernández\"})\n",
    "set_mapping(2158, {\"TARGET C\": [\"Gobierno\", \"Macri\"]}, keep=False)\n",
    "set_mapping(2423, {\"TARGET C\": \"Gobierno\", \"TARGET E\": \"Alberto Fernández\"}, keep=False)\n",
    "set_mapping(4600, {\"TARGET E\": \"Alberto\"})\n",
    "set_mapping(4783, {\"TARGET A\": \"Espert\", \"TARGET D\": \"Nico del Caño\"})\n",
    "set_mapping(4885, {\"TARGET B\": \"Roberto Lavagna\", \"TARGET C\": \"Gobierno\"})\n",
    "set_mapping(4936, {\"TARGET B\": [\"Roberto Lavagna\", \"Consenso Federal\"], \"TARGET C\": \"Gobierno\"})\n",
    "set_mapping(5061, {\"TARGET C\": \"Gobierno\", \"TARGET E\": \"Alberto Fernández\"})\n",
    "set_mapping(5338, {\"TARGET C\": \"Mauricio Macri\", \"TARGET E\": \"peronismo\"})\n",
    "set_mapping(5453, {\"TARGET E\": \"Alberto\"})\n",
    "set_mapping(5070, {\"TARGET A\": \"José Luis Espert\", \"TARGET D\": \"Nicolás del Caño\"})\n",
    "set_mapping(5804, {\"TARGET E\": \"Alberto Fernández\", \"TARGET C\": \"gobierno\"})\n",
    "set_mapping(6014, {\"TARGET B\": \"Roberto Lavagna\", \"TARGET C\": \"Gobierno\"})\n",
    "set_mapping(6605, {\"TARGET C\": \"Gobierno\", \"TARGET E\": \"Alberto Fernández\"})\n",
    "set_mapping(7429, {\"TARGET C\": \"Gobierno\", \"TARGET E\": \"Alberto Fernández\"})\n",
    "set_mapping(7725, {\"TARGET C\": \"gobierno\", \"TARGET E\": \"Alberto Fernández\"})\n",
    "set_mapping(8131, {\"TARGET C\": \"gobierno\", \"TARGET E\": \"Alberto Fernández\"})\n",
    "set_mapping(10204, {\"TARGET E\": \"PJ\"})\n",
    "set_mapping(10513, {\"TARGET B\": \"Roberto Lavagna\", \"TARGET C\": \"Mauricio Macri\", \"TARGET E\": \"Alberto Fernández\"})\n",
    "set_mapping(10748, {\"TARGET C\": \"gobierno\", \"TARGET E\": \"Alberto Fernández\"})\n",
    "set_mapping(11474, {\"TARGET C\": \"gobierno\", \"TARGET E\": \"Alberto Fernández\"})\n",
    "set_mapping(12462, {\"TARGET C\": \"Gobierno\", \"TARGET E\": \"Cristina\"})\n",
    "set_mapping(14150, {\"TARGET C\": \"Macri\", \"TARGET E\": \"Alberto F.\"})\n",
    "set_mapping(15856, {\"TARGET B\": \"Roberto Lavagna\", \"TARGET C\": \"Gobierno\"})\n",
    "set_mapping(16255, {\"TARGET C\": [\"Gobierno\", \"Macri\"]})\n",
    "set_mapping(16134, {\"TARGET B\": \"Lavagna\", \"TARGET C\": \"Gobierno\"})\n",
    "set_mapping(16424, {\"TARGET C\": \"Mauricio Macri\", \"TARGET E\": \"Alberto Fernández\"})\n",
    "set_mapping(17935, {\"TARGET C\": \"Gobierno\", \"TARGET E\": \"CFK\"})\n",
    "set_mapping(18449, {\"TARGET C\": \"Mauricio Macri\", \"TARGET E\": \"Alberto Fernández\"})\n",
    "set_mapping(18467, {\"TARGET A\": \"José Luis Espert\", \"TARGET C\": \"Mauricio Macri\", \"TARGET E\": \"kirchnerismo\"})\n",
    "set_mapping(19447, {\"TARGET C\": \"Gobierno\"})\n",
    "set_mapping(20433, {\"TARGET C\": \"Mauricio Macri\"})\n",
    "set_mapping(21233, {\"TARGET C\": \"Mauricio Macri\", \"TARGET E\": \"Alberto Fernández\"})\n",
    "set_mapping(21483, {\"TARGET C\": \"Gobierno\", \"TARGET E\": \"peronismo\"})\n",
    "set_mapping(22381, {\"TARGET E\": \"Alberto Fernández\"})\n",
    "delete_ids = [2219]\n",
    "\n",
    "dataset = [x for x in dataset if x[\"id\"] not in delete_ids]\n",
    "\n",
    "[x for x in dataset if \"mapping\" not in x or x[\"id\"] in set_ids]"
   ]
  },
  {
   "cell_type": "code",
   "execution_count": 6,
   "metadata": {},
   "outputs": [
    {
     "data": {
      "text/html": [
       "<div>\n",
       "<style scoped>\n",
       "    .dataframe tbody tr th:only-of-type {\n",
       "        vertical-align: middle;\n",
       "    }\n",
       "\n",
       "    .dataframe tbody tr th {\n",
       "        vertical-align: top;\n",
       "    }\n",
       "\n",
       "    .dataframe thead th {\n",
       "        text-align: right;\n",
       "    }\n",
       "</style>\n",
       "<table border=\"1\" class=\"dataframe\">\n",
       "  <thead>\n",
       "    <tr style=\"text-align: right;\">\n",
       "      <th></th>\n",
       "      <th>titulo_mask</th>\n",
       "      <th>etiquetado</th>\n",
       "      <th>TARGET A</th>\n",
       "      <th>TARGET B</th>\n",
       "      <th>TARGET C</th>\n",
       "      <th>TARGET D</th>\n",
       "      <th>TARGET E</th>\n",
       "      <th>TARGET F</th>\n",
       "      <th>titulo</th>\n",
       "    </tr>\n",
       "    <tr>\n",
       "      <th>anotador</th>\n",
       "      <th></th>\n",
       "      <th></th>\n",
       "      <th></th>\n",
       "      <th></th>\n",
       "      <th></th>\n",
       "      <th></th>\n",
       "      <th></th>\n",
       "      <th></th>\n",
       "      <th></th>\n",
       "    </tr>\n",
       "  </thead>\n",
       "  <tbody>\n",
       "    <tr>\n",
       "      <th>e2</th>\n",
       "      <td>[TARGET E] . le respondió a [TARGET C] por \"el...</td>\n",
       "      <td>SI</td>\n",
       "      <td>NaN</td>\n",
       "      <td>NaN</td>\n",
       "      <td>NEG</td>\n",
       "      <td>NaN</td>\n",
       "      <td>POS</td>\n",
       "      <td>NaN</td>\n",
       "      <td>Alberto F. le respondió a Macri por \"el dedito...</td>\n",
       "    </tr>\n",
       "    <tr>\n",
       "      <th>e3</th>\n",
       "      <td>[TARGET E] . le respondió a [TARGET C] por \"el...</td>\n",
       "      <td>SI</td>\n",
       "      <td>NaN</td>\n",
       "      <td>NaN</td>\n",
       "      <td>POS</td>\n",
       "      <td>NaN</td>\n",
       "      <td>NEG</td>\n",
       "      <td>NaN</td>\n",
       "      <td>Alberto F. le respondió a Macri por \"el dedito...</td>\n",
       "    </tr>\n",
       "    <tr>\n",
       "      <th>et1</th>\n",
       "      <td>[TARGET E] . le respondió a [TARGET C] por \"el...</td>\n",
       "      <td>SI</td>\n",
       "      <td>NaN</td>\n",
       "      <td>NaN</td>\n",
       "      <td>NEG</td>\n",
       "      <td>NaN</td>\n",
       "      <td>NEU</td>\n",
       "      <td>NaN</td>\n",
       "      <td>Alberto F. le respondió a Macri por \"el dedito...</td>\n",
       "    </tr>\n",
       "  </tbody>\n",
       "</table>\n",
       "</div>"
      ],
      "text/plain": [
       "                                                titulo_mask etiquetado  \\\n",
       "anotador                                                                 \n",
       "e2        [TARGET E] . le respondió a [TARGET C] por \"el...         SI   \n",
       "e3        [TARGET E] . le respondió a [TARGET C] por \"el...         SI   \n",
       "et1       [TARGET E] . le respondió a [TARGET C] por \"el...         SI   \n",
       "\n",
       "         TARGET A TARGET B TARGET C TARGET D TARGET E TARGET F  \\\n",
       "anotador                                                         \n",
       "e2            NaN      NaN      NEG      NaN      POS      NaN   \n",
       "e3            NaN      NaN      POS      NaN      NEG      NaN   \n",
       "et1           NaN      NaN      NEG      NaN      NEU      NaN   \n",
       "\n",
       "                                                     titulo  \n",
       "anotador                                                     \n",
       "e2        Alberto F. le respondió a Macri por \"el dedito...  \n",
       "e3        Alberto F. le respondió a Macri por \"el dedito...  \n",
       "et1       Alberto F. le respondió a Macri por \"el dedito...  "
      ]
     },
     "execution_count": 6,
     "metadata": {},
     "output_type": "execute_result"
    }
   ],
   "source": [
    "annotator_df.loc[14150]"
   ]
  },
  {
   "cell_type": "code",
   "execution_count": 7,
   "metadata": {},
   "outputs": [
    {
     "ename": "NameError",
     "evalue": "name 'instance' is not defined",
     "output_type": "error",
     "traceback": [
      "\u001b[0;31m---------------------------------------------------------------------------\u001b[0m",
      "\u001b[0;31mNameError\u001b[0m                                 Traceback (most recent call last)",
      "\u001b[0;32m<ipython-input-7-50ea46c38cd9>\u001b[0m in \u001b[0;36m<module>\u001b[0;34m\u001b[0m\n\u001b[0;32m----> 1\u001b[0;31m \u001b[0minstance\u001b[0m\u001b[0;34m\u001b[0m\u001b[0;34m\u001b[0m\u001b[0m\n\u001b[0m",
      "\u001b[0;31mNameError\u001b[0m: name 'instance' is not defined"
     ]
    }
   ],
   "source": [
    "instance"
   ]
  },
  {
   "cell_type": "code",
   "execution_count": null,
   "metadata": {},
   "outputs": [
    {
     "data": {
      "text/plain": [
       "{'titulo': 'Barrio Aeroclub: la Izquierda propone urbanización y adjudicación de terrenos',\n",
       " 'id': 23,\n",
       " 'labels': {'l': 'POS',\n",
       "  'a': 'POS',\n",
       "  ' ': 'POS',\n",
       "  'I': 'POS',\n",
       "  'z': 'POS',\n",
       "  'q': 'POS',\n",
       "  'u': 'POS',\n",
       "  'i': 'POS',\n",
       "  'e': 'POS',\n",
       "  'r': 'POS',\n",
       "  'd': 'POS'}}"
      ]
     },
     "execution_count": 144,
     "metadata": {},
     "output_type": "execute_result"
    }
   ],
   "source": [
    "clean_dataset[0]"
   ]
  },
  {
   "cell_type": "code",
   "execution_count": 9,
   "metadata": {},
   "outputs": [
    {
     "name": "stdout",
     "output_type": "stream",
     "text": [
      "Cantidad de titulares:  1930\n",
      "Cantidad de targets:  2236\n"
     ]
    }
   ],
   "source": [
    "def clean_instance(instance):\n",
    "    ret = {k:instance[k] for k in [\"titulo\", \"id\"]}\n",
    "\n",
    "    ret[\"labels\"] = {}\n",
    "    \n",
    "    for k, label in instance[\"targets\"].items():\n",
    "        names = instance[\"mapping\"][k]\n",
    "\n",
    "        if isinstance(names, str):\n",
    "            names = [names]\n",
    "\n",
    "        for name in names:\n",
    "            ret[\"labels\"][name] = label\n",
    "    return ret\n",
    "\n",
    "\n",
    "clean_dataset = [clean_instance(instance) for instance in dataset]\n",
    "    \n",
    "#clean_dataset = [clean_instance(instance) for instance in dataset]\n",
    "print(\"Cantidad de titulares: \", len(clean_dataset))\n",
    "print(\"Cantidad de targets: \", sum([len(l[\"labels\"])for l in clean_dataset]))\n",
    "\n"
   ]
  },
  {
   "cell_type": "markdown",
   "metadata": {},
   "source": [
    "Saquemos espacios espurios de "
   ]
  },
  {
   "cell_type": "markdown",
   "metadata": {},
   "source": [
    "## Sanity check"
   ]
  },
  {
   "cell_type": "code",
   "execution_count": 15,
   "metadata": {},
   "outputs": [
    {
     "name": "stdout",
     "output_type": "stream",
     "text": [
      "{'titulo': 'Clase media, empleo y pymes, los ejes del plan de gobierno de Macri', 'id': 2158, 'labels': {'Gobierno': 'POS', 'Macri': 'POS'}}\n",
      "Gobierno\n",
      "{'titulo': 'Fabiola Yáñez: \"Este Gobierno no tiene empatía con nadie\" | Entrevista exclusiva con la pareja de Alberto Fernández', 'id': 8131, 'labels': {'gobierno': 'NEG', 'Alberto Fernández': 'POS'}}\n",
      "gobierno\n",
      "{'titulo': 'Alberto Fernández advirtió que el país “está virtualmente defaulteado, el Gobierno dijo que no puede pagar”', 'id': 10748, 'labels': {'gobierno': 'NEG', 'Alberto Fernández': 'POS'}}\n",
      "gobierno\n",
      "{'titulo': 'Polémica entre el Gobierno y Alberto Fernández por la \"ley mentira\", el proyecto para ampliar el falso testimonio', 'id': 11474, 'labels': {'gobierno': 'NEG', 'Alberto Fernández': 'NEG'}}\n",
      "gobierno\n",
      "{'titulo': 'Cristina juega al silencio pero influye en la campaña y los proyectos de gobierno', 'id': 12462, 'labels': {'Gobierno': 'NEU'}}\n",
      "Gobierno\n",
      "{'titulo': 'Por error, y en plena veda, TN dio por ganador a Alberto Férnandez', 'id': 22381, 'labels': {'Alberto Fernández': 'NEU'}}\n",
      "Alberto Fernández\n"
     ]
    }
   ],
   "source": [
    "for instance in clean_dataset:\n",
    "    for k, v in instance[\"labels\"].items():\n",
    "        if k not in instance[\"titulo\"]:\n",
    "            print(instance)\n",
    "            print(k)"
   ]
  },
  {
   "cell_type": "markdown",
   "metadata": {},
   "source": [
    "Nada grave"
   ]
  }
 ],
 "metadata": {
  "colab": {
   "collapsed_sections": [],
   "name": "Noticias Neuro",
   "provenance": [],
   "toc_visible": true
  },
  "interpreter": {
   "hash": "c22e1f0f586e152b720d45074bb422dadc7ff3eb06c32e08d5ec49d7ee1ec582"
  },
  "kernelspec": {
   "display_name": "Python 3.8.5 64-bit ('3.8.5': pyenv)",
   "name": "python3"
  },
  "language_info": {
   "codemirror_mode": {
    "name": "ipython",
    "version": 3
   },
   "file_extension": ".py",
   "mimetype": "text/x-python",
   "name": "python",
   "nbconvert_exporter": "python",
   "pygments_lexer": "ipython3",
   "version": "3.8.5"
  }
 },
 "nbformat": 4,
 "nbformat_minor": 4
}