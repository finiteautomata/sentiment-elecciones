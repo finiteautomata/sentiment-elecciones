{
 "cells": [
  {
   "cell_type": "code",
   "execution_count": 3,
   "metadata": {},
   "outputs": [
    {
     "name": "stderr",
     "output_type": "stream",
     "text": [
      "Using custom data configuration pysentimiento___spanish-targeted-sentiment-headlines-f4dfbfb5bf09500e\n",
      "Reusing dataset parquet (/home/jmperez/.cache/huggingface/datasets/parquet/pysentimiento___spanish-targeted-sentiment-headlines-f4dfbfb5bf09500e/0.0.0/1638526fd0e8d960534e2155dc54fdff8dce73851f21f031d2fb9c2cf757c121)\n",
      "100%|██████████| 3/3 [00:00<00:00, 233.35it/s]\n"
     ]
    }
   ],
   "source": [
    "from datasets import load_dataset, concatenate_datasets\n",
    "\n",
    "ds = load_dataset(\"pysentimiento/spanish-targeted-sentiment-headlines\")\n",
    "\n",
    "dataset = concatenate_datasets(list(ds.values()))"
   ]
  },
  {
   "cell_type": "code",
   "execution_count": 8,
   "metadata": {},
   "outputs": [],
   "source": [
    "df = dataset.to_pandas()\n",
    "\n",
    "id2label = {0: \"negative\", 1: \"neutral\", 2: \"positive\"}\n",
    "\n",
    "df[\"label\"] = df[\"label\"].apply(lambda x: id2label[x])\n"
   ]
  },
  {
   "cell_type": "code",
   "execution_count": 11,
   "metadata": {},
   "outputs": [
    {
     "data": {
      "text/html": [
       "<div>\n",
       "<style scoped>\n",
       "    .dataframe tbody tr th:only-of-type {\n",
       "        vertical-align: middle;\n",
       "    }\n",
       "\n",
       "    .dataframe tbody tr th {\n",
       "        vertical-align: top;\n",
       "    }\n",
       "\n",
       "    .dataframe thead th {\n",
       "        text-align: right;\n",
       "    }\n",
       "</style>\n",
       "<table border=\"1\" class=\"dataframe\">\n",
       "  <thead>\n",
       "    <tr style=\"text-align: right;\">\n",
       "      <th></th>\n",
       "      <th>label</th>\n",
       "    </tr>\n",
       "    <tr>\n",
       "      <th>id_noticia</th>\n",
       "      <th></th>\n",
       "    </tr>\n",
       "  </thead>\n",
       "  <tbody>\n",
       "    <tr>\n",
       "      <th>23</th>\n",
       "      <td>[positive]</td>\n",
       "    </tr>\n",
       "    <tr>\n",
       "      <th>24</th>\n",
       "      <td>[positive]</td>\n",
       "    </tr>\n",
       "    <tr>\n",
       "      <th>31</th>\n",
       "      <td>[neutral]</td>\n",
       "    </tr>\n",
       "    <tr>\n",
       "      <th>39</th>\n",
       "      <td>[positive, negative]</td>\n",
       "    </tr>\n",
       "    <tr>\n",
       "      <th>75</th>\n",
       "      <td>[negative]</td>\n",
       "    </tr>\n",
       "    <tr>\n",
       "      <th>...</th>\n",
       "      <td>...</td>\n",
       "    </tr>\n",
       "    <tr>\n",
       "      <th>22608</th>\n",
       "      <td>[neutral]</td>\n",
       "    </tr>\n",
       "    <tr>\n",
       "      <th>22611</th>\n",
       "      <td>[positive]</td>\n",
       "    </tr>\n",
       "    <tr>\n",
       "      <th>22612</th>\n",
       "      <td>[positive]</td>\n",
       "    </tr>\n",
       "    <tr>\n",
       "      <th>22616</th>\n",
       "      <td>[neutral]</td>\n",
       "    </tr>\n",
       "    <tr>\n",
       "      <th>22617</th>\n",
       "      <td>[positive, negative]</td>\n",
       "    </tr>\n",
       "  </tbody>\n",
       "</table>\n",
       "<p>1976 rows × 1 columns</p>\n",
       "</div>"
      ],
      "text/plain": [
       "                           label\n",
       "id_noticia                      \n",
       "23                    [positive]\n",
       "24                    [positive]\n",
       "31                     [neutral]\n",
       "39          [positive, negative]\n",
       "75                    [negative]\n",
       "...                          ...\n",
       "22608                  [neutral]\n",
       "22611                 [positive]\n",
       "22612                 [positive]\n",
       "22616                  [neutral]\n",
       "22617       [positive, negative]\n",
       "\n",
       "[1976 rows x 1 columns]"
      ]
     },
     "execution_count": 11,
     "metadata": {},
     "output_type": "execute_result"
    }
   ],
   "source": [
    "# Aggregate by id_noticia, calculate co-ocurrence of labels\n",
    "\n",
    "df_agg = df.groupby(\"id_noticia\").agg({\"label\": lambda x: list(x)})\n",
    "\n",
    "df_agg"
   ]
  },
  {
   "cell_type": "code",
   "execution_count": 23,
   "metadata": {},
   "outputs": [],
   "source": [
    "# Create a dataframe with positive, negative, neutral columns and rows, and set them to 0\n",
    "import pandas as pd\n",
    "\n",
    "df_coocurrence = pd.DataFrame(columns=[\"positive\", \"neutral\", \"negative\"], index=[\"positive\", \"neutral\", \"negative\", ])\n",
    "df_coocurrence = df_coocurrence.fillna(0)\n",
    "\n",
    "for idx, row in df_agg.iterrows():\n",
    "    labels = row[\"label\"]\n",
    "\n",
    "    for i in range(len(labels)):\n",
    "        label1 = labels[i]\n",
    "        for j in range(i+1, len(labels)):\n",
    "            label2 = labels[j]\n",
    "            df_coocurrence.loc[label1, label2] += 1\n",
    "            df_coocurrence.loc[label2, label1] += 1"
   ]
  },
  {
   "cell_type": "code",
   "execution_count": 24,
   "metadata": {},
   "outputs": [
    {
     "data": {
      "text/html": [
       "<div>\n",
       "<style scoped>\n",
       "    .dataframe tbody tr th:only-of-type {\n",
       "        vertical-align: middle;\n",
       "    }\n",
       "\n",
       "    .dataframe tbody tr th {\n",
       "        vertical-align: top;\n",
       "    }\n",
       "\n",
       "    .dataframe thead th {\n",
       "        text-align: right;\n",
       "    }\n",
       "</style>\n",
       "<table border=\"1\" class=\"dataframe\">\n",
       "  <thead>\n",
       "    <tr style=\"text-align: right;\">\n",
       "      <th></th>\n",
       "      <th>positive</th>\n",
       "      <th>neutral</th>\n",
       "      <th>negative</th>\n",
       "    </tr>\n",
       "  </thead>\n",
       "  <tbody>\n",
       "    <tr>\n",
       "      <th>positive</th>\n",
       "      <td>186</td>\n",
       "      <td>15</td>\n",
       "      <td>166</td>\n",
       "    </tr>\n",
       "    <tr>\n",
       "      <th>neutral</th>\n",
       "      <td>15</td>\n",
       "      <td>292</td>\n",
       "      <td>19</td>\n",
       "    </tr>\n",
       "    <tr>\n",
       "      <th>negative</th>\n",
       "      <td>166</td>\n",
       "      <td>19</td>\n",
       "      <td>172</td>\n",
       "    </tr>\n",
       "  </tbody>\n",
       "</table>\n",
       "</div>"
      ],
      "text/plain": [
       "          positive  neutral  negative\n",
       "positive       186       15       166\n",
       "neutral         15      292        19\n",
       "negative       166       19       172"
      ]
     },
     "execution_count": 24,
     "metadata": {},
     "output_type": "execute_result"
    }
   ],
   "source": [
    "df_coocurrence"
   ]
  },
  {
   "cell_type": "code",
   "execution_count": 33,
   "metadata": {},
   "outputs": [
    {
     "data": {
      "image/png": "[encoded data removed]",
      "text/plain": [
       "<Figure size 1080x720 with 1 Axes>"
      ]
     },
     "metadata": {
      "needs_background": "light"
     },
     "output_type": "display_data"
    }
   ],
   "source": [
    "# Heat map of co-ocurrence\n",
    "import seaborn as sns\n",
    "import matplotlib.pyplot as plt\n",
    "\n",
    "\n",
    "plt.figure(figsize=(15, 10))\n",
    "# Big font size\n",
    "sns.set(font_scale=2)\n",
    "# Don't show bar\n",
    "sns.heatmap(df_coocurrence.astype(int), annot=True, fmt=\"d\", cmap=\"viridis\", cbar=False)\n",
    "\n",
    "# Save as pdf\n",
    "plt.savefig(\"co-ocurrence.pdf\")"
   ]
  },
  {
   "cell_type": "code",
   "execution_count": 35,
   "metadata": {},
   "outputs": [
    {
     "data": {
      "text/plain": [
       "positive    962\n",
       "neutral     767\n",
       "negative    710\n",
       "Name: label, dtype: int64"
      ]
     },
     "execution_count": 35,
     "metadata": {},
     "output_type": "execute_result"
    }
   ],
   "source": [
    "\n",
    "df[\"label\"].value_counts()"
   ]
  },
  {
   "cell_type": "code",
   "execution_count": 39,
   "metadata": {},
   "outputs": [
    {
     "name": "stdout",
     "output_type": "stream",
     "text": [
      "Alberto Fernández                          577\n",
      "Macri                                      548\n",
      "Mauricio Macri                             313\n",
      "Cristina Kirchner                           94\n",
      "Cristina                                    86\n",
      "Alberto                                     83\n",
      "Lavagna                                     63\n",
      "Del Caño                                    47\n",
      "Cambiemos                                   46\n",
      "peronismo                                   41\n",
      "Roberto Lavagna                             41\n",
      "Alberto F                                   38\n",
      "Fernández                                   36\n",
      "la izquierda                                35\n",
      "Pichetto                                    30\n",
      "Juntos por el Cambio                        28\n",
      "Frente de Izquierda Unidad                  25\n",
      "Gobierno                                    24\n",
      "Frente de Izquierda                         23\n",
      "kirchnerismo                                20\n",
      "Nicolás del Caño                            19\n",
      "Miguel Ángel Pichetto                       18\n",
      "FIT Unidad                                  18\n",
      "Frente de Todos                             16\n",
      "Urtubey                                     14\n",
      "Espert                                      14\n",
      "FIT                                         13\n",
      "Gómez Centurión                             12\n",
      "Miguel Pichetto                             12\n",
      "CFK                                         12\n",
      "José Luis Espert                            10\n",
      "izquierda                                   10\n",
      "La izquierda                                 9\n",
      "PJ                                           4\n",
      "gobierno                                     4\n",
      "Cristina Fernández                           3\n",
      "Nicolás Del Caño                             3\n",
      "FIT - Unidad                                 3\n",
      "La Izquierda                                 3\n",
      "Cristina Fernández de Kirchner               3\n",
      "Juan Manuel Urtubey                          3\n",
      "Mauricio                                     2\n",
      "FIT-U                                        2\n",
      "Alberto Fernandez                            2\n",
      "del Caño                                     2\n",
      "Frente de Izquierda-Unidad                   2\n",
      "PRO                                          2\n",
      "macri                                        2\n",
      "PTS-FIT U                                    2\n",
      "Hotton                                       2\n",
      "fit                                          1\n",
      "Juntos por el cambio                         1\n",
      "Frente de Izquierda – Unidad                 1\n",
      "Frente de todos                              1\n",
      "Izquierda                                    1\n",
      "Frente NOS                                   1\n",
      "Fit                                          1\n",
      "Romina del Pla                               1\n",
      "lista Unidad del Frente de Izquierda         1\n",
      "gobierno k                                   1\n",
      "la Lista Unidad del Frente de Izquierda      1\n",
      "este gobierno                                1\n",
      "Nico del Caño                                1\n",
      "Peronismo                                    1\n",
      "FIT U                                        1\n",
      "cambiemos                                    1\n",
      "Del Plá                                      1\n",
      "Cynthia Hotton                               1\n",
      "Consenso Federal                             1\n",
      "la Izquierda                                 1\n",
      "Name: target, dtype: int64\n"
     ]
    }
   ],
   "source": [
    "pd.options.display.max_rows = 100\n",
    "print(df[\"target\"].value_counts())"
   ]
  },
  {
   "cell_type": "code",
   "execution_count": null,
   "metadata": {},
   "outputs": [],
   "source": []
  }
 ],
 "metadata": {
  "kernelspec": {
   "display_name": "Python 3",
   "language": "python",
   "name": "python3"
  },
  "language_info": {
   "codemirror_mode": {
    "name": "ipython",
    "version": 3
   },
   "file_extension": ".py",
   "mimetype": "text/x-python",
   "name": "python",
   "nbconvert_exporter": "python",
   "pygments_lexer": "ipython3",
   "version": "3.8.12"
  },
  "orig_nbformat": 4
 },
 "nbformat": 4,
 "nbformat_minor": 2
}
